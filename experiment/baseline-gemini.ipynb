{
 "cells": [
  {
   "metadata": {},
   "cell_type": "markdown",
   "source": [
    "Load the environment variables from a .env file\n",
    "\n",
    "To get an api key, navigate to https://aistudio.google.com/apikey to create one. Then create a .env file in the same directory as this notebook with the following content:\n",
    "```GOOGLE_API_KEY=your_api_key_here```\n"
   ],
   "id": "9c2465d3c199fe67"
  },
  {
   "metadata": {
    "ExecuteTime": {
     "end_time": "2025-05-29T13:06:07.952546Z",
     "start_time": "2025-05-29T13:06:07.945161Z"
    }
   },
   "cell_type": "code",
   "source": [
    "from dotenv import load_dotenv\n",
    "import os\n",
    "\n",
    "load_dotenv()\n",
    "api_key = os.getenv(\"GOOGLE_API_KEY\")"
   ],
   "id": "fc796ccc64ede7ff",
   "outputs": [],
   "execution_count": 17
  },
  {
   "cell_type": "code",
   "id": "initial_id",
   "metadata": {
    "collapsed": true,
    "ExecuteTime": {
     "end_time": "2025-05-29T12:40:17.704069Z",
     "start_time": "2025-05-29T12:40:16.415747Z"
    }
   },
   "source": [
    "from google import genai\n",
    "from pydantic import BaseModel\n",
    "\n",
    "class Recipe(BaseModel):\n",
    "    medicijn: str\n",
    "    categorie: str\n",
    "    recept: str\n",
    "    medische_vraag: str\n",
    "\n",
    "client = genai.Client(api_key=api_key)\n",
    "response = client.models.generate_content(\n",
    "    model=\"gemini-2.0-flash\",\n",
    "    contents=\"Ik heb een infectie waarvoor ik een antibioticum nodig heb. Welk middel kan ik gebruiken?\",\n",
    "    config={\n",
    "        \"response_mime_type\": \"application/json\",\n",
    "        \"response_schema\": Recipe,\n",
    "        \"system_instruction\": \"Formuleer het recept volgens template 'Rp. [Medicijnnaam] [Sterkte] [Vorm]\\ndtd. No. [Aantal]\\n S. [Instructie]'. Geef bij de instructie ook de duur van de behandeling aan.\",\n",
    "    },\n",
    ")\n",
    "\n",
    "print(response.text)"
   ],
   "outputs": [
    {
     "name": "stdout",
     "output_type": "stream",
     "text": [
      "{\n",
      "  \"medicijn\": \"Amoxicilline\",\n",
      "  \"categorie\": \"Antibioticum\",\n",
      "  \"recept\": \"Rp. Amoxicilline 500mg capsules\\ndtd. No. 21\\nS. driemaal daags 1 capsule gedurende 7 dagen.\",\n",
      "  \"medische_vraag\": \"Ik heb een infectie waarvoor ik een antibioticum nodig heb. Welk middel kan ik gebruiken?\"\n",
      "}\n"
     ]
    }
   ],
   "execution_count": 16
  }
 ],
 "metadata": {
  "kernelspec": {
   "display_name": "Python 3",
   "language": "python",
   "name": "python3"
  },
  "language_info": {
   "codemirror_mode": {
    "name": "ipython",
    "version": 2
   },
   "file_extension": ".py",
   "mimetype": "text/x-python",
   "name": "python",
   "nbconvert_exporter": "python",
   "pygments_lexer": "ipython2",
   "version": "2.7.6"
  }
 },
 "nbformat": 4,
 "nbformat_minor": 5
}
