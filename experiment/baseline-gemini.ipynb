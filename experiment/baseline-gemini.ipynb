{
 "cells": [
  {
   "metadata": {},
   "cell_type": "markdown",
   "source": [
    "Load the environment variables from a .env file\n",
    "\n",
    "To get an api key, navigate to https://aistudio.google.com/apikey to create one. Then create a .env file in the same directory as this notebook with the following content:\n",
    "```GOOGLE_API_KEY=your_api_key_here```\n"
   ],
   "id": "9c2465d3c199fe67"
  },
  {
   "metadata": {
    "ExecuteTime": {
     "end_time": "2025-05-29T13:06:07.952546Z",
     "start_time": "2025-05-29T13:06:07.945161Z"
    }
   },
   "cell_type": "code",
   "source": [
    "from dotenv import load_dotenv\n",
    "import os\n",
    "\n",
    "load_dotenv()\n",
    "api_key = os.getenv(\"GOOGLE_API_KEY\")"
   ],
   "id": "fc796ccc64ede7ff",
   "outputs": [],
   "execution_count": 17
  },
  {
   "metadata": {},
   "cell_type": "markdown",
   "source": "Single shot question answering with Gemini 2.0 Flash to check correct working of the code",
   "id": "272d7608ac86dccd"
  },
  {
   "cell_type": "code",
   "id": "initial_id",
   "metadata": {
    "collapsed": true,
    "ExecuteTime": {
     "end_time": "2025-05-29T13:11:01.802739Z",
     "start_time": "2025-05-29T13:11:00.000445Z"
    }
   },
   "source": [
    "from google import genai\n",
    "from pydantic import BaseModel\n",
    "\n",
    "class Recipe(BaseModel):\n",
    "    medicijn: str\n",
    "    categorie: str\n",
    "    recept: str\n",
    "    medische_vraag: str\n",
    "\n",
    "client = genai.Client(api_key=api_key)\n",
    "response = client.models.generate_content(\n",
    "    model=\"gemini-2.0-flash\",\n",
    "    contents=\"Ik heb een infectie waarvoor ik een antibioticum nodig heb. Welk middel kan ik gebruiken?\",\n",
    "    config={\n",
    "        \"response_mime_type\": \"application/json\",\n",
    "        \"response_schema\": Recipe,\n",
    "        \"system_instruction\": \"Formuleer het recept volgens template 'Rp. [Medicijnnaam] [Sterkte] [Vorm]\\ndtd. No. [Aantal]\\n S. [Instructie]'. Geef bij de instructie ook de duur van de behandeling aan.\",\n",
    "    },\n",
    ")\n",
    "\n",
    "print(response.text)"
   ],
   "outputs": [
    {
     "name": "stdout",
     "output_type": "stream",
     "text": [
      "{\n",
      "  \"medicijn\": \"Amoxicilline\",\n",
      "  \"categorie\": \"Antibioticum\",\n",
      "  \"recept\": \"Rp. Amoxicilline 500mg capsules\\ndtd. No. 21\\nS. Driemaal daags 1 capsule gedurende 7 dagen.\",\n",
      "  \"medische_vraag\": \"Ik heb een infectie waarvoor ik een antibioticum nodig heb. Welk middel kan ik gebruiken?\"\n",
      "}\n"
     ]
    }
   ],
   "execution_count": 19
  },
  {
   "metadata": {},
   "cell_type": "markdown",
   "source": "Create a function to get a recipe based on a medical question",
   "id": "62a4c2f4b9c89c41"
  },
  {
   "metadata": {
    "ExecuteTime": {
     "end_time": "2025-05-29T13:13:04.623774Z",
     "start_time": "2025-05-29T13:13:03.244601Z"
    }
   },
   "cell_type": "code",
   "source": [
    "def get_recipe(medical_question: str) -> Recipe:\n",
    "    response = client.models.generate_content(\n",
    "        model=\"gemini-2.0-flash\",\n",
    "        contents=medical_question,\n",
    "        config={\n",
    "            \"response_mime_type\": \"application/json\",\n",
    "            \"response_schema\": Recipe,\n",
    "            \"system_instruction\": \"Formuleer het recept volgens template 'Rp. [Medicijnnaam] [Sterkte] [Vorm]\\ndtd. No. [Aantal]\\n S. [Instructie]'. Geef bij de instructie ook de duur van de behandeling aan.\",\n",
    "        },\n",
    "    )\n",
    "    return response.parsed\n",
    "\n",
    "recipe = get_recipe(\"Ik heb last van brandend maagzuur of zure reflux. Wat kan ik hiervoor nemen?\")\n",
    "print(recipe.model_dump_json())\n"
   ],
   "id": "500964db2b7817d4",
   "outputs": [
    {
     "name": "stdout",
     "output_type": "stream",
     "text": [
      "{\"medicijn\":\"Omeprazol\",\"categorie\":\"Maagbeschermer\",\"recept\":\"Rp. Omeprazol 20mg capsule\\ndtd. No. 30\\nS. 1 capsule 's ochtends innemen gedurende 30 dagen\",\"medische_vraag\":\"Ik heb last van brandend maagzuur of zure reflux. Wat kan ik hiervoor nemen?\"}\n"
     ]
    }
   ],
   "execution_count": 22
  }
 ],
 "metadata": {
  "kernelspec": {
   "display_name": "Python 3",
   "language": "python",
   "name": "python3"
  },
  "language_info": {
   "codemirror_mode": {
    "name": "ipython",
    "version": 2
   },
   "file_extension": ".py",
   "mimetype": "text/x-python",
   "name": "python",
   "nbconvert_exporter": "python",
   "pygments_lexer": "ipython2",
   "version": "2.7.6"
  }
 },
 "nbformat": 4,
 "nbformat_minor": 5
}
