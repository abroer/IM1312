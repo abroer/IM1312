{
 "cells": [
  {
   "metadata": {},
   "cell_type": "markdown",
   "source": [
    "Load the environment variables from a .env file\n",
    "\n",
    "To get an api key, navigate to https://aistudio.google.com/apikey to create one. Then create a .env file in the same directory as this notebook with the following content:\n",
    "```GOOGLE_API_KEY=your_api_key_here```\n"
   ],
   "id": "9c2465d3c199fe67"
  },
  {
   "metadata": {
    "ExecuteTime": {
     "end_time": "2025-06-30T20:12:05.973640Z",
     "start_time": "2025-06-30T20:12:05.194628Z"
    }
   },
   "cell_type": "code",
   "source": [
    "from google import genai\n",
    "from dotenv import load_dotenv\n",
    "import os\n",
    "\n",
    "load_dotenv()\n",
    "api_key = os.getenv(\"GOOGLE_API_KEY\")\n",
    "client = genai.Client(api_key=api_key)"
   ],
   "id": "fc796ccc64ede7ff",
   "outputs": [],
   "execution_count": 1
  },
  {
   "metadata": {},
   "cell_type": "markdown",
   "source": "Single shot question answering with Gemini 2.0 Flash to check correct working of the code",
   "id": "272d7608ac86dccd"
  },
  {
   "cell_type": "code",
   "id": "initial_id",
   "metadata": {
    "collapsed": true,
    "ExecuteTime": {
     "end_time": "2025-06-30T20:12:05.997999Z",
     "start_time": "2025-06-30T20:12:05.993723Z"
    }
   },
   "source": [
    "from pydantic import BaseModel\n",
    "\n",
    "\n",
    "class Recipe(BaseModel):\n",
    "    medicijn: str\n",
    "    categorie: str\n",
    "    recept: str\n",
    "    medische_vraag: str\n",
    "    patientinformatie: str\n",
    "\n"
   ],
   "outputs": [],
   "execution_count": 2
  },
  {
   "metadata": {},
   "cell_type": "markdown",
   "source": "Create a function to get a recipe based on a medical question",
   "id": "62a4c2f4b9c89c41"
  },
  {
   "metadata": {
    "ExecuteTime": {
     "end_time": "2025-06-30T20:12:07.853649Z",
     "start_time": "2025-06-30T20:12:06.146668Z"
    }
   },
   "cell_type": "code",
   "source": [
    "import json\n",
    "import re\n",
    "\n",
    "\n",
    "def get_recipe(medical_question: str) -> Recipe:\n",
    "    prompt = (\n",
    "        \"Je bent een medisch expert. Beantwoord de medische vraag met een recept volgens het volgende template: \"\n",
    "        \"'Rp. [Medicijnnaam] [Sterkte] [Vorm]\\ndtd. No. [Aantal]\\n S. [Instructie]'. \"\n",
    "        \"Neem relevante informatie over de patiënt in acht, zoals leeftijd en eventuele allergieën. \"\n",
    "        \"Geef de formele medicijnnaam in het JSON-veld 'medicijn'. \"\n",
    "        \"Benoem de categorie van het medicijn in het JSON-veld 'categorie'. \"\n",
    "        \"Geef bij de instructie ook de duur van de behandeling aan. \"\n",
    "        \"Herhaal de medische vraag in het JSON-veld 'medische_vraag'. \"\n",
    "        \"Voeg de patiëntinformatie toe in het JSON-veld 'patientinformatie'. \"\n",
    "    )\n",
    "\n",
    "    response = client.models.generate_content(\n",
    "        model=\"gemini-2.0-flash-001\",\n",
    "        contents=medical_question,\n",
    "        config={\n",
    "            \"response_mime_type\": \"application/json\",\n",
    "            \"response_schema\": Recipe,\n",
    "            \"system_instruction\": prompt,\n",
    "        })\n",
    "\n",
    "    try:\n",
    "        parsed = extract_json_from_text(response.text)\n",
    "        return Recipe.model_validate(parsed)\n",
    "    except Exception as e:\n",
    "        print(\"Fout bij het parsen van het recept:\", e)\n",
    "        raise\n",
    "\n",
    "\n",
    "def extract_json_from_text(text: str) -> dict:\n",
    "    match = re.search(r'\\{.*?\\}', text, re.DOTALL)\n",
    "    if match:\n",
    "        return json.loads(match.group())\n",
    "    else:\n",
    "        raise ValueError(\"Geen JSON gevonden in het antwoord\")\n",
    "\n",
    "\n",
    "question =  \"\"\" vraag: \"Ik heb een keelontsteking. Heb ik antibiotica nodig?\",\n",
    "             \"patientinformatie\":\n",
    "                 \"leeftijd\": 34,\n",
    "                 \"geslacht\": \"vrouw\",\n",
    "                 \"koorts\": True,\n",
    "                 \"duur_klachten_dagen\": 3,\n",
    "                 \"pijn_bij_slikken\": True,\n",
    "                 \"tonsillen_met_pus\": True,\n",
    "                 \"hoesten\": False,\n",
    "                 \"penicilline_allergie\": False\n",
    "             \"\"\"\n",
    "recipe = get_recipe(question)\n",
    "print(recipe)\n"
   ],
   "id": "500964db2b7817d4",
   "outputs": [
    {
     "name": "stdout",
     "output_type": "stream",
     "text": [
      "medicijn='Amoxicilline' categorie='Antibioticum' recept='Rp. Amoxicilline 500mg capsules\\ndtd. No. 21\\nS. Driemaal daags 1 capsule gedurende 7 dagen.' medische_vraag='Ik heb een keelontsteking. Heb ik antibiotica nodig?' patientinformatie='leeftijd: 34, geslacht: vrouw, koorts: True, duur_klachten_dagen: 3, pijn_bij_slikken: True, tonsillen_met_pus: True, hoesten: False, penicilline_allergie: False'\n"
     ]
    }
   ],
   "execution_count": 3
  },
  {
   "metadata": {
    "ExecuteTime": {
     "end_time": "2025-06-30T20:12:08.579444Z",
     "start_time": "2025-06-30T20:12:07.902677Z"
    }
   },
   "cell_type": "code",
   "source": [
    "import pandas as pd\n",
    "\n",
    "filepath = \"../data/Z_unieke_vragen_deel_2.json\"\n",
    "questions = pd.read_json(filepath)\n",
    "\n",
    "questions"
   ],
   "id": "62d10db25d1411bb",
   "outputs": [
    {
     "data": {
      "text/plain": [
       "                                                vraag  \\\n",
       "0   Ik heb een lichte tandvleesontsteking. Kan ik ...   \n",
       "1       Ik heb Chlamydia, welke behandeling is nodig?   \n",
       "2   Ik heb krentenbaard (impetigo). Wat kan ik geb...   \n",
       "3   Mijn kind heeft dubbele oorontsteking. Welke d...   \n",
       "4   Ik heb een bacteriele ooginfectie. Er is indic...   \n",
       "5   Ik heb een steenpuist. Er is indicatie voor an...   \n",
       "6   Ik heb een longontsteking, ik moet antibiotica...   \n",
       "7   Ik heb traag werkende schildklier. Moet ik lev...   \n",
       "8   Ik heb sinusitis. Ik moet antibiotica krijgen....   \n",
       "9            Ik heb een vaginale infectie. Wat helpt?   \n",
       "10  Ik heb pijnlijke menstruaties. Wat is effectie...   \n",
       "11        Ik heb PCOS. Wat zijn mijn medicatieopties?   \n",
       "12  Ik heb borstvoedingsproblemen. Ik heb medicati...   \n",
       "13  Ik heb een plotselinge allergische reactie geh...   \n",
       "14  Ik heb ochtendmisselijkheid in de zwangerschap...   \n",
       "\n",
       "                                    patientinformatie  \n",
       "0   {'leeftijd': 69, 'geslacht': 'vrouw', 'chronis...  \n",
       "1   {'leeftijd': 31, 'geslacht': 'vrouw', 'chronis...  \n",
       "2                                     {'leeftijd': 3}  \n",
       "3   {'leeftijd': 5, 'geslacht': 'man', 'chronische...  \n",
       "4   {'leeftijd': 57, 'geslacht': 'vrouw', 'penicil...  \n",
       "5   {'leeftijd': 50, 'geslacht': 'vrouw', 'chronis...  \n",
       "6   {'leeftijd': 82, 'geslacht': 'man', 'chronisch...  \n",
       "7   {'leeftijd': 34, 'geslacht': 'vrouw', 'chronis...  \n",
       "8   {'leeftijd': 47, 'geslacht': 'vrouw', 'chronis...  \n",
       "9   {'leeftijd': 50, 'geslacht': 'vrouw', 'chronis...  \n",
       "10  {'leeftijd': 46, 'geslacht': 'vrouw', 'chronis...  \n",
       "11  {'leeftijd': 46, 'geslacht': 'vrouw', 'chronis...  \n",
       "12  {'leeftijd': 34, 'geslacht': 'vrouw', 'chronis...  \n",
       "13  {'leeftijd': 48, 'geslacht': 'vrouw', 'chronis...  \n",
       "14  {'leeftijd': 52, 'geslacht': 'vrouw', 'chronis...  "
      ],
      "text/html": [
       "<div>\n",
       "<style scoped>\n",
       "    .dataframe tbody tr th:only-of-type {\n",
       "        vertical-align: middle;\n",
       "    }\n",
       "\n",
       "    .dataframe tbody tr th {\n",
       "        vertical-align: top;\n",
       "    }\n",
       "\n",
       "    .dataframe thead th {\n",
       "        text-align: right;\n",
       "    }\n",
       "</style>\n",
       "<table border=\"1\" class=\"dataframe\">\n",
       "  <thead>\n",
       "    <tr style=\"text-align: right;\">\n",
       "      <th></th>\n",
       "      <th>vraag</th>\n",
       "      <th>patientinformatie</th>\n",
       "    </tr>\n",
       "  </thead>\n",
       "  <tbody>\n",
       "    <tr>\n",
       "      <th>0</th>\n",
       "      <td>Ik heb een lichte tandvleesontsteking. Kan ik ...</td>\n",
       "      <td>{'leeftijd': 69, 'geslacht': 'vrouw', 'chronis...</td>\n",
       "    </tr>\n",
       "    <tr>\n",
       "      <th>1</th>\n",
       "      <td>Ik heb Chlamydia, welke behandeling is nodig?</td>\n",
       "      <td>{'leeftijd': 31, 'geslacht': 'vrouw', 'chronis...</td>\n",
       "    </tr>\n",
       "    <tr>\n",
       "      <th>2</th>\n",
       "      <td>Ik heb krentenbaard (impetigo). Wat kan ik geb...</td>\n",
       "      <td>{'leeftijd': 3}</td>\n",
       "    </tr>\n",
       "    <tr>\n",
       "      <th>3</th>\n",
       "      <td>Mijn kind heeft dubbele oorontsteking. Welke d...</td>\n",
       "      <td>{'leeftijd': 5, 'geslacht': 'man', 'chronische...</td>\n",
       "    </tr>\n",
       "    <tr>\n",
       "      <th>4</th>\n",
       "      <td>Ik heb een bacteriele ooginfectie. Er is indic...</td>\n",
       "      <td>{'leeftijd': 57, 'geslacht': 'vrouw', 'penicil...</td>\n",
       "    </tr>\n",
       "    <tr>\n",
       "      <th>5</th>\n",
       "      <td>Ik heb een steenpuist. Er is indicatie voor an...</td>\n",
       "      <td>{'leeftijd': 50, 'geslacht': 'vrouw', 'chronis...</td>\n",
       "    </tr>\n",
       "    <tr>\n",
       "      <th>6</th>\n",
       "      <td>Ik heb een longontsteking, ik moet antibiotica...</td>\n",
       "      <td>{'leeftijd': 82, 'geslacht': 'man', 'chronisch...</td>\n",
       "    </tr>\n",
       "    <tr>\n",
       "      <th>7</th>\n",
       "      <td>Ik heb traag werkende schildklier. Moet ik lev...</td>\n",
       "      <td>{'leeftijd': 34, 'geslacht': 'vrouw', 'chronis...</td>\n",
       "    </tr>\n",
       "    <tr>\n",
       "      <th>8</th>\n",
       "      <td>Ik heb sinusitis. Ik moet antibiotica krijgen....</td>\n",
       "      <td>{'leeftijd': 47, 'geslacht': 'vrouw', 'chronis...</td>\n",
       "    </tr>\n",
       "    <tr>\n",
       "      <th>9</th>\n",
       "      <td>Ik heb een vaginale infectie. Wat helpt?</td>\n",
       "      <td>{'leeftijd': 50, 'geslacht': 'vrouw', 'chronis...</td>\n",
       "    </tr>\n",
       "    <tr>\n",
       "      <th>10</th>\n",
       "      <td>Ik heb pijnlijke menstruaties. Wat is effectie...</td>\n",
       "      <td>{'leeftijd': 46, 'geslacht': 'vrouw', 'chronis...</td>\n",
       "    </tr>\n",
       "    <tr>\n",
       "      <th>11</th>\n",
       "      <td>Ik heb PCOS. Wat zijn mijn medicatieopties?</td>\n",
       "      <td>{'leeftijd': 46, 'geslacht': 'vrouw', 'chronis...</td>\n",
       "    </tr>\n",
       "    <tr>\n",
       "      <th>12</th>\n",
       "      <td>Ik heb borstvoedingsproblemen. Ik heb medicati...</td>\n",
       "      <td>{'leeftijd': 34, 'geslacht': 'vrouw', 'chronis...</td>\n",
       "    </tr>\n",
       "    <tr>\n",
       "      <th>13</th>\n",
       "      <td>Ik heb een plotselinge allergische reactie geh...</td>\n",
       "      <td>{'leeftijd': 48, 'geslacht': 'vrouw', 'chronis...</td>\n",
       "    </tr>\n",
       "    <tr>\n",
       "      <th>14</th>\n",
       "      <td>Ik heb ochtendmisselijkheid in de zwangerschap...</td>\n",
       "      <td>{'leeftijd': 52, 'geslacht': 'vrouw', 'chronis...</td>\n",
       "    </tr>\n",
       "  </tbody>\n",
       "</table>\n",
       "</div>"
      ]
     },
     "execution_count": 4,
     "metadata": {},
     "output_type": "execute_result"
    }
   ],
   "execution_count": 4
  },
  {
   "metadata": {
    "ExecuteTime": {
     "end_time": "2025-06-30T20:12:29.766909Z",
     "start_time": "2025-06-30T20:12:08.650148Z"
    }
   },
   "cell_type": "code",
   "source": [
    "import json\n",
    "import pandas as pd\n",
    "\n",
    "recipes = []\n",
    "\n",
    "filepath = \"../data/Z_unieke_vragen_deel_2.json\"\n",
    "questions = pd.read_json(filepath)\n",
    "\n",
    "for idx, row in questions.iterrows():\n",
    "    medical_context = {\n",
    "        \"vraag\": row[\"vraag\"],\n",
    "        \"patientinformatie\": row[\"patientinformatie\"],\n",
    "    }\n",
    "    try:\n",
    "        medical_context_str = json.dumps(medical_context, ensure_ascii=False)\n",
    "        recipe = get_recipe(medical_context_str)\n",
    "        recipes.append(recipe)\n",
    "\n",
    "        print(f\"Recipe gegenereerd: {recipe.model_dump()}\")\n",
    "    except Exception as e:\n",
    "        print(f\"Fout bij het genereren van een recept voor deze vraag: {medical_context}\")\n",
    "        print(f\"Error: {e}\")\n",
    "\n",
    "output_file = \"../data/generated_recipes_deel_2.json\"\n",
    "with open(output_file, \"w\", encoding=\"utf-8\") as f:\n",
    "    json.dump([recipe.model_dump() for recipe in recipes], f, ensure_ascii=False, indent=4)"
   ],
   "id": "6b04491f4bf4a944",
   "outputs": [
    {
     "name": "stdout",
     "output_type": "stream",
     "text": [
      "Recipe gegenereerd: {'medicijn': 'Chloorhexidine', 'categorie': 'Antisepticum', 'recept': 'Rp. Chloorhexidine 0,2% mondspoeling\\ndtd. No. 1\\nS. 2 maal daags gedurende 2 weken spoelen na het tandenpoetsen', 'medische_vraag': 'Ik heb een lichte tandvleesontsteking. Kan ik hier iets voor slikken?', 'patientinformatie': 'patiënt is een 69-jarige vrouw zonder chronische ziekten of penicilline-allergie en heeft geen koorts en is niet ziek'}\n",
      "Recipe gegenereerd: {'medicijn': 'Azitromycine', 'categorie': 'Antibioticum', 'recept': 'Rp. Azitromycine 1g Tablet\\ndtd. No. 1\\nS. Eenmalig 1 gram oraal innemen.', 'medische_vraag': 'Ik heb Chlamydia, welke behandeling is nodig?', 'patientinformatie': 'Patiënt is een 31-jarige vrouw met diabetes en geen penicilline-allergie.'}\n",
      "Recipe gegenereerd: {'medicijn': 'Fusidinezuur', 'categorie': 'Antibioticum', 'recept': 'Rp. Fusidinezuur 20mg/g zalf\\ndtd. No. 1 tube\\nS. 3 maal daags dun aanbrengen gedurende 7 dagen', 'medische_vraag': 'Ik heb krentenbaard (impetigo). Wat kan ik gebruiken?', 'patientinformatie': 'Patiënt is 3 jaar oud.'}\n",
      "Recipe gegenereerd: {'medicijn': 'Ciprofloxacine', 'categorie': 'Antibioticum (Chinolon)', 'recept': 'Rp. Ciprofloxacine 0.3% oordruppels\\ndtd. No. 1\\nS. 2 maal daags 5 druppels gedurende 7 dagen in het aangedane oor druppelen.', 'medische_vraag': 'Mijn kind heeft dubbele oorontsteking. Welke druppels of medicijnen zijn geschikt?', 'patientinformatie': 'Patiënt, man, 5 jaar, geen chronische ziekte, penicilline allergie'}\n",
      "Recipe gegenereerd: {'medicijn': 'Chlooramfenicol', 'categorie': 'Antibioticum', 'recept': 'Rp. Chlooramfenicol 5mg/ml oogdruppels\\ndtd. No. 1\\nS. 4 maal daags 1 druppel in het aangedane oog gedurende 7 dagen.', 'medische_vraag': 'Ik heb een bacteriele ooginfectie. Er is indicatie voor antibiotica, welk moet ik krijgen?', 'patientinformatie': 'Patiënte is 57 jaar, vrouw en heeft een penicilline allergie.'}\n",
      "Recipe gegenereerd: {'medicijn': 'Flucloxacilline', 'categorie': 'Antibioticum', 'recept': 'Rp. Flucloxacilline 500mg capsules\\ndtd. No. 28\\nS. 4 maal daags 1 capsule gedurende 7 dagen.', 'medische_vraag': 'Ik heb een steenpuist. Er is indicatie voor antibiotica, welke moet ik krijgen?', 'patientinformatie': 'Patiënt is een vrouw van 50 jaar zonder chronische ziekten en zonder penicilline-allergie.'}\n",
      "Recipe gegenereerd: {'medicijn': 'Levofloxacine', 'categorie': 'Antibioticum (Fluorochinolon)', 'recept': 'Rp. Levofloxacine 500mg tabletten\\ndtd. No. 7\\nS. 1 maal daags 1 tablet gedurende 7 dagen.', 'medische_vraag': 'Ik heb een longontsteking, ik moet antibiotica krijgen, welke?', 'patientinformatie': 'Patiënt, man, 82 jaar oud, COPD, geen penicilline allergie'}\n",
      "Recipe gegenereerd: {'medicijn': 'Levothyroxine', 'categorie': 'Schildklierhormoon', 'recept': 'Rp. Levothyroxine 50 ug tabletten\\ndtd. No. 30\\nS. 1 maal daags 1 tablet in de ochtend, gedurende 6 weken. Daarna bloedonderzoek.', 'medische_vraag': 'Ik heb traag werkende schildklier. Moet ik levothyroxine slikken?', 'patientinformatie': 'Patiënte is 34 jaar, vrouw, heeft COPD en een penicilline allergie.'}\n",
      "Recipe gegenereerd: {'medicijn': 'Amoxicilline', 'categorie': 'Antibioticum', 'recept': 'Rp. Amoxicilline 500mg tabletten\\ndtd. No. 21\\nS. driemaal daags 1 tablet gedurende 7 dagen', 'medische_vraag': 'Ik heb sinusitis. Ik moet antibiotica krijgen. Wat is een geschikte behandeling?', 'patientinformatie': 'patiëntinformatie: leeftijd: 47, geslacht: vrouw, chronische_ziekte: geen, penicilline_allergie: false'}\n",
      "Recipe gegenereerd: {'medicijn': 'Fluconazol', 'categorie': 'Antimycotica', 'recept': 'Rp. Fluconazol 150mg capsule\\ndtd. No. 1\\nS. Oraal in te nemen als een eenmalige dosis. De behandeling duurt één dag.', 'medische_vraag': 'Ik heb een vaginale infectie. Wat helpt?', 'patientinformatie': 'Patiënt is een 50-jarige vrouw met COPD en geen penicilline-allergie.'}\n",
      "Recipe gegenereerd: {'medicijn': 'Naproxenum', 'categorie': 'NSAID', 'recept': 'Rp. Naproxenum 500mg tablet\\ndtd. No. 10\\nS. 2x daags 1 tablet gedurende de menstruatie, maximaal 5 dagen.', 'medische_vraag': 'Ik heb pijnlijke menstruaties. Wat is effectieve pijnstilling?', 'patientinformatie': 'Patiënt is 46 jaar, vrouw, heeft geen chronische ziektes en is allergisch voor penicilline.'}\n",
      "Recipe gegenereerd: {'medicijn': 'Metformine', 'categorie': 'Biguaniden', 'recept': 'Rp. Metformine 500mg tabletten\\ndtd. No. 60\\nS. 2 maal daags 1 tablet, gedurende 3 maanden', 'medische_vraag': 'Ik heb PCOS. Wat zijn mijn medicatieopties?', 'patientinformatie': 'Patiënt is een 46-jarige vrouw met diabetes en geen penicilline-allergie.'}\n",
      "Recipe gegenereerd: {'medicijn': 'Domperidon', 'categorie': 'Bevordert de aanmaak van prolactine', 'recept': 'Rp. Domperidon 10mg tabletten\\ndtd. No. 60\\nS. 3 maal daags 1 tablet gedurende 2 weken. Indien nodig, daarna afbouwen.', 'medische_vraag': 'Ik heb borstvoedingsproblemen. Ik heb medicatie nodig. Welke kan ik gebruiken?', 'patientinformatie': 'Patiënt is een 34-jarige vrouw zonder chronische ziekten en zonder penicilline-allergie.'}\n",
      "Recipe gegenereerd: {'medicijn': 'Epinefrine', 'categorie': 'Adrenaline', 'recept': 'Rp. Epinefrine 0.3mg autoinjector\\ndtd. No. 1\\nS. Dien toe intramusculair in de laterale zijde van de dij bij een allergische reactie. Bel onmiddellijk 112. Raadpleeg een arts na gebruik.', 'medische_vraag': 'Ik heb een plotselinge allergische reactie gehad. Kan je een EpiPen voorschrijven?', 'patientinformatie': 'Patiënt is een 48-jarige vrouw met COPD en een penicilline-allergie.'}\n",
      "Recipe gegenereerd: {'medicijn': 'Doxylamine/pyridoxine', 'categorie': 'Antihistaminicum/vitamine B6', 'recept': \"Rp. Doxylamine/pyridoxine 10 mg/10 mg tablet\\ndtd. No. 30\\nS. Neem 's avonds voor het slapen gaan 2 tabletten. Indien nodig, overdag 1 tablet extra. Maximaal 4 tabletten per dag. Gebruik dit middel tot de misselijkheid afneemt, maar niet langer dan 4 weken.\", 'medische_vraag': 'Ik heb ochtendmisselijkheid in de zwangerschap. Wat mag ik gebruiken?', 'patientinformatie': 'Leeftijd: 52, geslacht: vrouw, chronische ziekte: COPD, penicilline allergie: false'}\n"
     ]
    }
   ],
   "execution_count": 5
  },
  {
   "metadata": {},
   "cell_type": "markdown",
   "source": [
    "Check each recipe for correctness. Correctness is defined as follows:\n",
    "- The recipe should contain a medicine name, strength, form, number of doses, and instructions.\n",
    "- The medicine name should be a valid medicine name.\n",
    "- The strength should be a valid strength.\n",
    "- The form should be a valid form (e.g., tablet, capsule, liquid).\n",
    "- The number of doses should be a valid number.\n",
    "- The instructions should include the duration of the treatment.\n",
    "- The indication should be relevant to the medical question.\n"
   ],
   "id": "a01049acf40543a1"
  }
 ],
 "metadata": {
  "kernelspec": {
   "display_name": "Python 3",
   "language": "python",
   "name": "python3"
  },
  "language_info": {
   "codemirror_mode": {
    "name": "ipython",
    "version": 2
   },
   "file_extension": ".py",
   "mimetype": "text/x-python",
   "name": "python",
   "nbconvert_exporter": "python",
   "pygments_lexer": "ipython2",
   "version": "2.7.6"
  }
 },
 "nbformat": 4,
 "nbformat_minor": 5
}
