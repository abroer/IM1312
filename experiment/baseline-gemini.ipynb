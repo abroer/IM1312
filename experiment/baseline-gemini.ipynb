{
 "cells": [
  {
   "metadata": {},
   "cell_type": "markdown",
   "source": [
    "Load the environment variables from a .env file\n",
    "\n",
    "To get an api key, navigate to https://aistudio.google.com/apikey to create one. Then create a .env file in the same directory as this notebook with the following content:\n",
    "```GOOGLE_API_KEY=your_api_key_here```\n"
   ],
   "id": "9c2465d3c199fe67"
  },
  {
   "metadata": {
    "ExecuteTime": {
     "end_time": "2025-05-29T13:21:43.854373Z",
     "start_time": "2025-05-29T13:21:43.848774Z"
    }
   },
   "cell_type": "code",
   "source": [
    "from dotenv import load_dotenv\n",
    "import os\n",
    "\n",
    "load_dotenv()\n",
    "api_key = os.getenv(\"GOOGLE_API_KEY\")"
   ],
   "id": "fc796ccc64ede7ff",
   "outputs": [],
   "execution_count": 25
  },
  {
   "metadata": {},
   "cell_type": "markdown",
   "source": "Single shot question answering with Gemini 2.0 Flash to check correct working of the code",
   "id": "272d7608ac86dccd"
  },
  {
   "cell_type": "code",
   "id": "initial_id",
   "metadata": {
    "collapsed": true,
    "ExecuteTime": {
     "end_time": "2025-05-29T13:21:45.069079Z",
     "start_time": "2025-05-29T13:21:43.884771Z"
    }
   },
   "source": [
    "from google import genai\n",
    "from pydantic import BaseModel\n",
    "\n",
    "class Recipe(BaseModel):\n",
    "    medicijn: str\n",
    "    categorie: str\n",
    "    recept: str\n",
    "    medische_vraag: str\n",
    "\n",
    "client = genai.Client(api_key=api_key)\n",
    "response = client.models.generate_content(\n",
    "    model=\"gemini-2.0-flash\",\n",
    "    contents=\"Ik heb een infectie waarvoor ik een antibioticum nodig heb. Welk middel kan ik gebruiken?\",\n",
    "    config={\n",
    "        \"response_mime_type\": \"application/json\",\n",
    "        \"response_schema\": Recipe,\n",
    "        \"system_instruction\": \"Formuleer het recept volgens template 'Rp. [Medicijnnaam] [Sterkte] [Vorm]\\ndtd. No. [Aantal]\\n S. [Instructie]'. Geef bij de instructie ook de duur van de behandeling aan.\",\n",
    "    },\n",
    ")\n",
    "\n",
    "print(response.text)"
   ],
   "outputs": [
    {
     "name": "stdout",
     "output_type": "stream",
     "text": [
      "{\n",
      "  \"medicijn\": \"Amoxicilline\",\n",
      "  \"categorie\": \"Antibioticum\",\n",
      "  \"recept\": \"Rp. Amoxicilline 500mg capsules\\ndtd. No. 21\\nS. driemaal daags 1 capsule gedurende 7 dagen.\",\n",
      "  \"medische_vraag\": \"Ik heb een infectie waarvoor ik een antibioticum nodig heb. Welk middel kan ik gebruiken?\"\n",
      "}\n"
     ]
    }
   ],
   "execution_count": 26
  },
  {
   "metadata": {},
   "cell_type": "markdown",
   "source": "Create a function to get a recipe based on a medical question",
   "id": "62a4c2f4b9c89c41"
  },
  {
   "metadata": {
    "ExecuteTime": {
     "end_time": "2025-05-29T13:21:46.460563Z",
     "start_time": "2025-05-29T13:21:45.143397Z"
    }
   },
   "cell_type": "code",
   "source": [
    "def get_recipe(medical_question: str) -> Recipe:\n",
    "    response = client.models.generate_content(\n",
    "        model=\"gemini-2.0-flash\",\n",
    "        contents=medical_question,\n",
    "        config={\n",
    "            \"response_mime_type\": \"application/json\",\n",
    "            \"response_schema\": Recipe,\n",
    "            \"system_instruction\": \"Formuleer het recept volgens template 'Rp. [Medicijnnaam] [Sterkte] [Vorm]\\ndtd. No. [Aantal]\\n S. [Instructie]'. Geef bij de instructie ook de duur van de behandeling aan.\",\n",
    "        },\n",
    "    )\n",
    "    return response.parsed\n",
    "\n",
    "recipe = get_recipe(\"Ik heb last van brandend maagzuur of zure reflux. Wat kan ik hiervoor nemen?\")\n",
    "print(recipe.model_dump_json())\n"
   ],
   "id": "500964db2b7817d4",
   "outputs": [
    {
     "name": "stdout",
     "output_type": "stream",
     "text": [
      "{\"medicijn\":\"Omeprazol\",\"categorie\":\"Maagbeschermer\",\"recept\":\"Rp. Omeprazol 20mg capsule\\ndtd. No. 30\\nS. 1 capsule per dag gedurende 4 weken.\",\"medische_vraag\":\"Ik heb last van brandend maagzuur of zure reflux. Wat kan ik hiervoor nemen?\"}\n"
     ]
    }
   ],
   "execution_count": 27
  },
  {
   "metadata": {
    "ExecuteTime": {
     "end_time": "2025-05-29T14:47:07.478271Z",
     "start_time": "2025-05-29T14:47:07.460805Z"
    }
   },
   "cell_type": "code",
   "source": [
    "import pandas as pd\n",
    "filepath = \"../data/unieke_vragen.json\"\n",
    "questions = pd.read_json(filepath)\n",
    "\n",
    "questions"
   ],
   "id": "62d10db25d1411bb",
   "outputs": [
    {
     "data": {
      "text/plain": [
       "                                                     0\n",
       "0    Ik heb een keelontsteking. Heb ik antibiotica ...\n",
       "1    Ik heb blaasontstekingklachten. Wat kan ik daa...\n",
       "2    Ik heb een longontsteking. Welke antibiotica z...\n",
       "3    Ik heb wondinfectieverschijnselen. Welk antibi...\n",
       "4    Ik heb een tandvleesontsteking. Kan ik hier ie...\n",
       "..                                                 ...\n",
       "194  Ik heb slikproblemen. Zijn er medicijnen om de...\n",
       "195  Ik heb spastische spieren door MS. Wat kan ik ...\n",
       "196     Ik heb MS. Wat zijn mijn onderhoudsmedicijnen?\n",
       "197  Ik heb een vergrote schildklier. Moet ik iets ...\n",
       "198  Ik heb een verhoogde calciumspiegel. Wat kan i...\n",
       "\n",
       "[199 rows x 1 columns]"
      ],
      "text/html": [
       "<div>\n",
       "<style scoped>\n",
       "    .dataframe tbody tr th:only-of-type {\n",
       "        vertical-align: middle;\n",
       "    }\n",
       "\n",
       "    .dataframe tbody tr th {\n",
       "        vertical-align: top;\n",
       "    }\n",
       "\n",
       "    .dataframe thead th {\n",
       "        text-align: right;\n",
       "    }\n",
       "</style>\n",
       "<table border=\"1\" class=\"dataframe\">\n",
       "  <thead>\n",
       "    <tr style=\"text-align: right;\">\n",
       "      <th></th>\n",
       "      <th>0</th>\n",
       "    </tr>\n",
       "  </thead>\n",
       "  <tbody>\n",
       "    <tr>\n",
       "      <th>0</th>\n",
       "      <td>Ik heb een keelontsteking. Heb ik antibiotica ...</td>\n",
       "    </tr>\n",
       "    <tr>\n",
       "      <th>1</th>\n",
       "      <td>Ik heb blaasontstekingklachten. Wat kan ik daa...</td>\n",
       "    </tr>\n",
       "    <tr>\n",
       "      <th>2</th>\n",
       "      <td>Ik heb een longontsteking. Welke antibiotica z...</td>\n",
       "    </tr>\n",
       "    <tr>\n",
       "      <th>3</th>\n",
       "      <td>Ik heb wondinfectieverschijnselen. Welk antibi...</td>\n",
       "    </tr>\n",
       "    <tr>\n",
       "      <th>4</th>\n",
       "      <td>Ik heb een tandvleesontsteking. Kan ik hier ie...</td>\n",
       "    </tr>\n",
       "    <tr>\n",
       "      <th>...</th>\n",
       "      <td>...</td>\n",
       "    </tr>\n",
       "    <tr>\n",
       "      <th>194</th>\n",
       "      <td>Ik heb slikproblemen. Zijn er medicijnen om de...</td>\n",
       "    </tr>\n",
       "    <tr>\n",
       "      <th>195</th>\n",
       "      <td>Ik heb spastische spieren door MS. Wat kan ik ...</td>\n",
       "    </tr>\n",
       "    <tr>\n",
       "      <th>196</th>\n",
       "      <td>Ik heb MS. Wat zijn mijn onderhoudsmedicijnen?</td>\n",
       "    </tr>\n",
       "    <tr>\n",
       "      <th>197</th>\n",
       "      <td>Ik heb een vergrote schildklier. Moet ik iets ...</td>\n",
       "    </tr>\n",
       "    <tr>\n",
       "      <th>198</th>\n",
       "      <td>Ik heb een verhoogde calciumspiegel. Wat kan i...</td>\n",
       "    </tr>\n",
       "  </tbody>\n",
       "</table>\n",
       "<p>199 rows × 1 columns</p>\n",
       "</div>"
      ]
     },
     "execution_count": 44,
     "metadata": {},
     "output_type": "execute_result"
    }
   ],
   "execution_count": 44
  },
  {
   "metadata": {
    "ExecuteTime": {
     "end_time": "2025-05-29T14:49:24.708316Z",
     "start_time": "2025-05-29T14:49:13.246786Z"
    }
   },
   "cell_type": "code",
   "source": [
    "import json\n",
    "\n",
    "recipes = []\n",
    "\n",
    "for question in questions.head(10)[0].tolist():\n",
    "    try:\n",
    "        recipe = get_recipe(question)\n",
    "        recipes.append(recipe)\n",
    "        print(f\"Recipe generated: {recipe.model_dump()}\")\n",
    "    except Exception as e:\n",
    "        print(f\"Error generating recipe for question '{question}': {e}\")\n",
    "\n",
    "# Write the recipes to a JSON file\n",
    "output_file = \"../data/generated_recipes.json\"\n",
    "with open(output_file, \"w\", encoding=\"utf-8\") as f:\n",
    "    json.dump([recipe.model_dump() for recipe in recipes], f, ensure_ascii=False, indent=4)\n"
   ],
   "id": "6b04491f4bf4a944",
   "outputs": [
    {
     "name": "stdout",
     "output_type": "stream",
     "text": [
      "Recipe generated: {'medicijn': 'Amoxicilline', 'categorie': 'Antibioticum', 'recept': 'Rp. Amoxicilline 500mg capsule\\ndtd. No. 21\\nS. driemaal daags 1 capsule gedurende 7 dagen.', 'medische_vraag': 'Keelontsteking, mogelijk antibiotica nodig'}\n",
      "Recipe generated: {'medicijn': 'Nitrofurantoine', 'categorie': 'Blaasontsteking', 'recept': 'Rp. Nitrofurantoine 100mg capsule\\ndtd. No. 20\\nS. 3 maal daags 1 capsule gedurende 7 dagen.', 'medische_vraag': 'Ik heb blaasontstekingklachten. Wat kan ik daartegen nemen?'}\n",
      "Recipe generated: {'medicijn': 'Amoxicilline', 'categorie': 'Antibiotica', 'recept': 'Rp. Amoxicilline 500mg tabletten\\ndtd. No. 21\\nS. 3 maal daags 1 tablet gedurende 7 dagen.', 'medische_vraag': 'Welke antibiotica zijn geschikt bij een longontsteking?'}\n",
      "Recipe generated: {'medicijn': 'Amoxicilline', 'categorie': 'Antibioticum', 'recept': 'Rp. Amoxicilline 500mg capsule\\ndtd. No. 21\\nS. Driemaal daags 1 capsule gedurende 7 dagen.', 'medische_vraag': 'Wondinfectieverschijnselen'}\n",
      "Recipe generated: {'medicijn': 'Amoxicilline', 'categorie': 'Antibioticum', 'recept': 'Rp. Amoxicilline 500mg capsule\\ndtd. No. 21\\nS. Driemaal daags 1 capsule gedurende 7 dagen.', 'medische_vraag': 'tandvleesontsteking'}\n",
      "Recipe generated: {'medicijn': 'Fluconazol', 'categorie': 'Antimycotica', 'recept': 'Rp. Fluconazol 150mg capsule\\ndtd. No. 1\\nS. 1 capsule oraal, eenmalig.', 'medische_vraag': 'Ik heb een vaginale schimmelinfectie. Wat helpt hiertegen?'}\n",
      "Recipe generated: {'medicijn': 'Afhankelijk van SOA', 'categorie': 'Infectieziekte', 'recept': 'Rp. Azitromycine 1 g oraal, eenmalig.\\n of\\nRp. Doxycycline 100 mg, 2dd gedurende 7 dagen.\\nRp. Ceftriaxon 500 mg, 1dd i.m.', 'medische_vraag': 'SOA behandeling'}\n",
      "Recipe generated: {'medicijn': 'Fusidinezuur', 'categorie': 'Antibioticum', 'recept': 'Rp. Fusidinezuur zalf 2% dtd. No. 1 S. 3 maal daags dun aanbrengen gedurende 7 dagen.', 'medische_vraag': 'Ik heb krentenbaard (impetigo). Wat kan ik gebruiken?'}\n",
      "Recipe generated: {'medicijn': 'Doxycycline', 'categorie': 'Antibiotica', 'recept': 'Rp. Doxycycline 100mg capsules\\ndtd. No. 14\\nS. 1 capsule tweemaal daags gedurende 7 dagen.', 'medische_vraag': 'Een tekenbeet met een rode kring kan wijzen op de ziekte van Lyme. Antibiotica, zoals doxycycline, zijn vaak nodig om de infectie te behandelen. Raadpleeg een arts voor een juiste diagnose en behandeling.'}\n",
      "Recipe generated: {'medicijn': 'Oordruppels', 'categorie': 'Oorontsteking', 'recept': 'Rp. Oordruppels [naam] [sterkte] [vorm] \\ndtd. No. [aantal]\\nS. [aantal] druppels [aantal] maal per dag in het aangedane oor gedurende [aantal] dagen.', 'medische_vraag': 'Oorontsteking bij kind'}\n"
     ]
    }
   ],
   "execution_count": 48
  },
  {
   "metadata": {},
   "cell_type": "markdown",
   "source": [
    "Check each recipe for correctness. Correctness is defined as follows:\n",
    "- The recipe should contain a medicine name, strength, form, number of doses, and instructions.\n",
    "- The medicine name should be a valid medicine name.\n",
    "- The strength should be a valid strength.\n",
    "- The form should be a valid form (e.g., tablet, capsule, liquid).\n",
    "- The number of doses should be a valid number.\n",
    "- The instructions should include the duration of the treatment."
   ],
   "id": "a01049acf40543a1"
  }
 ],
 "metadata": {
  "kernelspec": {
   "display_name": "Python 3",
   "language": "python",
   "name": "python3"
  },
  "language_info": {
   "codemirror_mode": {
    "name": "ipython",
    "version": 2
   },
   "file_extension": ".py",
   "mimetype": "text/x-python",
   "name": "python",
   "nbconvert_exporter": "python",
   "pygments_lexer": "ipython2",
   "version": "2.7.6"
  }
 },
 "nbformat": 4,
 "nbformat_minor": 5
}
