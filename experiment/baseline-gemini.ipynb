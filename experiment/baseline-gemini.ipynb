{
 "cells": [
  {
   "metadata": {},
   "cell_type": "markdown",
   "source": [
    "Load the environment variables from a .env file\n",
    "\n",
    "To get an api key, navigate to https://aistudio.google.com/apikey to create one. Then create a .env file in the same directory as this notebook with the following content:\n",
    "```GOOGLE_API_KEY=your_api_key_here```\n"
   ],
   "id": "9c2465d3c199fe67"
  },
  {
   "metadata": {
    "ExecuteTime": {
     "end_time": "2025-05-29T13:21:43.854373Z",
     "start_time": "2025-05-29T13:21:43.848774Z"
    }
   },
   "cell_type": "code",
   "source": [
    "from dotenv import load_dotenv\n",
    "import os\n",
    "\n",
    "load_dotenv()\n",
    "api_key = os.getenv(\"GOOGLE_API_KEY\")"
   ],
   "id": "fc796ccc64ede7ff",
   "outputs": [],
   "execution_count": 25
  },
  {
   "metadata": {},
   "cell_type": "markdown",
   "source": "Single shot question answering with Gemini 2.0 Flash to check correct working of the code",
   "id": "272d7608ac86dccd"
  },
  {
   "cell_type": "code",
   "id": "initial_id",
   "metadata": {
    "collapsed": true,
    "ExecuteTime": {
     "end_time": "2025-05-29T13:21:45.069079Z",
     "start_time": "2025-05-29T13:21:43.884771Z"
    }
   },
   "source": [
    "from google import genai\n",
    "from pydantic import BaseModel\n",
    "\n",
    "class Recipe(BaseModel):\n",
    "    medicijn: str\n",
    "    categorie: str\n",
    "    recept: str\n",
    "    medische_vraag: str\n",
    "\n",
    "client = genai.Client(api_key=api_key)\n",
    "response = client.models.generate_content(\n",
    "    model=\"gemini-2.0-flash\",\n",
    "    contents=\"Ik heb een infectie waarvoor ik een antibioticum nodig heb. Welk middel kan ik gebruiken?\",\n",
    "    config={\n",
    "        \"response_mime_type\": \"application/json\",\n",
    "        \"response_schema\": Recipe,\n",
    "        \"system_instruction\": \"Formuleer het recept volgens template 'Rp. [Medicijnnaam] [Sterkte] [Vorm]\\ndtd. No. [Aantal]\\n S. [Instructie]'. Geef bij de instructie ook de duur van de behandeling aan.\",\n",
    "    },\n",
    ")\n",
    "\n",
    "print(response.text)"
   ],
   "outputs": [
    {
     "name": "stdout",
     "output_type": "stream",
     "text": [
      "{\n",
      "  \"medicijn\": \"Amoxicilline\",\n",
      "  \"categorie\": \"Antibioticum\",\n",
      "  \"recept\": \"Rp. Amoxicilline 500mg capsules\\ndtd. No. 21\\nS. driemaal daags 1 capsule gedurende 7 dagen.\",\n",
      "  \"medische_vraag\": \"Ik heb een infectie waarvoor ik een antibioticum nodig heb. Welk middel kan ik gebruiken?\"\n",
      "}\n"
     ]
    }
   ],
   "execution_count": 26
  },
  {
   "metadata": {},
   "cell_type": "markdown",
   "source": "Create a function to get a recipe based on a medical question",
   "id": "62a4c2f4b9c89c41"
  },
  {
   "metadata": {
    "ExecuteTime": {
     "end_time": "2025-05-29T13:21:46.460563Z",
     "start_time": "2025-05-29T13:21:45.143397Z"
    }
   },
   "cell_type": "code",
   "source": [
    "def get_recipe(medical_question: str) -> Recipe:\n",
    "    response = client.models.generate_content(\n",
    "        model=\"gemini-2.0-flash\",\n",
    "        contents=medical_question,\n",
    "        config={\n",
    "            \"response_mime_type\": \"application/json\",\n",
    "            \"response_schema\": Recipe,\n",
    "            \"system_instruction\": \"Formuleer het recept volgens template 'Rp. [Medicijnnaam] [Sterkte] [Vorm]\\ndtd. No. [Aantal]\\n S. [Instructie]'. Geef bij de instructie ook de duur van de behandeling aan.\",\n",
    "        },\n",
    "    )\n",
    "    return response.parsed\n",
    "\n",
    "recipe = get_recipe(\"Ik heb last van brandend maagzuur of zure reflux. Wat kan ik hiervoor nemen?\")\n",
    "print(recipe.model_dump_json())\n"
   ],
   "id": "500964db2b7817d4",
   "outputs": [
    {
     "name": "stdout",
     "output_type": "stream",
     "text": [
      "{\"medicijn\":\"Omeprazol\",\"categorie\":\"Maagbeschermer\",\"recept\":\"Rp. Omeprazol 20mg capsule\\ndtd. No. 30\\nS. 1 capsule per dag gedurende 4 weken.\",\"medische_vraag\":\"Ik heb last van brandend maagzuur of zure reflux. Wat kan ik hiervoor nemen?\"}\n"
     ]
    }
   ],
   "execution_count": 27
  },
  {
   "metadata": {
    "ExecuteTime": {
     "end_time": "2025-05-29T13:26:39.320693Z",
     "start_time": "2025-05-29T13:26:39.303355Z"
    }
   },
   "cell_type": "code",
   "source": [
    "import pandas as pd\n",
    "filepath = \"../data/example_recipes_with_question.json\"\n",
    "records = pd.read_json(filepath)"
   ],
   "id": "62d10db25d1411bb",
   "outputs": [],
   "execution_count": 31
  },
  {
   "metadata": {
    "ExecuteTime": {
     "end_time": "2025-05-29T13:34:11.185265Z",
     "start_time": "2025-05-29T13:34:06.265047Z"
    }
   },
   "cell_type": "code",
   "source": [
    "recipes = []\n",
    "for index, row in records.head(10).iterrows():\n",
    "    question = row[\"medische-vraag\"]\n",
    "    recipes.append(get_recipe(question))\n",
    "\n"
   ],
   "id": "6b04491f4bf4a944",
   "outputs": [
    {
     "ename": "KeyboardInterrupt",
     "evalue": "",
     "output_type": "error",
     "traceback": [
      "\u001B[31m---------------------------------------------------------------------------\u001B[39m",
      "\u001B[31mKeyboardInterrupt\u001B[39m                         Traceback (most recent call last)",
      "\u001B[36mCell\u001B[39m\u001B[36m \u001B[39m\u001B[32mIn[35]\u001B[39m\u001B[32m, line 4\u001B[39m\n\u001B[32m      2\u001B[39m \u001B[38;5;28;01mfor\u001B[39;00m index, row \u001B[38;5;129;01min\u001B[39;00m records.head(\u001B[32m10\u001B[39m).iterrows():\n\u001B[32m      3\u001B[39m     question = row[\u001B[33m\"\u001B[39m\u001B[33mmedische-vraag\u001B[39m\u001B[33m\"\u001B[39m]\n\u001B[32m----> \u001B[39m\u001B[32m4\u001B[39m     recipes.append(get_recipe(question))\n",
      "\u001B[36mCell\u001B[39m\u001B[36m \u001B[39m\u001B[32mIn[27]\u001B[39m\u001B[32m, line 2\u001B[39m, in \u001B[36mget_recipe\u001B[39m\u001B[34m(medical_question)\u001B[39m\n\u001B[32m      1\u001B[39m \u001B[38;5;28;01mdef\u001B[39;00m\u001B[38;5;250m \u001B[39m\u001B[34mget_recipe\u001B[39m(medical_question: \u001B[38;5;28mstr\u001B[39m) -> Recipe:\n\u001B[32m----> \u001B[39m\u001B[32m2\u001B[39m     response = client.models.generate_content(\n\u001B[32m      3\u001B[39m         model=\u001B[33m\"\u001B[39m\u001B[33mgemini-2.0-flash\u001B[39m\u001B[33m\"\u001B[39m,\n\u001B[32m      4\u001B[39m         contents=medical_question,\n\u001B[32m      5\u001B[39m         config={\n\u001B[32m      6\u001B[39m             \u001B[33m\"\u001B[39m\u001B[33mresponse_mime_type\u001B[39m\u001B[33m\"\u001B[39m: \u001B[33m\"\u001B[39m\u001B[33mapplication/json\u001B[39m\u001B[33m\"\u001B[39m,\n\u001B[32m      7\u001B[39m             \u001B[33m\"\u001B[39m\u001B[33mresponse_schema\u001B[39m\u001B[33m\"\u001B[39m: Recipe,\n\u001B[32m      8\u001B[39m             \u001B[33m\"\u001B[39m\u001B[33msystem_instruction\u001B[39m\u001B[33m\"\u001B[39m: \u001B[33m\"\u001B[39m\u001B[33mFormuleer het recept volgens template \u001B[39m\u001B[33m'\u001B[39m\u001B[33mRp. [Medicijnnaam] [Sterkte] [Vorm]\u001B[39m\u001B[38;5;130;01m\\n\u001B[39;00m\u001B[33mdtd. No. [Aantal]\u001B[39m\u001B[38;5;130;01m\\n\u001B[39;00m\u001B[33m S. [Instructie]\u001B[39m\u001B[33m'\u001B[39m\u001B[33m. Geef bij de instructie ook de duur van de behandeling aan.\u001B[39m\u001B[33m\"\u001B[39m,\n\u001B[32m      9\u001B[39m         },\n\u001B[32m     10\u001B[39m     )\n\u001B[32m     11\u001B[39m     \u001B[38;5;28;01mreturn\u001B[39;00m response.parsed\n",
      "\u001B[36mFile \u001B[39m\u001B[32m~/miniconda3/envs/IM1312/lib/python3.12/site-packages/google/genai/models.py:5930\u001B[39m, in \u001B[36mModels.generate_content\u001B[39m\u001B[34m(self, model, contents, config)\u001B[39m\n\u001B[32m   5928\u001B[39m \u001B[38;5;28;01mwhile\u001B[39;00m remaining_remote_calls_afc > \u001B[32m0\u001B[39m:\n\u001B[32m   5929\u001B[39m   i += \u001B[32m1\u001B[39m\n\u001B[32m-> \u001B[39m\u001B[32m5930\u001B[39m   response = \u001B[38;5;28mself\u001B[39m._generate_content(\n\u001B[32m   5931\u001B[39m       model=model, contents=contents, config=parsed_config\n\u001B[32m   5932\u001B[39m   )\n\u001B[32m   5933\u001B[39m   logger.info(\u001B[33mf\u001B[39m\u001B[33m'\u001B[39m\u001B[33mAFC remote call \u001B[39m\u001B[38;5;132;01m{\u001B[39;00mi\u001B[38;5;132;01m}\u001B[39;00m\u001B[33m is done.\u001B[39m\u001B[33m'\u001B[39m)\n\u001B[32m   5934\u001B[39m   remaining_remote_calls_afc -= \u001B[32m1\u001B[39m\n",
      "\u001B[36mFile \u001B[39m\u001B[32m~/miniconda3/envs/IM1312/lib/python3.12/site-packages/google/genai/models.py:4893\u001B[39m, in \u001B[36mModels._generate_content\u001B[39m\u001B[34m(self, model, contents, config)\u001B[39m\n\u001B[32m   4890\u001B[39m request_dict = _common.convert_to_dict(request_dict)\n\u001B[32m   4891\u001B[39m request_dict = _common.encode_unserializable_types(request_dict)\n\u001B[32m-> \u001B[39m\u001B[32m4893\u001B[39m response_dict = \u001B[38;5;28mself\u001B[39m._api_client.request(\n\u001B[32m   4894\u001B[39m     \u001B[33m'\u001B[39m\u001B[33mpost\u001B[39m\u001B[33m'\u001B[39m, path, request_dict, http_options\n\u001B[32m   4895\u001B[39m )\n\u001B[32m   4897\u001B[39m \u001B[38;5;28;01mif\u001B[39;00m \u001B[38;5;28mself\u001B[39m._api_client.vertexai:\n\u001B[32m   4898\u001B[39m   response_dict = _GenerateContentResponse_from_vertex(\n\u001B[32m   4899\u001B[39m       \u001B[38;5;28mself\u001B[39m._api_client, response_dict\n\u001B[32m   4900\u001B[39m   )\n",
      "\u001B[36mFile \u001B[39m\u001B[32m~/miniconda3/envs/IM1312/lib/python3.12/site-packages/google/genai/_api_client.py:755\u001B[39m, in \u001B[36mBaseApiClient.request\u001B[39m\u001B[34m(self, http_method, path, request_dict, http_options)\u001B[39m\n\u001B[32m    745\u001B[39m \u001B[38;5;28;01mdef\u001B[39;00m\u001B[38;5;250m \u001B[39m\u001B[34mrequest\u001B[39m(\n\u001B[32m    746\u001B[39m     \u001B[38;5;28mself\u001B[39m,\n\u001B[32m    747\u001B[39m     http_method: \u001B[38;5;28mstr\u001B[39m,\n\u001B[32m   (...)\u001B[39m\u001B[32m    750\u001B[39m     http_options: Optional[HttpOptionsOrDict] = \u001B[38;5;28;01mNone\u001B[39;00m,\n\u001B[32m    751\u001B[39m ) -> Union[BaseResponse, Any]:\n\u001B[32m    752\u001B[39m   http_request = \u001B[38;5;28mself\u001B[39m._build_request(\n\u001B[32m    753\u001B[39m       http_method, path, request_dict, http_options\n\u001B[32m    754\u001B[39m   )\n\u001B[32m--> \u001B[39m\u001B[32m755\u001B[39m   response = \u001B[38;5;28mself\u001B[39m._request(http_request, stream=\u001B[38;5;28;01mFalse\u001B[39;00m)\n\u001B[32m    756\u001B[39m   json_response = response.json\n\u001B[32m    757\u001B[39m   \u001B[38;5;28;01mif\u001B[39;00m \u001B[38;5;129;01mnot\u001B[39;00m json_response:\n",
      "\u001B[36mFile \u001B[39m\u001B[32m~/miniconda3/envs/IM1312/lib/python3.12/site-packages/google/genai/_api_client.py:677\u001B[39m, in \u001B[36mBaseApiClient._request\u001B[39m\u001B[34m(self, http_request, stream)\u001B[39m\n\u001B[32m    673\u001B[39m   \u001B[38;5;28;01mreturn\u001B[39;00m HttpResponse(\n\u001B[32m    674\u001B[39m       response.headers, response \u001B[38;5;28;01mif\u001B[39;00m stream \u001B[38;5;28;01melse\u001B[39;00m [response.text]\n\u001B[32m    675\u001B[39m   )\n\u001B[32m    676\u001B[39m \u001B[38;5;28;01melse\u001B[39;00m:\n\u001B[32m--> \u001B[39m\u001B[32m677\u001B[39m   response = \u001B[38;5;28mself\u001B[39m._httpx_client.request(\n\u001B[32m    678\u001B[39m       method=http_request.method,\n\u001B[32m    679\u001B[39m       url=http_request.url,\n\u001B[32m    680\u001B[39m       headers=http_request.headers,\n\u001B[32m    681\u001B[39m       content=data,\n\u001B[32m    682\u001B[39m       timeout=http_request.timeout,\n\u001B[32m    683\u001B[39m   )\n\u001B[32m    684\u001B[39m   errors.APIError.raise_for_response(response)\n\u001B[32m    685\u001B[39m   \u001B[38;5;28;01mreturn\u001B[39;00m HttpResponse(\n\u001B[32m    686\u001B[39m       response.headers, response \u001B[38;5;28;01mif\u001B[39;00m stream \u001B[38;5;28;01melse\u001B[39;00m [response.text]\n\u001B[32m    687\u001B[39m   )\n",
      "\u001B[36mFile \u001B[39m\u001B[32m~/miniconda3/envs/IM1312/lib/python3.12/site-packages/httpx/_client.py:825\u001B[39m, in \u001B[36mClient.request\u001B[39m\u001B[34m(self, method, url, content, data, files, json, params, headers, cookies, auth, follow_redirects, timeout, extensions)\u001B[39m\n\u001B[32m    810\u001B[39m     warnings.warn(message, \u001B[38;5;167;01mDeprecationWarning\u001B[39;00m, stacklevel=\u001B[32m2\u001B[39m)\n\u001B[32m    812\u001B[39m request = \u001B[38;5;28mself\u001B[39m.build_request(\n\u001B[32m    813\u001B[39m     method=method,\n\u001B[32m    814\u001B[39m     url=url,\n\u001B[32m   (...)\u001B[39m\u001B[32m    823\u001B[39m     extensions=extensions,\n\u001B[32m    824\u001B[39m )\n\u001B[32m--> \u001B[39m\u001B[32m825\u001B[39m \u001B[38;5;28;01mreturn\u001B[39;00m \u001B[38;5;28mself\u001B[39m.send(request, auth=auth, follow_redirects=follow_redirects)\n",
      "\u001B[36mFile \u001B[39m\u001B[32m~/miniconda3/envs/IM1312/lib/python3.12/site-packages/httpx/_client.py:914\u001B[39m, in \u001B[36mClient.send\u001B[39m\u001B[34m(self, request, stream, auth, follow_redirects)\u001B[39m\n\u001B[32m    910\u001B[39m \u001B[38;5;28mself\u001B[39m._set_timeout(request)\n\u001B[32m    912\u001B[39m auth = \u001B[38;5;28mself\u001B[39m._build_request_auth(request, auth)\n\u001B[32m--> \u001B[39m\u001B[32m914\u001B[39m response = \u001B[38;5;28mself\u001B[39m._send_handling_auth(\n\u001B[32m    915\u001B[39m     request,\n\u001B[32m    916\u001B[39m     auth=auth,\n\u001B[32m    917\u001B[39m     follow_redirects=follow_redirects,\n\u001B[32m    918\u001B[39m     history=[],\n\u001B[32m    919\u001B[39m )\n\u001B[32m    920\u001B[39m \u001B[38;5;28;01mtry\u001B[39;00m:\n\u001B[32m    921\u001B[39m     \u001B[38;5;28;01mif\u001B[39;00m \u001B[38;5;129;01mnot\u001B[39;00m stream:\n",
      "\u001B[36mFile \u001B[39m\u001B[32m~/miniconda3/envs/IM1312/lib/python3.12/site-packages/httpx/_client.py:942\u001B[39m, in \u001B[36mClient._send_handling_auth\u001B[39m\u001B[34m(self, request, auth, follow_redirects, history)\u001B[39m\n\u001B[32m    939\u001B[39m request = \u001B[38;5;28mnext\u001B[39m(auth_flow)\n\u001B[32m    941\u001B[39m \u001B[38;5;28;01mwhile\u001B[39;00m \u001B[38;5;28;01mTrue\u001B[39;00m:\n\u001B[32m--> \u001B[39m\u001B[32m942\u001B[39m     response = \u001B[38;5;28mself\u001B[39m._send_handling_redirects(\n\u001B[32m    943\u001B[39m         request,\n\u001B[32m    944\u001B[39m         follow_redirects=follow_redirects,\n\u001B[32m    945\u001B[39m         history=history,\n\u001B[32m    946\u001B[39m     )\n\u001B[32m    947\u001B[39m     \u001B[38;5;28;01mtry\u001B[39;00m:\n\u001B[32m    948\u001B[39m         \u001B[38;5;28;01mtry\u001B[39;00m:\n",
      "\u001B[36mFile \u001B[39m\u001B[32m~/miniconda3/envs/IM1312/lib/python3.12/site-packages/httpx/_client.py:979\u001B[39m, in \u001B[36mClient._send_handling_redirects\u001B[39m\u001B[34m(self, request, follow_redirects, history)\u001B[39m\n\u001B[32m    976\u001B[39m \u001B[38;5;28;01mfor\u001B[39;00m hook \u001B[38;5;129;01min\u001B[39;00m \u001B[38;5;28mself\u001B[39m._event_hooks[\u001B[33m\"\u001B[39m\u001B[33mrequest\u001B[39m\u001B[33m\"\u001B[39m]:\n\u001B[32m    977\u001B[39m     hook(request)\n\u001B[32m--> \u001B[39m\u001B[32m979\u001B[39m response = \u001B[38;5;28mself\u001B[39m._send_single_request(request)\n\u001B[32m    980\u001B[39m \u001B[38;5;28;01mtry\u001B[39;00m:\n\u001B[32m    981\u001B[39m     \u001B[38;5;28;01mfor\u001B[39;00m hook \u001B[38;5;129;01min\u001B[39;00m \u001B[38;5;28mself\u001B[39m._event_hooks[\u001B[33m\"\u001B[39m\u001B[33mresponse\u001B[39m\u001B[33m\"\u001B[39m]:\n",
      "\u001B[36mFile \u001B[39m\u001B[32m~/miniconda3/envs/IM1312/lib/python3.12/site-packages/httpx/_client.py:1014\u001B[39m, in \u001B[36mClient._send_single_request\u001B[39m\u001B[34m(self, request)\u001B[39m\n\u001B[32m   1009\u001B[39m     \u001B[38;5;28;01mraise\u001B[39;00m \u001B[38;5;167;01mRuntimeError\u001B[39;00m(\n\u001B[32m   1010\u001B[39m         \u001B[33m\"\u001B[39m\u001B[33mAttempted to send an async request with a sync Client instance.\u001B[39m\u001B[33m\"\u001B[39m\n\u001B[32m   1011\u001B[39m     )\n\u001B[32m   1013\u001B[39m \u001B[38;5;28;01mwith\u001B[39;00m request_context(request=request):\n\u001B[32m-> \u001B[39m\u001B[32m1014\u001B[39m     response = transport.handle_request(request)\n\u001B[32m   1016\u001B[39m \u001B[38;5;28;01massert\u001B[39;00m \u001B[38;5;28misinstance\u001B[39m(response.stream, SyncByteStream)\n\u001B[32m   1018\u001B[39m response.request = request\n",
      "\u001B[36mFile \u001B[39m\u001B[32m~/miniconda3/envs/IM1312/lib/python3.12/site-packages/httpx/_transports/default.py:250\u001B[39m, in \u001B[36mHTTPTransport.handle_request\u001B[39m\u001B[34m(self, request)\u001B[39m\n\u001B[32m    237\u001B[39m req = httpcore.Request(\n\u001B[32m    238\u001B[39m     method=request.method,\n\u001B[32m    239\u001B[39m     url=httpcore.URL(\n\u001B[32m   (...)\u001B[39m\u001B[32m    247\u001B[39m     extensions=request.extensions,\n\u001B[32m    248\u001B[39m )\n\u001B[32m    249\u001B[39m \u001B[38;5;28;01mwith\u001B[39;00m map_httpcore_exceptions():\n\u001B[32m--> \u001B[39m\u001B[32m250\u001B[39m     resp = \u001B[38;5;28mself\u001B[39m._pool.handle_request(req)\n\u001B[32m    252\u001B[39m \u001B[38;5;28;01massert\u001B[39;00m \u001B[38;5;28misinstance\u001B[39m(resp.stream, typing.Iterable)\n\u001B[32m    254\u001B[39m \u001B[38;5;28;01mreturn\u001B[39;00m Response(\n\u001B[32m    255\u001B[39m     status_code=resp.status,\n\u001B[32m    256\u001B[39m     headers=resp.headers,\n\u001B[32m    257\u001B[39m     stream=ResponseStream(resp.stream),\n\u001B[32m    258\u001B[39m     extensions=resp.extensions,\n\u001B[32m    259\u001B[39m )\n",
      "\u001B[36mFile \u001B[39m\u001B[32m~/miniconda3/envs/IM1312/lib/python3.12/site-packages/httpcore/_sync/connection_pool.py:268\u001B[39m, in \u001B[36mConnectionPool.handle_request\u001B[39m\u001B[34m(self, request)\u001B[39m\n\u001B[32m    266\u001B[39m     \u001B[38;5;28;01mwith\u001B[39;00m ShieldCancellation():\n\u001B[32m    267\u001B[39m         \u001B[38;5;28mself\u001B[39m.response_closed(status)\n\u001B[32m--> \u001B[39m\u001B[32m268\u001B[39m     \u001B[38;5;28;01mraise\u001B[39;00m exc\n\u001B[32m    269\u001B[39m \u001B[38;5;28;01melse\u001B[39;00m:\n\u001B[32m    270\u001B[39m     \u001B[38;5;28;01mbreak\u001B[39;00m\n",
      "\u001B[36mFile \u001B[39m\u001B[32m~/miniconda3/envs/IM1312/lib/python3.12/site-packages/httpcore/_sync/connection_pool.py:251\u001B[39m, in \u001B[36mConnectionPool.handle_request\u001B[39m\u001B[34m(self, request)\u001B[39m\n\u001B[32m    248\u001B[39m         \u001B[38;5;28;01mraise\u001B[39;00m exc\n\u001B[32m    250\u001B[39m \u001B[38;5;28;01mtry\u001B[39;00m:\n\u001B[32m--> \u001B[39m\u001B[32m251\u001B[39m     response = connection.handle_request(request)\n\u001B[32m    252\u001B[39m \u001B[38;5;28;01mexcept\u001B[39;00m ConnectionNotAvailable:\n\u001B[32m    253\u001B[39m     \u001B[38;5;66;03m# The ConnectionNotAvailable exception is a special case, that\u001B[39;00m\n\u001B[32m    254\u001B[39m     \u001B[38;5;66;03m# indicates we need to retry the request on a new connection.\u001B[39;00m\n\u001B[32m   (...)\u001B[39m\u001B[32m    258\u001B[39m     \u001B[38;5;66;03m# might end up as an HTTP/2 connection, but which actually ends\u001B[39;00m\n\u001B[32m    259\u001B[39m     \u001B[38;5;66;03m# up as HTTP/1.1.\u001B[39;00m\n\u001B[32m    260\u001B[39m     \u001B[38;5;28;01mwith\u001B[39;00m \u001B[38;5;28mself\u001B[39m._pool_lock:\n\u001B[32m    261\u001B[39m         \u001B[38;5;66;03m# Maintain our position in the request queue, but reset the\u001B[39;00m\n\u001B[32m    262\u001B[39m         \u001B[38;5;66;03m# status so that the request becomes queued again.\u001B[39;00m\n",
      "\u001B[36mFile \u001B[39m\u001B[32m~/miniconda3/envs/IM1312/lib/python3.12/site-packages/httpcore/_sync/connection.py:103\u001B[39m, in \u001B[36mHTTPConnection.handle_request\u001B[39m\u001B[34m(self, request)\u001B[39m\n\u001B[32m    100\u001B[39m     \u001B[38;5;28;01melif\u001B[39;00m \u001B[38;5;129;01mnot\u001B[39;00m \u001B[38;5;28mself\u001B[39m._connection.is_available():\n\u001B[32m    101\u001B[39m         \u001B[38;5;28;01mraise\u001B[39;00m ConnectionNotAvailable()\n\u001B[32m--> \u001B[39m\u001B[32m103\u001B[39m \u001B[38;5;28;01mreturn\u001B[39;00m \u001B[38;5;28mself\u001B[39m._connection.handle_request(request)\n",
      "\u001B[36mFile \u001B[39m\u001B[32m~/miniconda3/envs/IM1312/lib/python3.12/site-packages/httpcore/_sync/http11.py:133\u001B[39m, in \u001B[36mHTTP11Connection.handle_request\u001B[39m\u001B[34m(self, request)\u001B[39m\n\u001B[32m    131\u001B[39m     \u001B[38;5;28;01mwith\u001B[39;00m Trace(\u001B[33m\"\u001B[39m\u001B[33mresponse_closed\u001B[39m\u001B[33m\"\u001B[39m, logger, request) \u001B[38;5;28;01mas\u001B[39;00m trace:\n\u001B[32m    132\u001B[39m         \u001B[38;5;28mself\u001B[39m._response_closed()\n\u001B[32m--> \u001B[39m\u001B[32m133\u001B[39m \u001B[38;5;28;01mraise\u001B[39;00m exc\n",
      "\u001B[36mFile \u001B[39m\u001B[32m~/miniconda3/envs/IM1312/lib/python3.12/site-packages/httpcore/_sync/http11.py:111\u001B[39m, in \u001B[36mHTTP11Connection.handle_request\u001B[39m\u001B[34m(self, request)\u001B[39m\n\u001B[32m    101\u001B[39m     \u001B[38;5;28;01mpass\u001B[39;00m\n\u001B[32m    103\u001B[39m \u001B[38;5;28;01mwith\u001B[39;00m Trace(\n\u001B[32m    104\u001B[39m     \u001B[33m\"\u001B[39m\u001B[33mreceive_response_headers\u001B[39m\u001B[33m\"\u001B[39m, logger, request, kwargs\n\u001B[32m    105\u001B[39m ) \u001B[38;5;28;01mas\u001B[39;00m trace:\n\u001B[32m    106\u001B[39m     (\n\u001B[32m    107\u001B[39m         http_version,\n\u001B[32m    108\u001B[39m         status,\n\u001B[32m    109\u001B[39m         reason_phrase,\n\u001B[32m    110\u001B[39m         headers,\n\u001B[32m--> \u001B[39m\u001B[32m111\u001B[39m     ) = \u001B[38;5;28mself\u001B[39m._receive_response_headers(**kwargs)\n\u001B[32m    112\u001B[39m     trace.return_value = (\n\u001B[32m    113\u001B[39m         http_version,\n\u001B[32m    114\u001B[39m         status,\n\u001B[32m    115\u001B[39m         reason_phrase,\n\u001B[32m    116\u001B[39m         headers,\n\u001B[32m    117\u001B[39m     )\n\u001B[32m    119\u001B[39m \u001B[38;5;28;01mreturn\u001B[39;00m Response(\n\u001B[32m    120\u001B[39m     status=status,\n\u001B[32m    121\u001B[39m     headers=headers,\n\u001B[32m   (...)\u001B[39m\u001B[32m    127\u001B[39m     },\n\u001B[32m    128\u001B[39m )\n",
      "\u001B[36mFile \u001B[39m\u001B[32m~/miniconda3/envs/IM1312/lib/python3.12/site-packages/httpcore/_sync/http11.py:176\u001B[39m, in \u001B[36mHTTP11Connection._receive_response_headers\u001B[39m\u001B[34m(self, request)\u001B[39m\n\u001B[32m    173\u001B[39m timeout = timeouts.get(\u001B[33m\"\u001B[39m\u001B[33mread\u001B[39m\u001B[33m\"\u001B[39m, \u001B[38;5;28;01mNone\u001B[39;00m)\n\u001B[32m    175\u001B[39m \u001B[38;5;28;01mwhile\u001B[39;00m \u001B[38;5;28;01mTrue\u001B[39;00m:\n\u001B[32m--> \u001B[39m\u001B[32m176\u001B[39m     event = \u001B[38;5;28mself\u001B[39m._receive_event(timeout=timeout)\n\u001B[32m    177\u001B[39m     \u001B[38;5;28;01mif\u001B[39;00m \u001B[38;5;28misinstance\u001B[39m(event, h11.Response):\n\u001B[32m    178\u001B[39m         \u001B[38;5;28;01mbreak\u001B[39;00m\n",
      "\u001B[36mFile \u001B[39m\u001B[32m~/miniconda3/envs/IM1312/lib/python3.12/site-packages/httpcore/_sync/http11.py:212\u001B[39m, in \u001B[36mHTTP11Connection._receive_event\u001B[39m\u001B[34m(self, timeout)\u001B[39m\n\u001B[32m    209\u001B[39m     event = \u001B[38;5;28mself\u001B[39m._h11_state.next_event()\n\u001B[32m    211\u001B[39m \u001B[38;5;28;01mif\u001B[39;00m event \u001B[38;5;129;01mis\u001B[39;00m h11.NEED_DATA:\n\u001B[32m--> \u001B[39m\u001B[32m212\u001B[39m     data = \u001B[38;5;28mself\u001B[39m._network_stream.read(\n\u001B[32m    213\u001B[39m         \u001B[38;5;28mself\u001B[39m.READ_NUM_BYTES, timeout=timeout\n\u001B[32m    214\u001B[39m     )\n\u001B[32m    216\u001B[39m     \u001B[38;5;66;03m# If we feed this case through h11 we'll raise an exception like:\u001B[39;00m\n\u001B[32m    217\u001B[39m     \u001B[38;5;66;03m#\u001B[39;00m\n\u001B[32m    218\u001B[39m     \u001B[38;5;66;03m#     httpcore.RemoteProtocolError: can't handle event type\u001B[39;00m\n\u001B[32m   (...)\u001B[39m\u001B[32m    222\u001B[39m     \u001B[38;5;66;03m# perspective. Instead we handle this case distinctly and treat\u001B[39;00m\n\u001B[32m    223\u001B[39m     \u001B[38;5;66;03m# it as a ConnectError.\u001B[39;00m\n\u001B[32m    224\u001B[39m     \u001B[38;5;28;01mif\u001B[39;00m data == \u001B[33mb\u001B[39m\u001B[33m\"\u001B[39m\u001B[33m\"\u001B[39m \u001B[38;5;129;01mand\u001B[39;00m \u001B[38;5;28mself\u001B[39m._h11_state.their_state == h11.SEND_RESPONSE:\n",
      "\u001B[36mFile \u001B[39m\u001B[32m~/miniconda3/envs/IM1312/lib/python3.12/site-packages/httpcore/_backends/sync.py:126\u001B[39m, in \u001B[36mSyncStream.read\u001B[39m\u001B[34m(self, max_bytes, timeout)\u001B[39m\n\u001B[32m    124\u001B[39m \u001B[38;5;28;01mwith\u001B[39;00m map_exceptions(exc_map):\n\u001B[32m    125\u001B[39m     \u001B[38;5;28mself\u001B[39m._sock.settimeout(timeout)\n\u001B[32m--> \u001B[39m\u001B[32m126\u001B[39m     \u001B[38;5;28;01mreturn\u001B[39;00m \u001B[38;5;28mself\u001B[39m._sock.recv(max_bytes)\n",
      "\u001B[36mFile \u001B[39m\u001B[32m~/miniconda3/envs/IM1312/lib/python3.12/ssl.py:1232\u001B[39m, in \u001B[36mSSLSocket.recv\u001B[39m\u001B[34m(self, buflen, flags)\u001B[39m\n\u001B[32m   1228\u001B[39m     \u001B[38;5;28;01mif\u001B[39;00m flags != \u001B[32m0\u001B[39m:\n\u001B[32m   1229\u001B[39m         \u001B[38;5;28;01mraise\u001B[39;00m \u001B[38;5;167;01mValueError\u001B[39;00m(\n\u001B[32m   1230\u001B[39m             \u001B[33m\"\u001B[39m\u001B[33mnon-zero flags not allowed in calls to recv() on \u001B[39m\u001B[38;5;132;01m%s\u001B[39;00m\u001B[33m\"\u001B[39m %\n\u001B[32m   1231\u001B[39m             \u001B[38;5;28mself\u001B[39m.\u001B[34m__class__\u001B[39m)\n\u001B[32m-> \u001B[39m\u001B[32m1232\u001B[39m     \u001B[38;5;28;01mreturn\u001B[39;00m \u001B[38;5;28mself\u001B[39m.read(buflen)\n\u001B[32m   1233\u001B[39m \u001B[38;5;28;01melse\u001B[39;00m:\n\u001B[32m   1234\u001B[39m     \u001B[38;5;28;01mreturn\u001B[39;00m \u001B[38;5;28msuper\u001B[39m().recv(buflen, flags)\n",
      "\u001B[36mFile \u001B[39m\u001B[32m~/miniconda3/envs/IM1312/lib/python3.12/ssl.py:1105\u001B[39m, in \u001B[36mSSLSocket.read\u001B[39m\u001B[34m(self, len, buffer)\u001B[39m\n\u001B[32m   1103\u001B[39m         \u001B[38;5;28;01mreturn\u001B[39;00m \u001B[38;5;28mself\u001B[39m._sslobj.read(\u001B[38;5;28mlen\u001B[39m, buffer)\n\u001B[32m   1104\u001B[39m     \u001B[38;5;28;01melse\u001B[39;00m:\n\u001B[32m-> \u001B[39m\u001B[32m1105\u001B[39m         \u001B[38;5;28;01mreturn\u001B[39;00m \u001B[38;5;28mself\u001B[39m._sslobj.read(\u001B[38;5;28mlen\u001B[39m)\n\u001B[32m   1106\u001B[39m \u001B[38;5;28;01mexcept\u001B[39;00m SSLError \u001B[38;5;28;01mas\u001B[39;00m x:\n\u001B[32m   1107\u001B[39m     \u001B[38;5;28;01mif\u001B[39;00m x.args[\u001B[32m0\u001B[39m] == SSL_ERROR_EOF \u001B[38;5;129;01mand\u001B[39;00m \u001B[38;5;28mself\u001B[39m.suppress_ragged_eofs:\n",
      "\u001B[31mKeyboardInterrupt\u001B[39m: "
     ]
    }
   ],
   "execution_count": 35
  }
 ],
 "metadata": {
  "kernelspec": {
   "display_name": "Python 3",
   "language": "python",
   "name": "python3"
  },
  "language_info": {
   "codemirror_mode": {
    "name": "ipython",
    "version": 2
   },
   "file_extension": ".py",
   "mimetype": "text/x-python",
   "name": "python",
   "nbconvert_exporter": "python",
   "pygments_lexer": "ipython2",
   "version": "2.7.6"
  }
 },
 "nbformat": 4,
 "nbformat_minor": 5
}
