{
 "cells": [
  {
   "metadata": {},
   "cell_type": "markdown",
   "source": "Load the environment variables from a .env file",
   "id": "9c2465d3c199fe67"
  },
  {
   "metadata": {
    "ExecuteTime": {
     "end_time": "2025-05-29T11:45:48.995762Z",
     "start_time": "2025-05-29T11:45:48.991546Z"
    }
   },
   "cell_type": "code",
   "source": [
    "from dotenv import load_dotenv\n",
    "import os\n",
    "\n",
    "load_dotenv()\n",
    "api_key = os.getenv(\"GOOGLE_API_KEY\")"
   ],
   "id": "fc796ccc64ede7ff",
   "outputs": [],
   "execution_count": 10
  },
  {
   "cell_type": "code",
   "id": "initial_id",
   "metadata": {
    "collapsed": true,
    "ExecuteTime": {
     "end_time": "2025-05-29T12:36:25.764414Z",
     "start_time": "2025-05-29T12:36:24.455677Z"
    }
   },
   "source": [
    "from google import genai\n",
    "from pydantic import BaseModel\n",
    "\n",
    "class Recipe(BaseModel):\n",
    "    medication: str\n",
    "    category: str\n",
    "    recipe: str\n",
    "    medical_question: str\n",
    "\n",
    "client = genai.Client(api_key=api_key)\n",
    "response = client.models.generate_content(\n",
    "    model=\"gemini-2.0-flash\",\n",
    "    contents=\"Ik heb een infectie waarvoor ik een antibioticum nodig heb. Welk middel kan ik gebruiken?\",\n",
    "    config={\n",
    "        \"response_mime_type\": \"application/json\",\n",
    "        \"response_schema\": Recipe,\n",
    "        \"system_instruction\": \"formuleer het recept volgens template 'Rp. [Medicijnnaam] [Sterkte] [Vorm]\\ndtd. No. [Aantal]\\n S. [Instructie]'\",\n",
    "    },\n",
    ")\n",
    "\n",
    "print(response.text)"
   ],
   "outputs": [
    {
     "name": "stdout",
     "output_type": "stream",
     "text": [
      "{\n",
      "  \"medication\": \"Amoxicilline\",\n",
      "  \"category\": \"Antibioticum\",\n",
      "  \"recipe\": \"Rp. Amoxicilline 500mg capsules\\ndtd. No. 21\\nS. Driemaal daags 1 capsule\",\n",
      "  \"medical_question\": \"Ik heb een infectie waarvoor ik een antibioticum nodig heb. Welk middel kan ik gebruiken?\"\n",
      "}\n"
     ]
    }
   ],
   "execution_count": 14
  }
 ],
 "metadata": {
  "kernelspec": {
   "display_name": "Python 3",
   "language": "python",
   "name": "python3"
  },
  "language_info": {
   "codemirror_mode": {
    "name": "ipython",
    "version": 2
   },
   "file_extension": ".py",
   "mimetype": "text/x-python",
   "name": "python",
   "nbconvert_exporter": "python",
   "pygments_lexer": "ipython2",
   "version": "2.7.6"
  }
 },
 "nbformat": 4,
 "nbformat_minor": 5
}
