{
 "cells": [
  {
   "metadata": {},
   "cell_type": "markdown",
   "source": [
    "Load the environment variables from a .env file\n",
    "\n",
    "To get an api key, navigate to https://aistudio.google.com/apikey to create one. Then create a .env file in the same directory as this notebook with the following content:\n",
    "```GOOGLE_API_KEY=your_api_key_here```\n"
   ],
   "id": "9c2465d3c199fe67"
  },
  {
   "metadata": {
    "ExecuteTime": {
     "end_time": "2025-05-30T22:15:28.636770Z",
     "start_time": "2025-05-30T22:15:28.632279Z"
    }
   },
   "cell_type": "code",
   "source": [
    "import google.generativeai as genai\n",
    "from dotenv import load_dotenv\n",
    "import os\n",
    "\n",
    "load_dotenv()\n",
    "api_key = os.getenv(\"GOOGLE_API_KEY\")\n",
    "genai.configure(api_key=api_key)"
   ],
   "id": "fc796ccc64ede7ff",
   "outputs": [],
   "execution_count": 6
  },
  {
   "metadata": {},
   "cell_type": "markdown",
   "source": "Single shot question answering with Gemini 2.0 Flash to check correct working of the code",
   "id": "272d7608ac86dccd"
  },
  {
   "cell_type": "code",
   "id": "initial_id",
   "metadata": {
    "collapsed": true,
    "ExecuteTime": {
     "end_time": "2025-05-30T22:45:28.838696Z",
     "start_time": "2025-05-30T22:45:28.833257Z"
    }
   },
   "source": [
    "from pydantic import BaseModel\n",
    "\n",
    "class Recipe(BaseModel):\n",
    "    medicijn: str\n",
    "    categorie: str\n",
    "    recept: str\n",
    "    medische_vraag: str\n",
    "\n",
    "def get_model(model_name: str = \"gemini-2.0-flash\") -> genai.GenerativeModel:\n",
    "    return genai.GenerativeModel(model_name)"
   ],
   "outputs": [],
   "execution_count": 39
  },
  {
   "metadata": {},
   "cell_type": "markdown",
   "source": "Create a function to get a recipe based on a medical question",
   "id": "62a4c2f4b9c89c41"
  },
  {
   "metadata": {
    "ExecuteTime": {
     "end_time": "2025-05-30T22:43:40.580086Z",
     "start_time": "2025-05-30T22:43:39.694307Z"
    }
   },
   "cell_type": "code",
   "source": [
    "import json\n",
    "import re\n",
    "\n",
    "def get_recipe(medical_question: str) -> Recipe:\n",
    "    model = get_model()\n",
    "\n",
    "    prompt = (\n",
    "        \"Beantwoord de volgende medische vraag met alleen een geldig JSON-object. \"\n",
    "        \"Geef géén uitleg, alleen JSON, in exact dit formaat:\\n\\n\"\n",
    "        '{\\n'\n",
    "        '  \"medicijn\": \"NAAM VAN HET MEDICIJN\",\\n'\n",
    "        '  \"categorie\": \"WAARVOOR IS HET\",\\n'\n",
    "        '  \"recept\": \"Rp. [Medicijnnaam] [Sterkte] [Vorm]\\\\n'\n",
    "        'dtd. No. [Aantal]\\\\nS. [Instructie met duur van behandeling]\",\\n'\n",
    "        '  \"medische_vraag\": \"VRAAG DIE DE PATIËNT STELT\"\\n'\n",
    "        '}\\n\\n'\n",
    "        f\"Medische vraag: {medical_question}\"\n",
    "    )\n",
    "\n",
    "    response = model.generate_content(prompt)\n",
    "\n",
    "    try:\n",
    "        parsed = extract_json_from_text(response.text)\n",
    "        return Recipe.model_validate(parsed)\n",
    "    except Exception as e:\n",
    "        print(\"Fout bij het parsen van het recept:\", e)\n",
    "        raise\n",
    "\n",
    "def extract_json_from_text(text: str) -> dict:\n",
    "    match = re.search(r'\\{.*?\\}', text, re.DOTALL)\n",
    "    if match:\n",
    "        return json.loads(match.group())\n",
    "    else:\n",
    "        raise ValueError(\"Geen JSON gevonden in het antwoord\")\n",
    "\n",
    "\n",
    "question = \"Ik heb last van brandend maagzuur of zure reflux. Wat kan ik hiervoor nemen?\"\n",
    "recipe = get_recipe(question)\n",
    "print(recipe)\n"
   ],
   "id": "500964db2b7817d4",
   "outputs": [
    {
     "name": "stdout",
     "output_type": "stream",
     "text": [
      "medicijn='Omeprazol' categorie='Protonpompremmer (maagzuurremmer)' recept='Rp. Omeprazol 20mg capsule\\ndtd. No. 30\\nS. 1 capsule per dag, 30 minuten voor het ontbijt' medische_vraag='Ik heb last van brandend maagzuur of zure reflux. Wat kan ik hiervoor nemen?'\n"
     ]
    }
   ],
   "execution_count": 35
  },
  {
   "metadata": {
    "ExecuteTime": {
     "end_time": "2025-05-30T22:43:47.117312Z",
     "start_time": "2025-05-30T22:43:46.796374Z"
    }
   },
   "cell_type": "code",
   "source": [
    "import pandas as pd\n",
    "filepath = \"../data/unieke_vragen.json\"\n",
    "questions = pd.read_json(filepath)\n",
    "\n",
    "questions"
   ],
   "id": "62d10db25d1411bb",
   "outputs": [
    {
     "data": {
      "text/plain": [
       "                                                     0\n",
       "0    Ik heb een keelontsteking. Heb ik antibiotica ...\n",
       "1    Ik heb blaasontstekingklachten. Wat kan ik daa...\n",
       "2    Ik heb een longontsteking. Welke antibiotica z...\n",
       "3    Ik heb wondinfectieverschijnselen. Welk antibi...\n",
       "4    Ik heb een tandvleesontsteking. Kan ik hier ie...\n",
       "..                                                 ...\n",
       "194  Ik heb slikproblemen. Zijn er medicijnen om de...\n",
       "195  Ik heb spastische spieren door MS. Wat kan ik ...\n",
       "196     Ik heb MS. Wat zijn mijn onderhoudsmedicijnen?\n",
       "197  Ik heb een vergrote schildklier. Moet ik iets ...\n",
       "198  Ik heb een verhoogde calciumspiegel. Wat kan i...\n",
       "\n",
       "[199 rows x 1 columns]"
      ],
      "text/html": [
       "<div>\n",
       "<style scoped>\n",
       "    .dataframe tbody tr th:only-of-type {\n",
       "        vertical-align: middle;\n",
       "    }\n",
       "\n",
       "    .dataframe tbody tr th {\n",
       "        vertical-align: top;\n",
       "    }\n",
       "\n",
       "    .dataframe thead th {\n",
       "        text-align: right;\n",
       "    }\n",
       "</style>\n",
       "<table border=\"1\" class=\"dataframe\">\n",
       "  <thead>\n",
       "    <tr style=\"text-align: right;\">\n",
       "      <th></th>\n",
       "      <th>0</th>\n",
       "    </tr>\n",
       "  </thead>\n",
       "  <tbody>\n",
       "    <tr>\n",
       "      <th>0</th>\n",
       "      <td>Ik heb een keelontsteking. Heb ik antibiotica ...</td>\n",
       "    </tr>\n",
       "    <tr>\n",
       "      <th>1</th>\n",
       "      <td>Ik heb blaasontstekingklachten. Wat kan ik daa...</td>\n",
       "    </tr>\n",
       "    <tr>\n",
       "      <th>2</th>\n",
       "      <td>Ik heb een longontsteking. Welke antibiotica z...</td>\n",
       "    </tr>\n",
       "    <tr>\n",
       "      <th>3</th>\n",
       "      <td>Ik heb wondinfectieverschijnselen. Welk antibi...</td>\n",
       "    </tr>\n",
       "    <tr>\n",
       "      <th>4</th>\n",
       "      <td>Ik heb een tandvleesontsteking. Kan ik hier ie...</td>\n",
       "    </tr>\n",
       "    <tr>\n",
       "      <th>...</th>\n",
       "      <td>...</td>\n",
       "    </tr>\n",
       "    <tr>\n",
       "      <th>194</th>\n",
       "      <td>Ik heb slikproblemen. Zijn er medicijnen om de...</td>\n",
       "    </tr>\n",
       "    <tr>\n",
       "      <th>195</th>\n",
       "      <td>Ik heb spastische spieren door MS. Wat kan ik ...</td>\n",
       "    </tr>\n",
       "    <tr>\n",
       "      <th>196</th>\n",
       "      <td>Ik heb MS. Wat zijn mijn onderhoudsmedicijnen?</td>\n",
       "    </tr>\n",
       "    <tr>\n",
       "      <th>197</th>\n",
       "      <td>Ik heb een vergrote schildklier. Moet ik iets ...</td>\n",
       "    </tr>\n",
       "    <tr>\n",
       "      <th>198</th>\n",
       "      <td>Ik heb een verhoogde calciumspiegel. Wat kan i...</td>\n",
       "    </tr>\n",
       "  </tbody>\n",
       "</table>\n",
       "<p>199 rows × 1 columns</p>\n",
       "</div>"
      ]
     },
     "execution_count": 36,
     "metadata": {},
     "output_type": "execute_result"
    }
   ],
   "execution_count": 36
  },
  {
   "metadata": {
    "ExecuteTime": {
     "end_time": "2025-05-30T22:44:01.073593Z",
     "start_time": "2025-05-30T22:43:50.652057Z"
    }
   },
   "cell_type": "code",
   "source": [
    "import json\n",
    "\n",
    "recipes = []\n",
    "\n",
    "for question in questions.head(10)[0].tolist():\n",
    "    try:\n",
    "        recipe = get_recipe(question)\n",
    "        recipes.append(recipe)\n",
    "        print(f\"Recipe generated: {recipe.model_dump()}\")\n",
    "    except Exception as e:\n",
    "        print(f\"Error generating recipe for question '{question}': {e}\")\n",
    "\n",
    "# Write the recipes to a JSON file\n",
    "output_file = \"../data/generated_recipes.json\"\n",
    "with open(output_file, \"w\", encoding=\"utf-8\") as f:\n",
    "    json.dump([recipe.model_dump() for recipe in recipes], f, ensure_ascii=False, indent=4)\n"
   ],
   "id": "6b04491f4bf4a944",
   "outputs": [
    {
     "name": "stdout",
     "output_type": "stream",
     "text": [
      "Recipe generated: {'medicijn': 'Amoxicilline', 'categorie': 'Antibioticum', 'recept': 'Rp. Amoxicilline 500mg capsules\\ndtd. No. 21\\nS. 3 maal daags 1 capsule gedurende 7 dagen.', 'medische_vraag': 'Ik heb een keelontsteking. Heb ik antibiotica nodig?'}\n",
      "Recipe generated: {'medicijn': 'Nitrofurantoïne', 'categorie': 'Antibioticum bij blaasontsteking', 'recept': 'Rp. Nitrofurantoïne 100mg Capsules\\ndtd. No. XXVIII\\nS. 4dd 1 capsule gedurende 7 dagen', 'medische_vraag': 'Ik heb blaasontstekingklachten. Wat kan ik daartegen nemen?'}\n",
      "Recipe generated: {'medicijn': 'Amoxicilline', 'categorie': 'Antibioticum', 'recept': 'Rp. Amoxicilline 500mg capsules\\ndtd. No. 21\\nS. driemaal daags 1 capsule gedurende 7 dagen.', 'medische_vraag': 'Ik heb een longontsteking. Welke antibiotica zijn geschikt?'}\n",
      "Recipe generated: {'medicijn': 'Amoxicilline/Clavulaanzuur', 'categorie': 'Breed-spectrum antibioticum', 'recept': 'Rp. Amoxicilline/Clavulaanzuur 875/125mg tablet\\ndtd. No. 14\\nS. 2xdaags 1 tablet gedurende 7 dagen.', 'medische_vraag': 'Ik heb wondinfectieverschijnselen. Welk antibioticum is nodig?'}\n",
      "Recipe generated: {'medicijn': 'Amoxicilline', 'categorie': 'Antibioticum', 'recept': 'Rp. Amoxicilline 500mg Capsules\\ndtd. No. 21\\nS. 3x daags 1 capsule gedurende 7 dagen', 'medische_vraag': 'Ik heb een tandvleesontsteking. Kan ik hier iets voor slikken?'}\n",
      "Recipe generated: {'medicijn': 'Miconazol', 'categorie': 'Antimycoticum', 'recept': 'Rp. Miconazol 2% crème\\ndtd. No. 1 tube\\nS. 1x daags vaginaal inbrengen gedurende 7 dagen', 'medische_vraag': 'Ik heb een vaginale schimmelinfectie. Wat helpt hiertegen?'}\n",
      "Recipe generated: {'medicijn': 'Afhankelijk van SOA', 'categorie': 'Behandeling van seksueel overdraagbare aandoening (SOA)', 'recept': 'Rp. [Medicijnnaam] [Sterkte] [Vorm]\\ndtd. No. [Aantal]\\nS. [Instructie met duur van behandeling] (Specificatie afhankelijk van de SOA, bijvoorbeeld Azitromycine voor Chlamydia)', 'medische_vraag': 'Ik heb een SOA. Welke behandeling is nodig?'}\n",
      "Recipe generated: {'medicijn': 'Fusidinezuur zalf', 'categorie': 'Antibioticum zalf', 'recept': 'Rp. Fusidinezuur zalf 2%\\ndtd. No. 1 tube\\nS. 3 maal daags dun aanbrengen gedurende 7 dagen.', 'medische_vraag': 'Ik heb krentenbaard (impetigo). Wat kan ik gebruiken?'}\n",
      "Recipe generated: {'medicijn': 'Doxycycline', 'categorie': 'Antibioticum tegen Lyme-ziekte', 'recept': 'Rp. Doxycycline 100mg capsules\\ndtd. No. 14\\nS. 2x daags 1 capsule gedurende 7 dagen', 'medische_vraag': 'Ik heb een tekenbeet met rode kring. Heb ik antibiotica nodig?'}\n",
      "Recipe generated: {'medicijn': 'Amoxicilline', 'categorie': 'Antibioticum voor oorontsteking', 'recept': 'Rp. Amoxicilline 250mg/5ml suspensie\\ndtd. No. 1 fles\\nS. 3x daags 5ml gedurende 7 dagen', 'medische_vraag': 'Mijn kind heeft oorontsteking. Welke druppels of medicijnen zijn geschikt?'}\n"
     ]
    }
   ],
   "execution_count": 37
  },
  {
   "metadata": {},
   "cell_type": "markdown",
   "source": [
    "Check each recipe for correctness. Correctness is defined as follows:\n",
    "- The recipe should contain a medicine name, strength, form, number of doses, and instructions.\n",
    "- The medicine name should be a valid medicine name.\n",
    "- The strength should be a valid strength.\n",
    "- The form should be a valid form (e.g., tablet, capsule, liquid).\n",
    "- The number of doses should be a valid number.\n",
    "- The instructions should include the duration of the treatment.\n",
    "- The indication should be relevant to the medical question.\n"
   ],
   "id": "a01049acf40543a1"
  },
  {
   "metadata": {
    "ExecuteTime": {
     "end_time": "2025-05-30T22:53:19.039403Z",
     "start_time": "2025-05-30T22:53:12.320821Z"
    }
   },
   "cell_type": "code",
   "source": [
    "def check_for_correctness(recipe: Recipe):\n",
    "    model = get_model()\n",
    "    prompt = (\n",
    "        \"Controleer of het onderstaande recept correct is volgens deze criteria:\\n\"\n",
    "        \"- Het recept moet een medicijnnaam, sterkte, vorm, aantal doses en instructies bevatten.\\n\"\n",
    "        \"- De medicijnnaam moet een geldige medicijnnaam zijn.\\n\"\n",
    "        \"- De sterkte moet een geldige sterkte zijn.\\n\"\n",
    "        \"- De vorm moet een geldige vorm zijn (bijv. tablet, capsule, vloeistof).\\n\"\n",
    "        \"- Het aantal doses moet een geldig getal zijn.\\n\"\n",
    "        \"- De instructies moeten de duur van de behandeling bevatten.\\n\"\n",
    "        \"- De indicatie moet relevant zijn voor de medische vraag.\\n\\n\"\n",
    "        \"Geef het antwoord in geldig JSON-formaat met de volgende structuur:\\n\"\n",
    "        '{\\n'\n",
    "        '  \"medische_vraag\": \"<herhaal de medische vraag>\",\\n'\n",
    "        '  \"correct\": true | false,\\n'\n",
    "        '  \"fouten\": [\\n'\n",
    "        '    \"beschrijving van fout 1\",\\n'\n",
    "        '    \"beschrijving van fout 2\"\\n'\n",
    "        '  ]\\n'\n",
    "        '}\\n\\n'\n",
    "        f\"Recept:\\n{recipe.model_dump_json()}\"\n",
    "    )\n",
    "\n",
    "    response = model.generate_content(prompt)\n",
    "\n",
    "    return response.text\n",
    "\n",
    "\n",
    "for recipe in recipes:\n",
    "    result = check_for_correctness(recipe)\n",
    "    print(result)"
   ],
   "id": "bd7c1a71a4b1a47d",
   "outputs": [
    {
     "name": "stdout",
     "output_type": "stream",
     "text": [
      "```json\n",
      "{\n",
      "  \"medische_vraag\": \"Ik heb een keelontsteking. Heb ik antibiotica nodig?\",\n",
      "  \"correct\": true,\n",
      "  \"fouten\": []\n",
      "}\n",
      "```\n",
      "```json\n",
      "{\n",
      "  \"medische_vraag\": \"Ik heb blaasontstekingklachten. Wat kan ik daartegen nemen?\",\n",
      "  \"correct\": true,\n",
      "  \"fouten\": []\n",
      "}\n",
      "```\n",
      "```json\n",
      "{\n",
      "  \"medische_vraag\": \"Ik heb een longontsteking. Welke antibiotica zijn geschikt?\",\n",
      "  \"correct\": true,\n",
      "  \"fouten\": []\n",
      "}\n",
      "```\n",
      "```json\n",
      "{\n",
      "  \"medische_vraag\": \"Ik heb wondinfectieverschijnselen. Welk antibioticum is nodig?\",\n",
      "  \"correct\": true,\n",
      "  \"fouten\": []\n",
      "}\n",
      "```\n",
      "```json\n",
      "{\n",
      "  \"medische_vraag\": \"Ik heb een tandvleesontsteking. Kan ik hier iets voor slikken?\",\n",
      "  \"correct\": true,\n",
      "  \"fouten\": []\n",
      "}\n",
      "```\n",
      "```json\n",
      "{\n",
      "  \"medische_vraag\": \"Ik heb een vaginale schimmelinfectie. Wat helpt hiertegen?\",\n",
      "  \"correct\": true,\n",
      "  \"fouten\": []\n",
      "}\n",
      "```\n",
      "```json\n",
      "{\n",
      "  \"medische_vraag\": \"Ik heb een SOA. Welke behandeling is nodig?\",\n",
      "  \"correct\": false,\n",
      "  \"fouten\": [\n",
      "    \"De medicijnnaam is niet gespecificeerd. \\\"Afhankelijk van SOA\\\" is geen geldige medicijnnaam.\",\n",
      "    \"De sterkte is niet gespecificeerd.\",\n",
      "    \"De vorm is niet gespecificeerd.\",\n",
      "    \"Het aantal doses is niet gespecificeerd.\",\n",
      "    \"De instructies zijn niet gespecificeerd. De duur van de behandeling moet expliciet worden vermeld.\",\n",
      "    \"Het recept is een template en geen specifiek recept.  Het is dus niet correct omdat het geen direct uitvoerbaar voorschrift is voor de patiënt.\"\n",
      "  ]\n",
      "}\n",
      "```\n",
      "```json\n",
      "{\n",
      "  \"medische_vraag\": \"Ik heb krentenbaard (impetigo). Wat kan ik gebruiken?\",\n",
      "  \"correct\": true,\n",
      "  \"fouten\": []\n",
      "}\n",
      "```\n",
      "```json\n",
      "{\n",
      "  \"medische_vraag\": \"Ik heb een tekenbeet met rode kring. Heb ik antibiotica nodig?\",\n",
      "  \"correct\": true,\n",
      "  \"fouten\": []\n",
      "}\n",
      "```\n",
      "```json\n",
      "{\n",
      "  \"medische_vraag\": \"Mijn kind heeft oorontsteking. Welke druppels of medicijnen zijn geschikt?\",\n",
      "  \"correct\": true,\n",
      "  \"fouten\": []\n",
      "}\n",
      "```\n"
     ]
    }
   ],
   "execution_count": 44
  }
 ],
 "metadata": {
  "kernelspec": {
   "display_name": "Python 3",
   "language": "python",
   "name": "python3"
  },
  "language_info": {
   "codemirror_mode": {
    "name": "ipython",
    "version": 2
   },
   "file_extension": ".py",
   "mimetype": "text/x-python",
   "name": "python",
   "nbconvert_exporter": "python",
   "pygments_lexer": "ipython2",
   "version": "2.7.6"
  }
 },
 "nbformat": 4,
 "nbformat_minor": 5
}
