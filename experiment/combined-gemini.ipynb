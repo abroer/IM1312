{
 "cells": [
  {
   "metadata": {
    "ExecuteTime": {
     "end_time": "2025-06-25T19:28:21.170261Z",
     "start_time": "2025-06-25T19:28:15.307664Z"
    }
   },
   "cell_type": "code",
   "source": [
    "%pip install google-genai\n",
    "%pip install python-dotenv\n",
    "%pip install beautifulsoup4\n",
    "%pip install googlesearch-python"
   ],
   "id": "1f6513dd4e07730",
   "outputs": [
    {
     "name": "stdout",
     "output_type": "stream",
     "text": [
      "Requirement already satisfied: google-genai in /home/abroer/projects/IM1312/.venv1/lib/python3.12/site-packages (1.19.0)\r\n",
      "Requirement already satisfied: anyio<5.0.0,>=4.8.0 in /home/abroer/projects/IM1312/.venv1/lib/python3.12/site-packages (from google-genai) (4.9.0)\r\n",
      "Requirement already satisfied: google-auth<3.0.0,>=2.14.1 in /home/abroer/projects/IM1312/.venv1/lib/python3.12/site-packages (from google-genai) (2.40.3)\r\n",
      "Requirement already satisfied: httpx<1.0.0,>=0.28.1 in /home/abroer/projects/IM1312/.venv1/lib/python3.12/site-packages (from google-genai) (0.28.1)\r\n",
      "Requirement already satisfied: pydantic<3.0.0,>=2.0.0 in /home/abroer/projects/IM1312/.venv1/lib/python3.12/site-packages (from google-genai) (2.11.5)\r\n",
      "Requirement already satisfied: requests<3.0.0,>=2.28.1 in /home/abroer/projects/IM1312/.venv1/lib/python3.12/site-packages (from google-genai) (2.32.3)\r\n",
      "Requirement already satisfied: websockets<15.1.0,>=13.0.0 in /home/abroer/projects/IM1312/.venv1/lib/python3.12/site-packages (from google-genai) (15.0.1)\r\n",
      "Requirement already satisfied: typing-extensions<5.0.0,>=4.11.0 in /home/abroer/projects/IM1312/.venv1/lib/python3.12/site-packages (from google-genai) (4.14.0)\r\n",
      "Requirement already satisfied: idna>=2.8 in /home/abroer/projects/IM1312/.venv1/lib/python3.12/site-packages (from anyio<5.0.0,>=4.8.0->google-genai) (3.10)\r\n",
      "Requirement already satisfied: sniffio>=1.1 in /home/abroer/projects/IM1312/.venv1/lib/python3.12/site-packages (from anyio<5.0.0,>=4.8.0->google-genai) (1.3.1)\r\n",
      "Requirement already satisfied: cachetools<6.0,>=2.0.0 in /home/abroer/projects/IM1312/.venv1/lib/python3.12/site-packages (from google-auth<3.0.0,>=2.14.1->google-genai) (5.5.2)\r\n",
      "Requirement already satisfied: pyasn1-modules>=0.2.1 in /home/abroer/projects/IM1312/.venv1/lib/python3.12/site-packages (from google-auth<3.0.0,>=2.14.1->google-genai) (0.4.2)\r\n",
      "Requirement already satisfied: rsa<5,>=3.1.4 in /home/abroer/projects/IM1312/.venv1/lib/python3.12/site-packages (from google-auth<3.0.0,>=2.14.1->google-genai) (4.9.1)\r\n",
      "Requirement already satisfied: certifi in /home/abroer/projects/IM1312/.venv1/lib/python3.12/site-packages (from httpx<1.0.0,>=0.28.1->google-genai) (2025.4.26)\r\n",
      "Requirement already satisfied: httpcore==1.* in /home/abroer/projects/IM1312/.venv1/lib/python3.12/site-packages (from httpx<1.0.0,>=0.28.1->google-genai) (1.0.9)\r\n",
      "Requirement already satisfied: h11>=0.16 in /home/abroer/projects/IM1312/.venv1/lib/python3.12/site-packages (from httpcore==1.*->httpx<1.0.0,>=0.28.1->google-genai) (0.16.0)\r\n",
      "Requirement already satisfied: annotated-types>=0.6.0 in /home/abroer/projects/IM1312/.venv1/lib/python3.12/site-packages (from pydantic<3.0.0,>=2.0.0->google-genai) (0.7.0)\r\n",
      "Requirement already satisfied: pydantic-core==2.33.2 in /home/abroer/projects/IM1312/.venv1/lib/python3.12/site-packages (from pydantic<3.0.0,>=2.0.0->google-genai) (2.33.2)\r\n",
      "Requirement already satisfied: typing-inspection>=0.4.0 in /home/abroer/projects/IM1312/.venv1/lib/python3.12/site-packages (from pydantic<3.0.0,>=2.0.0->google-genai) (0.4.1)\r\n",
      "Requirement already satisfied: charset-normalizer<4,>=2 in /home/abroer/projects/IM1312/.venv1/lib/python3.12/site-packages (from requests<3.0.0,>=2.28.1->google-genai) (3.4.2)\r\n",
      "Requirement already satisfied: urllib3<3,>=1.21.1 in /home/abroer/projects/IM1312/.venv1/lib/python3.12/site-packages (from requests<3.0.0,>=2.28.1->google-genai) (2.4.0)\r\n",
      "Requirement already satisfied: pyasn1<0.7.0,>=0.6.1 in /home/abroer/projects/IM1312/.venv1/lib/python3.12/site-packages (from pyasn1-modules>=0.2.1->google-auth<3.0.0,>=2.14.1->google-genai) (0.6.1)\r\n",
      "\r\n",
      "\u001B[1m[\u001B[0m\u001B[34;49mnotice\u001B[0m\u001B[1;39;49m]\u001B[0m\u001B[39;49m A new release of pip is available: \u001B[0m\u001B[31;49m25.0.1\u001B[0m\u001B[39;49m -> \u001B[0m\u001B[32;49m25.1.1\u001B[0m\r\n",
      "\u001B[1m[\u001B[0m\u001B[34;49mnotice\u001B[0m\u001B[1;39;49m]\u001B[0m\u001B[39;49m To update, run: \u001B[0m\u001B[32;49mpip install --upgrade pip\u001B[0m\r\n",
      "Note: you may need to restart the kernel to use updated packages.\n",
      "Requirement already satisfied: python-dotenv in /home/abroer/projects/IM1312/.venv1/lib/python3.12/site-packages (1.1.0)\r\n",
      "\r\n",
      "\u001B[1m[\u001B[0m\u001B[34;49mnotice\u001B[0m\u001B[1;39;49m]\u001B[0m\u001B[39;49m A new release of pip is available: \u001B[0m\u001B[31;49m25.0.1\u001B[0m\u001B[39;49m -> \u001B[0m\u001B[32;49m25.1.1\u001B[0m\r\n",
      "\u001B[1m[\u001B[0m\u001B[34;49mnotice\u001B[0m\u001B[1;39;49m]\u001B[0m\u001B[39;49m To update, run: \u001B[0m\u001B[32;49mpip install --upgrade pip\u001B[0m\r\n",
      "Note: you may need to restart the kernel to use updated packages.\n",
      "Requirement already satisfied: beautifulsoup4 in /home/abroer/projects/IM1312/.venv1/lib/python3.12/site-packages (4.13.4)\r\n",
      "Requirement already satisfied: soupsieve>1.2 in /home/abroer/projects/IM1312/.venv1/lib/python3.12/site-packages (from beautifulsoup4) (2.7)\r\n",
      "Requirement already satisfied: typing-extensions>=4.0.0 in /home/abroer/projects/IM1312/.venv1/lib/python3.12/site-packages (from beautifulsoup4) (4.14.0)\r\n",
      "\r\n",
      "\u001B[1m[\u001B[0m\u001B[34;49mnotice\u001B[0m\u001B[1;39;49m]\u001B[0m\u001B[39;49m A new release of pip is available: \u001B[0m\u001B[31;49m25.0.1\u001B[0m\u001B[39;49m -> \u001B[0m\u001B[32;49m25.1.1\u001B[0m\r\n",
      "\u001B[1m[\u001B[0m\u001B[34;49mnotice\u001B[0m\u001B[1;39;49m]\u001B[0m\u001B[39;49m To update, run: \u001B[0m\u001B[32;49mpip install --upgrade pip\u001B[0m\r\n",
      "Note: you may need to restart the kernel to use updated packages.\n",
      "Requirement already satisfied: googlesearch-python in /home/abroer/projects/IM1312/.venv1/lib/python3.12/site-packages (1.3.0)\r\n",
      "Requirement already satisfied: beautifulsoup4>=4.9 in /home/abroer/projects/IM1312/.venv1/lib/python3.12/site-packages (from googlesearch-python) (4.13.4)\r\n",
      "Requirement already satisfied: requests>=2.20 in /home/abroer/projects/IM1312/.venv1/lib/python3.12/site-packages (from googlesearch-python) (2.32.3)\r\n",
      "Requirement already satisfied: soupsieve>1.2 in /home/abroer/projects/IM1312/.venv1/lib/python3.12/site-packages (from beautifulsoup4>=4.9->googlesearch-python) (2.7)\r\n",
      "Requirement already satisfied: typing-extensions>=4.0.0 in /home/abroer/projects/IM1312/.venv1/lib/python3.12/site-packages (from beautifulsoup4>=4.9->googlesearch-python) (4.14.0)\r\n",
      "Requirement already satisfied: charset-normalizer<4,>=2 in /home/abroer/projects/IM1312/.venv1/lib/python3.12/site-packages (from requests>=2.20->googlesearch-python) (3.4.2)\r\n",
      "Requirement already satisfied: idna<4,>=2.5 in /home/abroer/projects/IM1312/.venv1/lib/python3.12/site-packages (from requests>=2.20->googlesearch-python) (3.10)\r\n",
      "Requirement already satisfied: urllib3<3,>=1.21.1 in /home/abroer/projects/IM1312/.venv1/lib/python3.12/site-packages (from requests>=2.20->googlesearch-python) (2.4.0)\r\n",
      "Requirement already satisfied: certifi>=2017.4.17 in /home/abroer/projects/IM1312/.venv1/lib/python3.12/site-packages (from requests>=2.20->googlesearch-python) (2025.4.26)\r\n",
      "\r\n",
      "\u001B[1m[\u001B[0m\u001B[34;49mnotice\u001B[0m\u001B[1;39;49m]\u001B[0m\u001B[39;49m A new release of pip is available: \u001B[0m\u001B[31;49m25.0.1\u001B[0m\u001B[39;49m -> \u001B[0m\u001B[32;49m25.1.1\u001B[0m\r\n",
      "\u001B[1m[\u001B[0m\u001B[34;49mnotice\u001B[0m\u001B[1;39;49m]\u001B[0m\u001B[39;49m To update, run: \u001B[0m\u001B[32;49mpip install --upgrade pip\u001B[0m\r\n",
      "Note: you may need to restart the kernel to use updated packages.\n"
     ]
    }
   ],
   "execution_count": 1
  },
  {
   "metadata": {
    "ExecuteTime": {
     "end_time": "2025-06-25T19:28:22.619228Z",
     "start_time": "2025-06-25T19:28:21.403621Z"
    }
   },
   "cell_type": "code",
   "source": [
    "from google import genai\n",
    "from dotenv import load_dotenv\n",
    "import os\n",
    "\n",
    "load_dotenv()\n",
    "api_key = os.getenv(\"GOOGLE_API_KEY\")\n",
    "cx_id = os.getenv(\"GOOGLE_CSE_ID\")\n",
    "client = genai.Client(api_key=api_key)"
   ],
   "id": "caecabb118debf18",
   "outputs": [],
   "execution_count": 2
  },
  {
   "metadata": {},
   "cell_type": "markdown",
   "source": [
    "Take the input from file 'data/generated_recipes.json' and check each recipe for correctness.\n",
    "\n",
    "The RAG model first takes the name of the medicine from field 'medicijn' and retrieves the documentation from apotheek.nl. To find the documentation, it uses a Google search query that combines the medicine name with the site:apotheek.nl.\n",
    "Then it checks if the medicine is valid by checking if the URL returns a 200 status code. If this fails, the recipe is considered invalid.\n",
    "If the medicine is valid the documentation is provided as context to the AI model to check if the strength, form, number of doses, and instructions are valid. The AI model is also asked to check if the indication is relevant to the medical question.\n",
    "\n",
    "For the moderation model a prompt is used that asks the model to check the recipe with the medical question.\n",
    "\n",
    "The recipe is considered correct only if both the RAG model and the moderation model consider it correct.\n"
   ],
   "id": "c40e86d3ce858292"
  },
  {
   "cell_type": "code",
   "id": "initial_id",
   "metadata": {
    "collapsed": true,
    "ExecuteTime": {
     "end_time": "2025-06-25T19:28:22.772903Z",
     "start_time": "2025-06-25T19:28:22.633908Z"
    }
   },
   "source": [
    "from bs4 import BeautifulSoup\n",
    "import requests\n",
    "\n",
    "def read_medicijn_details(html_text: str):\n",
    "    \"\"\"Extracts the medicine details from the HTML text.\"\"\"\n",
    "    soup = BeautifulSoup(html_text, 'html.parser')\n",
    "    ul_element = soup.find('ul', id='container')\n",
    "    if ul_element:\n",
    "        return ul_element.get_text(strip=True)\n",
    "    else:\n",
    "        return \"Geen details gevonden voor het medicijn.\"\n",
    "\n",
    "def get_medicijn_details(medicijn: str):\n",
    "    # use google search to find the medicine documentation on apotheek.nl\n",
    "    query = f\"{medicijn} site:apotheek.nl\"\n",
    "    url = f\"https://www.googleapis.com/customsearch/v1?q={query}&key={api_key}&cx={cx_id}\"\n",
    "    search_response = requests.get(url).json()\n",
    "\n",
    "    if 'items' in search_response and len(search_response['items']) > 0:\n",
    "        medicijn_url = search_response['items'][0]['link']\n",
    "        return read_medicijn_details(requests.get(medicijn_url).text)\n",
    "    else:\n",
    "        return \"Geen details gevonden voor het medicijn.\"\n"
   ],
   "outputs": [],
   "execution_count": 3
  },
  {
   "metadata": {},
   "cell_type": "markdown",
   "source": "Now use the medical docs to check each recipe for correctness.\n",
   "id": "d2e33fab9d46e80e"
  },
  {
   "metadata": {
    "ExecuteTime": {
     "end_time": "2025-06-25T19:28:22.809745Z",
     "start_time": "2025-06-25T19:28:22.796806Z"
    }
   },
   "cell_type": "code",
   "source": [
    "def check_recipe_rag(recipe, details):\n",
    "    \"\"\"Check the recipe using the RAG model.\"\"\"\n",
    "    medical_question = recipe.get('medische_vraag')\n",
    "    medicijn = recipe.get('medicijn')\n",
    "    recept = recipe.get('recept')\n",
    "    patient_info = recipe.get('patientinformatie')\n",
    "\n",
    "    prompt = f\"\"\"\n",
    "    Controleer het volgende recept op juistheid:\n",
    "\n",
    "    Vraag: {medical_question}\n",
    "\n",
    "    Recept: {recept}\n",
    "\n",
    "    Patiënt informatie: {patient_info}\n",
    "\n",
    "    Details: {details}\n",
    "    \"\"\"\n",
    "\n",
    "    response = client.models.generate_content(\n",
    "        model=\"gemini-2.0-flash-001\",\n",
    "        contents=prompt,\n",
    "        config={\n",
    "            \"response_mime_type\": \"application/json\",\n",
    "            \"response_schema\": {\n",
    "                \"type\": \"object\",\n",
    "                \"properties\": {\n",
    "                    \"correct\": {\"type\": \"boolean\"},\n",
    "                    \"explanation\": {\"type\": \"string\"}\n",
    "                },\n",
    "                \"required\": [\"correct\", \"explanation\"]\n",
    "            },\n",
    "            \"system_instruction\": (\"Beoordeel met de tekst in 'Details' het recept op basis van de volgende criteria: \"\n",
    "                                  \"1. Bevat het medicijn een geldige naam, sterkte, vorm, aantal doses en instructies? \"\n",
    "                                  \"2. Is de indicatie relevant voor de medische vraag en gegeven patient informatie? \"\n",
    "                                  \"3. Geef een beoordeling van het recept als correct = True|False. \")\n",
    "        }\n",
    "    )\n",
    "    try:\n",
    "        return json.loads(response.text)\n",
    "    except ValueError:\n",
    "        print(\"Response is not in JSON format, returning raw text.\")\n",
    "        return json.loads(\"{'correct': false, 'explanation': 'Response is not in JSON format.'}\")\n",
    "\n"
   ],
   "id": "4a37ef5c29675600",
   "outputs": [],
   "execution_count": 4
  },
  {
   "metadata": {
    "ExecuteTime": {
     "end_time": "2025-06-25T19:28:22.864275Z",
     "start_time": "2025-06-25T19:28:22.852739Z"
    }
   },
   "cell_type": "code",
   "source": [
    "def check_recipe_moderator(recipe):\n",
    "    \"\"\"Check the recipe using the RAG model.\"\"\"\n",
    "    medical_question = recipe.get('medische_vraag')\n",
    "    recept = recipe.get('recept')\n",
    "    patient_info = recipe.get('patientinformatie')\n",
    "\n",
    "    prompt = f\"\"\"\n",
    "    Controleer het volgende recept op juistheid:\n",
    "\n",
    "    Vraag: {medical_question}\n",
    "\n",
    "    Patient informatie: {patient_info}\n",
    "\n",
    "    Recept: {recept}\n",
    "    \"\"\"\n",
    "\n",
    "    response = client.models.generate_content(\n",
    "        model=\"gemini-2.0-flash-001\",\n",
    "        contents=prompt,\n",
    "        config={\n",
    "            \"response_mime_type\": \"application/json\",\n",
    "            \"response_schema\": {\n",
    "                \"type\": \"object\",\n",
    "                \"properties\": {\n",
    "                    \"correct\": {\"type\": \"boolean\"},\n",
    "                    \"explanation\": {\"type\": \"string\"}\n",
    "                },\n",
    "                \"required\": [\"correct\", \"explanation\"]\n",
    "            },\n",
    "            \"system_instruction\": (\"Beoordeel het recept op basis van de volgende criteria: \"\n",
    "                                  \"1. Bevat het medicijn een geldige naam, sterkte, vorm, aantal doses en instructies? \"\n",
    "                                  \"2. Is de indicatie relevant voor de medische vraag en gegeven patient informatie? \"\n",
    "                                  \"3. Geef een beoordeling van het recept als correct = True|False. \")\n",
    "        }\n",
    "    )\n",
    "    return json.loads(response.text)\n"
   ],
   "id": "d044914e1518141e",
   "outputs": [],
   "execution_count": 5
  },
  {
   "metadata": {
    "ExecuteTime": {
     "end_time": "2025-06-25T19:38:21.335832Z",
     "start_time": "2025-06-25T19:28:22.915170Z"
    }
   },
   "cell_type": "code",
   "source": [
    "import json\n",
    "\n",
    "# Read the JSON file\n",
    "with open('../data/generated_recipes.json', 'r', encoding='utf-8') as file:\n",
    "    recipes = json.load(file)\n",
    "\n",
    "# Loop through each recipe and access the 'medicijn' field\n",
    "for recipe in recipes:\n",
    "    medicijn = recipe.get('medicijn')\n",
    "    details = get_medicijn_details(medicijn)\n",
    "    rag_correct = False\n",
    "    rag_explanation = \"\"\n",
    "    if details.startswith('Geen details gevonden'):\n",
    "        rag_correct = False\n",
    "        rag_explanation = \"Medicijn niet gevonden op apotheek.nl.\"\n",
    "    else:\n",
    "        # prompt the AI model to check the recipe\n",
    "        # add the documentation to the prompt\n",
    "        rag_result = check_recipe_rag(recipe, details)\n",
    "        rag_correct = rag_result['correct']\n",
    "        rag_explanation = rag_result['explanation']\n",
    "\n",
    "    mod_result = check_recipe_moderator(recipe)\n",
    "    mod_correct = mod_result['correct']\n",
    "    mod_explanation = mod_result['explanation']\n",
    "\n",
    "    if (rag_correct and mod_correct):\n",
    "        recipe['correct'] = True\n",
    "        recipe['explanation'] = f\"RAG: {rag_explanation}, Moderator: {mod_explanation}\"\n",
    "    else:\n",
    "        recipe['correct'] = False\n",
    "        recipe['explanation'] = f\"RAG: {rag_explanation}, Moderator: {mod_explanation}\"\n",
    "\n",
    "\n",
    "# Write the recipes to a JSON file\n",
    "output_file = \"../data/generated_recipes_combined_review.json\"\n",
    "with open(output_file, \"w\", encoding=\"utf-8\") as f:\n",
    "    json.dump(recipes, f, ensure_ascii=False, indent=4)\n",
    "\n"
   ],
   "id": "ea7cf4b6e7054d7a",
   "outputs": [],
   "execution_count": 6
  }
 ],
 "metadata": {
  "kernelspec": {
   "display_name": "Python 3",
   "language": "python",
   "name": "python3"
  },
  "language_info": {
   "codemirror_mode": {
    "name": "ipython",
    "version": 2
   },
   "file_extension": ".py",
   "mimetype": "text/x-python",
   "name": "python",
   "nbconvert_exporter": "python",
   "pygments_lexer": "ipython2",
   "version": "2.7.6"
  }
 },
 "nbformat": 4,
 "nbformat_minor": 5
}
