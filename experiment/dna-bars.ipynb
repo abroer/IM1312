{
 "cells": [
  {
   "cell_type": "code",
   "id": "initial_id",
   "metadata": {
    "collapsed": true,
    "ExecuteTime": {
     "end_time": "2025-07-13T11:43:05.412750Z",
     "start_time": "2025-07-13T11:43:04.928447Z"
    }
   },
   "source": [
    "import matplotlib.pyplot as plt\n",
    "import numpy as np\n",
    "import pandas as pd\n",
    "\n",
    "baseline_df = pd.read_json('../data/generated_recipes_manual_review.json')\n",
    "rag_df = pd.read_json('../data/generated_recipes_rag_review.json')\n",
    "moderator_df = pd.read_json('../data/generated_recipes_moderator_review.json')\n",
    "combined_df = pd.read_json('../data/generated_recipes_combined_review.json')\n",
    "\n",
    "\n",
    "def plot_dna_bar(data):\n",
    "    fig, ax = plt.subplots(figsize=(12, 1))\n",
    "    for i, val in enumerate(data):\n",
    "        color = 'green' if val else 'red'\n",
    "        ax.vlines(i, 0, 1, color=color, linewidth=2)\n",
    "    ax.set_xlim(-1, 200)\n",
    "    ax.set_ylim(0, 1)\n",
    "    ax.axis('off')  # Hide axes for a cleaner look\n",
    "    plt.show()\n",
    "\n",
    "\n",
    "plot_dna_bar(baseline_df['correct'])\n",
    "plot_dna_bar(rag_df['correct'])\n",
    "plot_dna_bar(moderator_df['correct'])\n",
    "plot_dna_bar(combined_df['correct'])"
   ],
   "outputs": [
    {
     "data": {
      "text/plain": [
       "<Figure size 1200x100 with 1 Axes>"
      ],
      "image/png": "[encoded data removed]"
     },
     "metadata": {},
     "output_type": "display_data"
    },
    {
     "data": {
      "text/plain": [
       "<Figure size 1200x100 with 1 Axes>"
      ],
      "image/png": "[encoded data removed]"
     },
     "metadata": {},
     "output_type": "display_data"
    },
    {
     "data": {
      "text/plain": [
       "<Figure size 1200x100 with 1 Axes>"
      ],
      "image/png": "[encoded data removed]"
     },
     "metadata": {},
     "output_type": "display_data"
    },
    {
     "data": {
      "text/plain": [
       "<Figure size 1200x100 with 1 Axes>"
      ],
      "image/png": "[encoded data removed]"
     },
     "metadata": {},
     "output_type": "display_data"
    }
   ],
   "execution_count": 12
  }
 ],
 "metadata": {
  "kernelspec": {
   "display_name": "Python 3",
   "language": "python",
   "name": "python3"
  },
  "language_info": {
   "codemirror_mode": {
    "name": "ipython",
    "version": 2
   },
   "file_extension": ".py",
   "mimetype": "text/x-python",
   "name": "python",
   "nbconvert_exporter": "python",
   "pygments_lexer": "ipython2",
   "version": "2.7.6"
  }
 },
 "nbformat": 4,
 "nbformat_minor": 5
}
