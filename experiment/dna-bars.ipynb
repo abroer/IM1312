{
 "cells": [
  {
   "cell_type": "code",
   "id": "initial_id",
   "metadata": {
    "collapsed": true,
    "ExecuteTime": {
     "end_time": "2025-07-13T13:57:09.171645Z",
     "start_time": "2025-07-13T13:57:08.676737Z"
    }
   },
   "source": [
    "import matplotlib.pyplot as plt\n",
    "import numpy as np\n",
    "import pandas as pd\n",
    
    "\n",
    "baseline_df = pd.read_json('../data/generated_recipes_manual_review.json')\n",
    "rag_df = pd.read_json('../data/generated_recipes_rag_review.json')\n",
    "moderator_df = pd.read_json('../data/generated_recipes_moderator_review.json')\n",
    "combined_df = pd.read_json('../data/generated_recipes_combined_review.json')\n",
    "\n",
    "results = pd.DataFrame()\n",
    "results['baseline'] = baseline_df['correct']\n",
    "results['RAG'] = rag_df['correct']\n",
    "results['Moderator'] = moderator_df['correct']\n",
    "results['Combined'] = combined_df['correct']\n",
    "\n",
    "def plot_dna_bar(data):\n",
    "\n",
    "    fig, axes = plt.subplots(nrows=len(data.columns), ncols=1, figsize=(10, 2))\n",
    "    for idx, col in enumerate(data.columns):\n",
    "        ax = axes[idx]\n",
    "        for i, val in enumerate(data[col]):\n",
    "            color = 'lightgreen' if val else 'red'\n",
    "            ax.vlines(i, 0, 1, color=color, linewidth=2)\n",
    "        ax.set_xlim(-1, 200)\n",
    "        ax.set_ylim(0, 1)\n",
    "        ax.set_ylabel(col, rotation=0, labelpad=40, va='center')\n",
    "        ax.tick_params(left=False, labelleft=False, bottom=False, labelbottom=False)\n",
    "        for spine in ax.spines.values():\n",
    "            spine.set_visible(False)\n",
    "    plt.xlabel('Recipe Index')\n",
    "    plt.tight_layout(h_pad=0.1)\n",
    "    plt.show()\n",
    "\n",
    "plot_dna_bar(results)"
   ],
   "outputs": [
    {
     "data": {
      "text/plain": [
       "<Figure size 1000x200 with 4 Axes>"
      ],
      "image/png": "[encoded data removed]"
     },
     "metadata": {},
     "output_type": "display_data"
    }
   ],
   "execution_count": 39
  },
  {
   "metadata": {},
   "cell_type": "code",
   "outputs": [],
   "execution_count": null,
   "source": [
    "def plot_dna_bar_with_legend(data):\n",
    "    fig, axes = plt.subplots(nrows=len(data.columns), ncols=1, figsize=(10, 2))\n",
    "\n",
    "    for idx, col in enumerate(data.columns):\n",
    "        ax = axes[idx]\n",
    "        for i, val in enumerate(data[col]):\n",
    "            color = 'lightgreen' if val else 'red'\n",
    "            ax.vlines(i, 0, 1, color=color, linewidth=2)\n",
    "        ax.set_xlim(-1, 200)\n",
    "        ax.set_ylim(0, 1)\n",
    "        ax.set_ylabel(col, rotation=0, labelpad=40, va='center')\n",
    "        ax.tick_params(left=False, labelleft=False, bottom=False, labelbottom=False)\n",
    "        for spine in ax.spines.values():\n",
    "            spine.set_visible(False)\n",
    "\n",
    "    # Add legend\n",
    "    handles = [plt.Line2D([0], [0], color='lightgreen', lw=4),\n",
    "               plt.Line2D([0], [0], color='red', lw=4)]\n",
    "    labels = ['Correct', 'Incorrect']\n",
    "    fig.legend(handles, labels, loc='upper right', bbox_to_anchor=(1.15, 1.05))\n",
    "\n",
    "    plt.xlabel('Recipe Index')\n",
    "    plt.tight_layout(h_pad=0.1)\n",
    "    plt.show()\n",
    "\n",
    "plot_dna_bar_with_legend(results)"
   ],
   "id": "65e447e722b21c30"
  },
  {
   "metadata": {
    "ExecuteTime": {
     "end_time": "2025-07-13T14:12:52.733355Z",
     "start_time": "2025-07-13T14:12:52.726461Z"
    }
   },
   "cell_type": "code",
   "source": [
    "# Count the number of True of columns 'RAG', 'Moderator' where 'Combined' is False\n",
    "negative_disputes = results[(results['Combined'] == False) & (results['RAG'] == True) & (results['Moderator'] == True)].shape[0]\n",
    "positive_disputes = results[(results['Combined'] == True) & ((results['RAG'] == False) | (results['Moderator'] == False))].shape[0]\n",
    "print(f'Number of negative disputes: {negative_disputes}')\n",
    "print(f'Number of positive disputes: {positive_disputes}')"
   ],
   "id": "530669eb21c18b8c",
   "outputs": [
    {
     "name": "stdout",
     "output_type": "stream",
     "text": [
      "Number of negative disputes: 12\n",
      "Number of positive disputes: 4\n"
     ]
    }
   ],
   "execution_count": 43
  }
 ],
 "metadata": {
  "kernelspec": {
   "display_name": "Python 3",
   "language": "python",
   "name": "python3"
  },
  "language_info": {
   "codemirror_mode": {
    "name": "ipython",
    "version": 2
   },
   "file_extension": ".py",
   "mimetype": "text/x-python",
   "name": "python",
   "nbconvert_exporter": "python",
   "pygments_lexer": "ipython2",
   "version": "2.7.6"
  }
 },
 "nbformat": 4,
 "nbformat_minor": 5
}
