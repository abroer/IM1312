{
 "cells": [
  {
   "cell_type": "code",
   "id": "initial_id",
   "metadata": {
    "collapsed": true,
    "ExecuteTime": {
     "end_time": "2025-06-20T12:29:48.674108Z",
     "start_time": "2025-06-20T12:29:48.657490Z"
    }
   },
   "source": [
    "# Load generated recipes files\n",
    "import pandas as pd\n",
    "\n",
    "# Load the data\n",
    "manual = pd.read_json('../data/generated_recipes_manual_review.json', dtype={'correct': 'boolean'})\n",
    "rag = pd.read_json('../data/generated_recipes_rag_review.json', dtype={'correct': 'boolean'})\n",
    "moderator = pd.read_json('../data/generated_recipes_moderator_review.json', dtype={'correct': 'boolean'})\n",
    "combined = pd.read_json('../data/generated_recipes_combined_review.json', dtype={'correct': 'boolean'})\n",
    "manual['correct'] = manual['correct'].fillna(False)\n",
    "\n",
    "rag.rename(columns={'correct': 'correct_rag'}, inplace=True)\n",
    "moderator.rename(columns={'correct': 'correct_moderator'}, inplace=True)\n",
    "combined.rename(columns={'correct': 'correct_combined'}, inplace=True)\n",
    "totalset = pd.merge(manual, rag[['medische_vraag','correct_rag']], on='medische_vraag', how='left')\n",
    "totalset = pd.merge(totalset, moderator[['medische_vraag','correct_moderator']], on='medische_vraag', how='left')\n",
    "totalset = pd.merge(totalset, combined[['medische_vraag','correct_combined']], on='medische_vraag', how='left')\n"
   ],
   "outputs": [],
   "execution_count": 3
  },
  {
   "metadata": {
    "ExecuteTime": {
     "end_time": "2025-06-20T17:35:17.977772Z",
     "start_time": "2025-06-20T17:35:17.964839Z"
    }
   },
   "cell_type": "code",
   "source": [
    "# Count the number of correct answers\n",
    "correct_counts = totalset[['correct', 'correct_rag', 'correct_moderator', 'correct_combined']].sum()\n",
    "# Print the counts\n",
    "print(\"Number of correct answers:\")\n",
    "print(correct_counts)\n",
    "\n",
    "false_positives_rag = totalset[(totalset['correct'] == False) & (totalset['correct_rag'] == True)]['medische_vraag'].count()\n",
    "false_positives_moderator = totalset[(totalset['correct'] == False) & (totalset['correct_moderator'] == True)]['medische_vraag'].count()\n",
    "false_positives_combined = totalset[(totalset['correct'] == False) & (totalset['correct_combined'] == True)]['medische_vraag'].count()\n",
    "\n",
    "print(f\"Number of false positives rag: {false_positives_rag}\")\n",
    "print(f\"Number of false positives moderator: {false_positives_moderator}\")\n",
    "print(f\"Number of false positives combined: {false_positives_combined}\")\n",
    "\n",
    "false_negatives_rag = totalset[(totalset['correct'] == True) & (totalset['correct_rag'] == False)]['medische_vraag'].count()\n",
    "false_negatives_moderator = totalset[(totalset['correct'] == True) & (totalset['correct_moderator'] == False)]['medische_vraag'].count()\n",
    "false_negatives_combined = totalset[(totalset['correct'] == True) & (totalset['correct_combined'] == False)]['medische_vraag'].count()\n",
    "print(f\"Number of false negatives rag: {false_negatives_rag}\")\n",
    "print(f\"Number of false negatives moderator: {false_negatives_moderator}\")\n",
    "print(f\"Number of false negatives combined: {false_negatives_combined}\")\n",
    "\n",
    "precision_rag = correct_counts['correct_rag'] / (correct_counts['correct_rag'] + false_positives_rag) if (correct_counts['correct_rag'] + false_positives_rag) > 0 else 0\n",
    "recall_rag = correct_counts['correct_rag'] / (correct_counts['correct_rag'] + false_negatives_rag) if (correct_counts['correct_rag'] + false_negatives_rag) > 0 else 0\n",
    "precision_moderator = correct_counts['correct_moderator'] / (correct_counts['correct_moderator'] + false_positives_moderator) if (correct_counts['correct_moderator'] + false_positives_moderator) > 0 else 0\n",
    "recall_moderator = correct_counts['correct_moderator'] / (correct_counts['correct_moderator'] + false_negatives_moderator) if (correct_counts['correct_moderator'] + false_negatives_moderator) > 0 else 0\n",
    "precision_combined = correct_counts['correct_combined'] / (correct_counts['correct_combined'] + false_positives_combined) if (correct_counts['correct_combined'] + false_positives_combined) > 0 else 0\n",
    "recall_combined = correct_counts['correct_combined'] / (correct_counts['correct_combined'] + false_negatives_combined) if (correct_counts['correct_combined'] + false_negatives_combined) > 0 else 0\n",
    "\n",
    "print(f\"Precision rag: {precision_rag:.2f} Recall rag: {recall_rag:.2f}\")\n",
    "print(f\"Precision moderator: {precision_moderator:.2f} Recall moderator: {recall_moderator:.2f}\")\n",
    "print(f\"Precision combined: {precision_combined:.2f} Recall combined: {recall_combined:.2f}\")"
   ],
   "id": "db4ba8ea3f35ecd9",
   "outputs": [
    {
     "name": "stdout",
     "output_type": "stream",
     "text": [
      "Number of correct answers:\n",
      "correct               19\n",
      "correct_rag          185\n",
      "correct_moderator    196\n",
      "correct_combined     185\n",
      "dtype: Int64\n",
      "Number of false positives rag: 167\n",
      "Number of false positives moderator: 177\n",
      "Number of false positives combined: 167\n",
      "Number of false negatives rag: 1\n",
      "Number of false negatives moderator: 0\n",
      "Number of false negatives combined: 1\n",
      "Precision rag: 0.53 Recall rag: 0.99\n",
      "Precision moderator: 0.53 Recall moderator: 1.00\n",
      "Precision combined: 0.53 Recall combined: 0.99\n"
     ]
    }
   ],
   "execution_count": 11
  }
 ],
 "metadata": {
  "kernelspec": {
   "display_name": "Python 3",
   "language": "python",
   "name": "python3"
  },
  "language_info": {
   "codemirror_mode": {
    "name": "ipython",
    "version": 2
   },
   "file_extension": ".py",
   "mimetype": "text/x-python",
   "name": "python",
   "nbconvert_exporter": "python",
   "pygments_lexer": "ipython2",
   "version": "2.7.6"
  }
 },
 "nbformat": 4,
 "nbformat_minor": 5
}
