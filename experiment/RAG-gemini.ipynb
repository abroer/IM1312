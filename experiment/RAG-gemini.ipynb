{
 "cells": [
  {
   "metadata": {
    "ExecuteTime": {
     "end_time": "2025-06-09T09:30:00.053675Z",
     "start_time": "2025-06-09T09:29:55.859643Z"
    }
   },
   "cell_type": "code",
   "source": [
    "%pip install google-genai\n",
    "%pip install python-dotenv\n",
    "%pip install beautifulsoup4\n",
    "%pip install googlesearch-python"
   ],
   "id": "1f6513dd4e07730",
   "outputs": [
    {
     "name": "stdout",
     "output_type": "stream",
     "text": [
      "Requirement already satisfied: google-genai in /home/abroer/projects/IM1312/.venv1/lib/python3.12/site-packages (1.19.0)\r\n",
      "Requirement already satisfied: anyio<5.0.0,>=4.8.0 in /home/abroer/projects/IM1312/.venv1/lib/python3.12/site-packages (from google-genai) (4.9.0)\r\n",
      "Requirement already satisfied: google-auth<3.0.0,>=2.14.1 in /home/abroer/projects/IM1312/.venv1/lib/python3.12/site-packages (from google-genai) (2.40.3)\r\n",
      "Requirement already satisfied: httpx<1.0.0,>=0.28.1 in /home/abroer/projects/IM1312/.venv1/lib/python3.12/site-packages (from google-genai) (0.28.1)\r\n",
      "Requirement already satisfied: pydantic<3.0.0,>=2.0.0 in /home/abroer/projects/IM1312/.venv1/lib/python3.12/site-packages (from google-genai) (2.11.5)\r\n",
      "Requirement already satisfied: requests<3.0.0,>=2.28.1 in /home/abroer/projects/IM1312/.venv1/lib/python3.12/site-packages (from google-genai) (2.32.3)\r\n",
      "Requirement already satisfied: websockets<15.1.0,>=13.0.0 in /home/abroer/projects/IM1312/.venv1/lib/python3.12/site-packages (from google-genai) (15.0.1)\r\n",
      "Requirement already satisfied: typing-extensions<5.0.0,>=4.11.0 in /home/abroer/projects/IM1312/.venv1/lib/python3.12/site-packages (from google-genai) (4.14.0)\r\n",
      "Requirement already satisfied: idna>=2.8 in /home/abroer/projects/IM1312/.venv1/lib/python3.12/site-packages (from anyio<5.0.0,>=4.8.0->google-genai) (3.10)\r\n",
      "Requirement already satisfied: sniffio>=1.1 in /home/abroer/projects/IM1312/.venv1/lib/python3.12/site-packages (from anyio<5.0.0,>=4.8.0->google-genai) (1.3.1)\r\n",
      "Requirement already satisfied: cachetools<6.0,>=2.0.0 in /home/abroer/projects/IM1312/.venv1/lib/python3.12/site-packages (from google-auth<3.0.0,>=2.14.1->google-genai) (5.5.2)\r\n",
      "Requirement already satisfied: pyasn1-modules>=0.2.1 in /home/abroer/projects/IM1312/.venv1/lib/python3.12/site-packages (from google-auth<3.0.0,>=2.14.1->google-genai) (0.4.2)\r\n",
      "Requirement already satisfied: rsa<5,>=3.1.4 in /home/abroer/projects/IM1312/.venv1/lib/python3.12/site-packages (from google-auth<3.0.0,>=2.14.1->google-genai) (4.9.1)\r\n",
      "Requirement already satisfied: certifi in /home/abroer/projects/IM1312/.venv1/lib/python3.12/site-packages (from httpx<1.0.0,>=0.28.1->google-genai) (2025.4.26)\r\n",
      "Requirement already satisfied: httpcore==1.* in /home/abroer/projects/IM1312/.venv1/lib/python3.12/site-packages (from httpx<1.0.0,>=0.28.1->google-genai) (1.0.9)\r\n",
      "Requirement already satisfied: h11>=0.16 in /home/abroer/projects/IM1312/.venv1/lib/python3.12/site-packages (from httpcore==1.*->httpx<1.0.0,>=0.28.1->google-genai) (0.16.0)\r\n",
      "Requirement already satisfied: annotated-types>=0.6.0 in /home/abroer/projects/IM1312/.venv1/lib/python3.12/site-packages (from pydantic<3.0.0,>=2.0.0->google-genai) (0.7.0)\r\n",
      "Requirement already satisfied: pydantic-core==2.33.2 in /home/abroer/projects/IM1312/.venv1/lib/python3.12/site-packages (from pydantic<3.0.0,>=2.0.0->google-genai) (2.33.2)\r\n",
      "Requirement already satisfied: typing-inspection>=0.4.0 in /home/abroer/projects/IM1312/.venv1/lib/python3.12/site-packages (from pydantic<3.0.0,>=2.0.0->google-genai) (0.4.1)\r\n",
      "Requirement already satisfied: charset-normalizer<4,>=2 in /home/abroer/projects/IM1312/.venv1/lib/python3.12/site-packages (from requests<3.0.0,>=2.28.1->google-genai) (3.4.2)\r\n",
      "Requirement already satisfied: urllib3<3,>=1.21.1 in /home/abroer/projects/IM1312/.venv1/lib/python3.12/site-packages (from requests<3.0.0,>=2.28.1->google-genai) (2.4.0)\r\n",
      "Requirement already satisfied: pyasn1<0.7.0,>=0.6.1 in /home/abroer/projects/IM1312/.venv1/lib/python3.12/site-packages (from pyasn1-modules>=0.2.1->google-auth<3.0.0,>=2.14.1->google-genai) (0.6.1)\r\n",
      "\r\n",
      "\u001B[1m[\u001B[0m\u001B[34;49mnotice\u001B[0m\u001B[1;39;49m]\u001B[0m\u001B[39;49m A new release of pip is available: \u001B[0m\u001B[31;49m25.0.1\u001B[0m\u001B[39;49m -> \u001B[0m\u001B[32;49m25.1.1\u001B[0m\r\n",
      "\u001B[1m[\u001B[0m\u001B[34;49mnotice\u001B[0m\u001B[1;39;49m]\u001B[0m\u001B[39;49m To update, run: \u001B[0m\u001B[32;49mpip install --upgrade pip\u001B[0m\r\n",
      "Note: you may need to restart the kernel to use updated packages.\n",
      "Requirement already satisfied: python-dotenv in /home/abroer/projects/IM1312/.venv1/lib/python3.12/site-packages (1.1.0)\r\n",
      "\r\n",
      "\u001B[1m[\u001B[0m\u001B[34;49mnotice\u001B[0m\u001B[1;39;49m]\u001B[0m\u001B[39;49m A new release of pip is available: \u001B[0m\u001B[31;49m25.0.1\u001B[0m\u001B[39;49m -> \u001B[0m\u001B[32;49m25.1.1\u001B[0m\r\n",
      "\u001B[1m[\u001B[0m\u001B[34;49mnotice\u001B[0m\u001B[1;39;49m]\u001B[0m\u001B[39;49m To update, run: \u001B[0m\u001B[32;49mpip install --upgrade pip\u001B[0m\r\n",
      "Note: you may need to restart the kernel to use updated packages.\n",
      "Requirement already satisfied: beautifulsoup4 in /home/abroer/projects/IM1312/.venv1/lib/python3.12/site-packages (4.13.4)\r\n",
      "Requirement already satisfied: soupsieve>1.2 in /home/abroer/projects/IM1312/.venv1/lib/python3.12/site-packages (from beautifulsoup4) (2.7)\r\n",
      "Requirement already satisfied: typing-extensions>=4.0.0 in /home/abroer/projects/IM1312/.venv1/lib/python3.12/site-packages (from beautifulsoup4) (4.14.0)\r\n",
      "\r\n",
      "\u001B[1m[\u001B[0m\u001B[34;49mnotice\u001B[0m\u001B[1;39;49m]\u001B[0m\u001B[39;49m A new release of pip is available: \u001B[0m\u001B[31;49m25.0.1\u001B[0m\u001B[39;49m -> \u001B[0m\u001B[32;49m25.1.1\u001B[0m\r\n",
      "\u001B[1m[\u001B[0m\u001B[34;49mnotice\u001B[0m\u001B[1;39;49m]\u001B[0m\u001B[39;49m To update, run: \u001B[0m\u001B[32;49mpip install --upgrade pip\u001B[0m\r\n",
      "Note: you may need to restart the kernel to use updated packages.\n",
      "Requirement already satisfied: googlesearch-python in /home/abroer/projects/IM1312/.venv1/lib/python3.12/site-packages (1.3.0)\r\n",
      "Requirement already satisfied: beautifulsoup4>=4.9 in /home/abroer/projects/IM1312/.venv1/lib/python3.12/site-packages (from googlesearch-python) (4.13.4)\r\n",
      "Requirement already satisfied: requests>=2.20 in /home/abroer/projects/IM1312/.venv1/lib/python3.12/site-packages (from googlesearch-python) (2.32.3)\r\n",
      "Requirement already satisfied: soupsieve>1.2 in /home/abroer/projects/IM1312/.venv1/lib/python3.12/site-packages (from beautifulsoup4>=4.9->googlesearch-python) (2.7)\r\n",
      "Requirement already satisfied: typing-extensions>=4.0.0 in /home/abroer/projects/IM1312/.venv1/lib/python3.12/site-packages (from beautifulsoup4>=4.9->googlesearch-python) (4.14.0)\r\n",
      "Requirement already satisfied: charset-normalizer<4,>=2 in /home/abroer/projects/IM1312/.venv1/lib/python3.12/site-packages (from requests>=2.20->googlesearch-python) (3.4.2)\r\n",
      "Requirement already satisfied: idna<4,>=2.5 in /home/abroer/projects/IM1312/.venv1/lib/python3.12/site-packages (from requests>=2.20->googlesearch-python) (3.10)\r\n",
      "Requirement already satisfied: urllib3<3,>=1.21.1 in /home/abroer/projects/IM1312/.venv1/lib/python3.12/site-packages (from requests>=2.20->googlesearch-python) (2.4.0)\r\n",
      "Requirement already satisfied: certifi>=2017.4.17 in /home/abroer/projects/IM1312/.venv1/lib/python3.12/site-packages (from requests>=2.20->googlesearch-python) (2025.4.26)\r\n",
      "\r\n",
      "\u001B[1m[\u001B[0m\u001B[34;49mnotice\u001B[0m\u001B[1;39;49m]\u001B[0m\u001B[39;49m A new release of pip is available: \u001B[0m\u001B[31;49m25.0.1\u001B[0m\u001B[39;49m -> \u001B[0m\u001B[32;49m25.1.1\u001B[0m\r\n",
      "\u001B[1m[\u001B[0m\u001B[34;49mnotice\u001B[0m\u001B[1;39;49m]\u001B[0m\u001B[39;49m To update, run: \u001B[0m\u001B[32;49mpip install --upgrade pip\u001B[0m\r\n",
      "Note: you may need to restart the kernel to use updated packages.\n"
     ]
    }
   ],
   "execution_count": 19
  },
  {
   "metadata": {
    "ExecuteTime": {
     "end_time": "2025-06-10T19:15:01.370410Z",
     "start_time": "2025-06-10T19:15:00.417417Z"
    }
   },
   "cell_type": "code",
   "source": [
    "from google import genai\n",
    "from dotenv import load_dotenv\n",
    "import os\n",
    "\n",
    "load_dotenv()\n",
    "api_key = os.getenv(\"GOOGLE_API_KEY\")\n",
    "cx_id = os.getenv(\"GOOGLE_CSE_ID\")\n",
    "client = genai.Client(api_key=api_key)"
   ],
   "id": "caecabb118debf18",
   "outputs": [],
   "execution_count": 1
  },
  {
   "metadata": {},
   "cell_type": "markdown",
   "source": [
    "eTake the input from file 'data/generated_recipes.json' and check each recipe for correctness.\n",
    "\n",
    "The RAG model first takes the name of the medicine from field 'medicijn' and retrieves the documentation from apotheek.nl. The pattern for the URL is:\n",
    "https://www.apotheek.nl/medicijnen/{medicijn}\n",
    "\n",
    "Then it checks if the medicine is valid by checking if the URL returns a 200 status code. If the medicine can not be found, the ai model is prompted to provide a single url to the documentation of the medicine on apotheek.nl. Then again the URL is checked for a 200 status code. If this still fails, the recipe is considered invalid.\n",
    "\n",
    "If the medicine is valid the documentation is provided as context to the AI model to check if the strength, form, number of doses, and instructions are valid. The AI model is also asked to check if the indication is relevant to the medical question.\n"
   ],
   "id": "c40e86d3ce858292"
  },
  {
   "cell_type": "code",
   "id": "initial_id",
   "metadata": {
    "collapsed": true,
    "ExecuteTime": {
     "end_time": "2025-06-10T19:15:11.299087Z",
     "start_time": "2025-06-10T19:15:10.331718Z"
    }
   },
   "source": [
    "from bs4 import BeautifulSoup\n",
    "import unicodedata\n",
    "import requests\n",
    "\n",
    "def read_medicijn_details(html_text: str):\n",
    "    \"\"\"Extracts the medicine details from the HTML text.\"\"\"\n",
    "    soup = BeautifulSoup(html_text, 'html.parser')\n",
    "    ul_element = soup.find('ul', id='container')\n",
    "    if ul_element:\n",
    "        return ul_element.get_text(strip=True)\n",
    "    else:\n",
    "        return \"Geen details gevonden voor het medicijn.\"\n",
    "\n",
    "def get_medicijn_details(medicijn: str):\n",
    "    # use google search to find the medicine documentation on apotheek.nl\n",
    "    query = f\"{medicijn} site:apotheek.nl\"\n",
    "    url = f\"https://www.googleapis.com/customsearch/v1?q={query}&key={api_key}&cx={cx_id}\"\n",
    "    search_response = requests.get(url).json()\n",
    "\n",
    "    if 'items' in search_response and len(search_response['items']) > 0:\n",
    "        medicijn_url = search_response['items'][0]['link']\n",
    "        return read_medicijn_details(requests.get(medicijn_url).text)\n",
    "    else:\n",
    "        return \"Geen details gevonden voor het medicijn.\"\n",
    "\n",
    "print(get_medicijn_details(\"Triamcinolonacetonide\"))"
   ],
   "outputs": [
    {
     "name": "stdout",
     "output_type": "stream",
     "text": [
      "Belangrijk om te weten over triamcinolonacetonide op de huidTriamcinolonacetonide is een bijnierschorshormoon (corticosteroïd). Het remt ontstekingen en maakt schilfers, jeuk en zwellingen minder.Bij huidaandoeningen met ontstekingen. Zoals eczeem, seborroïsch eczeem, jeuk, psoriasis en lichtovergevoeligheid.U heeft binnen een paar uur minder jeuk.Uw klachten als roodheid en schilfers worden binnen een paar dagen minder.Dit medicijn kan de verschijnselen van een huidinfectie maskeren. U merkt dus minder snel dat u een infectie op uw huid heeft. Dit komt doordat dit medicijn de verschijnselen van een infectie remt, zoals jeuk, zwellingen en roodheid. De infectie kan zich daardoor uitbreiden zonder dat u het merkt.Heeft u een infectie op uw huid? Of denkt u dat u een infectie op uw huid heeft? Gebruik dit medicijn niet op deze plek. Gebruik dit medicijn bijvoorbeeld niet op of in de buurt van voetschimmel, zweren, gordelroos en een koortslip. Gebruikt u ook een medicijn tegen deze infectie? Dan kunt u het wel gebruiken.Dunnere huid, waardoor u sneller wondjes of blauwe plekken krijgt. Stop met het gebruik als u merkt dat u hier last van heeft. De huid kan zich dan weer herstellen.Kijk bijHoe gebruik ik dit medicijn? hoeveel u moet smeren. Te dik smeren zorgt voor bijwerkingen. Als u te dun smeert, werkt het medicijn niet goed.Gebruik ook elke dag een vette crème tegen irritatie van de huid. De ontstoken plekken blijven dan langer weg.Wilt u borstvoeding geven? En gebruikt u dit medicijn op uw tepels? Was dit medicijn vóór de voeding weer van uw tepel af. Zo krijgt uw baby dit medicijn niet in de mondKlik hier voor een uitgebreide samenvatting als PDFWat doet triamcinolonacetonide op de huid en waarbij gebruik ik het?Triamcinolonacetonide behoort tot debijnierschorshormonenofcorticosteroïden. Op de huid toegepast remmen ze ontstekingen, verminderen schilfering, werken jeukstillend en verminderen zwelling.Bijnierschorshormonen die op de huid worden gebruikt, zijn ingedeeld naar sterkte. Triamcinolonacetonide behoort tot dematig sterk werkzamebijnierschorshormonen.Triamcinolonacetonide wordt bij veel huidaandoeningen gebruikt. De belangrijkste aandoeningen waarbij artsen het voorschrijven zijneczeem, seborroïsch eczeem, jeuk, psoriasis, lichtovergevoeligheidenoverige huidaandoeningenwaarbij de huid ontstoken is.EczeemVerschijnselenEczeem is een jeukende huiduitslag waarbij de huid rood, gezwollen, schilferig, stug en droog kan zijn. Ook kunnen zich blaasjes op de huid bevinden of kan de huid vochtig zijn. Door de jeuk heeft u de neiging te krabben, waardoor de huid nog meer beschadigt.OorzaakEczeem kan allerlei oorzaken hebben, zoals allergie, stress, overgevoeligheid, uitdroging en irriterende stoffen.BehandelingBij eczeem is het belangrijk een droge huid in te vetten, zodat de irritatie en jeuk verminderen. Smeer daarom minstens één keer per dag de huid in met een verzachtende crème of zalf, zonder werkzaam bestanddeel. Uw arts kan u dit op recept voorschrijven. De crèmes en zalven houden de huid soepel en voorkomen dat de huid verder uitdroogt.Behalve een verzachtende crème zal uw arts u meestal ook een huidmiddel met bijnierschorshormonen voorschrijven, zoals dit medicijn.EffectTriamcinolonacetonide remt de ontsteking, stilt de jeuk en vermindert de zwelling. De huid kan hierdoor herstellen: de jeuk, droogheid en schilfering nemen af. De huid zal er beter uitzien en is soepeler.Nadat u het medicijn heeft opgesmeerd, blijft het tussen de twaalf uur tot een dag werken. Als u het meerdere dagen achter elkaar opsmeert, ontstaat er een 'voorraadje' in de huid. Hierdoor blijft het enkele dagen werken, zonder dat u het opnieuw opsmeert.U heeft binnen een paar uur minder jeuk. Na enkele dagen zijn roodheid en schilfering minder.Lees meer overEczeemSeborroïsch eczeemVerschijnselenBij deze aandoening heeft u last van gelige, schilferende plekken, vooral op de hoofdhuid (roos), rond de mond en neus en tussen de wenkbrauwen. Dit zijn plaatsen waar veel talg vrijkomt.OorzaakHet huidvet van mensen met seborroïsch eczeem is anders dan van mensen zonder deze aandoening. Dit huidvet is een goede voedingsbodem voor de gistcellen, die bij iedereen op de huid voorkomen. Daardoor groeien de gistcellen harder dan normaal. Hun uitscheidingsproducten irriteren de huid.  Dit is vervelend omdat de hoofdhuid hier erg van kan jeuken, maar verder is het een onschuldige aandoening. Hoofdroos kan een milde vorm van seborroïsch eczeem zijn.Soms komt seborroïsch eczeem ook bij baby’s voor. Dat wordtberggenoemd en verdwijnt meestal binnen een paar weken tot maanden vanzelf.BehandelingMeestal schrijft uw arts u een shampoo of crème voor die werkzaam is tegen gisten, zoals ketoconazol. Bij heftige klachten kan uw arts adviseren ook tijdelijk triamcinolonacetonide te gebruiken om de jeuk tegen te gaan.EffectNadat u het medicijn heeft aangebracht blijft het tussen de twaalf uur tot een hele dag werken. Als u het meerdere dagen achter elkaar opsmeert ontstaat er een 'voorraadje' in de huid. Hierdoor blijft het enkele dagen werken, zonder dat u het opnieuw opsmeert. U heeft binnen een paar uur minder jeuk. Na enkele dagen zijn roodheid en schilfering minder. De korsten zullen dan ook verminderen of verdwijnen.Lees meer overSeborroïsch eczeemJeukInsectenbeten kunnen hevige jeuk veroorzaken. In sommige gevallen is er sprake van jeuk zonder dat de huid ontstoken is en zonder dat een oorzaak of genezing voor de jeuk gevonden kan worden. Dit kan bijvoorbeeld het geval zijn bij jeuk rond de anus.BehandelingTegen veel vormen van jeuk werkt een verkoelende (menthol)gel vaak goed. Is dat niet mogelijk of werkt het niet voldoende, dan kan de arts triamcinolonacetonide voorschrijven.Dit medicijn werkt jeukstillend. Het werkt binnen een paar uur nadat het is aangebracht.Lees meer overJeukPsoriasisVerschijnselenBij psoriasis groeit de bovenste laag van de huid te snel. Hierdoor ontstaan verdikkingen en schilfers. Ook kan de huid ontstoken zijn en erg jeuken. De ernst van de aandoening varieert van één tot twee kleine plekjes tot een uitgebreide schilfering van de huid. Kenmerkend zijn perioden van spontane verbetering of verslechtering. De oorzaak van psoriasis is niet bekend.BehandelingUw arts zal dit medicijn voorschrijven bij klachten in het gezicht of in de lichaamsplooien. Ook kunt u  dit medicijn gebruiken als onderhoudsbehandeling nadat uw klachten met een sterk werkend bijnierschorshormoon zijn verminderd.Heeft  u veel last van jeuk? Smeer dan ook met een verzachtende crème of zalf, zonder werkzaam bestanddeel. Uw arts kan u dit op recept voorschrijven. Die crème of zalf mag u zo vaak gebruiken als u wilt.WerkingTriamcinolonacetonide vermindert de overmatige huidgroei en roodheid, remt de ontsteking en stilt de jeuk. De huid kan hierdoor tot rust komen en zal daardoor minder jeuken en er beter uitzien. Als u het verschillende dagen achter elkaar opsmeert ontstaat er een 'voorraadje' in de huid, waardoor het daarna nog enkele dagen blijft werken, zonder dat u het opnieuw opsmeert. Nadat u het medicijn dun heeft opgesmeerd blijft het tussen de twaalf uur tot een hele dag werken. U heeft binnen een paar uur minder jeuk. Na enkele dagen zijn roodheid en schilfering minder.Lees meer overPsoriasisLichtovergevoeligheidLichtovergevoeligheid heet ook wel zonneallergie. Zonlicht bevat UV-A-licht en UV-B-licht. Bij zonnebrand is UV-B-licht de grootste boosdoener; bij zonneallergie is dat UV-A-licht.VerschijnselenAls uw huid overgevoelig is voor zonlicht, krijgt u huiduitslag nadat u in de zon bent geweest. U krijgt dan jeuk, roodheid, galbulten en een schilferende huid. Meestal begint de huidirritatie als de zon krachtiger wordt. Dus in het voorjaar of het begin van de zomer. De klachten kunnen elk jaar erger worden.OorzaakVaak is onbekend waarom de huid overgevoelig op de zon reageert.BehandelingBij overgevoeligheid voor licht is het advies om het zonlicht zo veel mogelijk te vermijden. Bij minder ernstige vormen kunt u ook uw huid in het voorjaar geleidelijk aan de zon laten wennen. Gebruik daarbij een goed zonnebrandmiddel. Eventueel kunt u ook uw huid laten wennen door in het voorjaar lichttherapie te ondergaan.Als wennen van de huid niet helpt, kan de arts een ontstekingsremmende crème of zalf voorschijven, zoals triamcinolonacetonide.EffectTriamcinolonacetonide remt de ontsteking op de huid en vermindert jeuk, roodheid en schilfering. U heeft binnen een paar uur minder jeuk. U merkt dat de roodheid en zwelling binnen enkele dagen minder worden.Lees meer overLichtovergevoeligheidWat zijn mogelijke bijwerkingen?Behalve het gewenste effect kan dit medicijn bijwerkingen geven.De belangrijkste bijwerkingen zijn de volgende:Zeer zelden (bij minder dan 1 op de 100 mensen)HuidinfectiesDit medicijn kan de verschijnselen van een huidinfectie maskeren. U merkt dus minder snel dat u een infectie op uw huid heeft. Bijvoorbeeld met een bacterie, schimmel of virus. Dit komt doordat dit medicijn de verschijnselen van een infectie remt, zoals jeuk, zwellingen en roodheid. De infectie kan zich daardoor uitbreiden zonder dat u het merkt.Heeft u een infectie op uw huid? Of denkt u dat u een infectie op uw huid heeft? Gebruik dit medicijn niet op deze plek. Gebruik dit medicijn bijvoorbeeld niet op of in de buurt van voetschimmel, zweren, gordelroos en een koortslip. Gebruikt u ook een medicijn tegen deze infectie? Dan kunt u het wel gebruiken.Overgevoeligheidvoor triamcinolonacetonide of een van de bestanddelen van dit huidmiddel.Dit merkt u aan een verergering van de huidaandoening of doordat de huidaandoening niet overgaat. Raadpleeg uw arts als u overgevoeligheid vermoedt. Blijkt u overgevoelig, geef dat dan aan de apotheker door. Het apotheekteam kan er op letten dat u het medicijn niet opnieuw krijgt.Bij aanbrengen op acne-plekken: eenverergering van acne.Raadpleeg uw arts als u hier last van heeft.Als u dit medicijnlanger dan 3 wekengebruikt, kunnen nog andere bijwerkingen optreden. De kans hierop is groter als u grote hoeveelheden van dit medicijn gebruikt. Bijvoorbeeld als een volwassene gedurende meerdere maanden meer dan vijftig gram zalf of crème per week gebruikt.Zelden (bij 1 tot 10 op de 100 mensen)Dunnere huid, waardoor u sneller wondjes of blauwe plekken krijgt.Stop met het gebruik als u merkt dat u hier last van heeft. De huid kan zich dan weer herstellen. Smeer dit medicijn vanwege deze bijwerking liever niet op dunne huid, zoals van het gezicht en de geslachtsdelen. Oude mensen hebben een erg dunne huid. Daarom moeten zij dit medicijn extra spaarzaam gebruiken.Zeer zelden (bij minder dan 1 op de 100 mensen)Bij gebruik in het gezicht:rode, jeukende uitslagrond de mond, neus of ogen. Soms pijnlijk of met schilfering.Raadpleeg dan uw arts. Meestal verdwijnen deze klachten vanzelf als u stopt met dit medicijn.Meer haargroeiop de plek waar u het medicijn heeft aangebracht.Cataract(grauwe staar), als dit medicijn per ongeluk steeds weer in het oog komt.Wees dus voorzichtig met smeren in het gezicht en smeer het alleen op advies van uw arts rond of in de buurt van het oog.Als u plotseling stopt met dit medicijn, kunnen deklachten weer terugkomen. U merkt dit aan een intens rode huid, een brandend gevoel en tintelingen. Ook op plaatsen op de huid waar u eerder geen klachten had.Bouw het gebruik daarom langzaam af. Overleg hierover met uw arts. Zie ook rubriek 'Hoe gebruik ik dit medicijn'.Littekenachtige strepen(striae), rode plekken, verbleking of juist een donkere verkleuring van de huid op de plek waar u dit medicijn aanbrengt.Deze huidafwijkingen zijn meestal blijvend. Raadpleeg uw arts bij deze verschijnselen.Bij mensen metglaucoom(verhoogde oogboldruk) kan dit medicijn de oogboldruk verder verhogen. U kunt dit merken aan wazig zien, minder zien, een rood of opgezwollen oog, hevige pijn aan het oog of aan het gezicht, misselijkheid en braken.Raadpleeg bij deze verschijnselen direct uw arts. De kans dat u hier last van krijgt is groter als er per ongeluk wat van dit medicijn direct in uw ogen komt. Smeer het daarom alleen op advies van uw arts rond of in de buurt van het oog. Deze bijwerking kan ook ontstaan als veel medicijn via de huid in het bloed is gekomen en zo het oog heeft kunnen bereiken. Meestal zal uw arts adviseren om dit medicijn niet langer dan vier weken in het gezicht te gebruiken.Neem contact op met uw apotheker of arts als u te veel last heeft van deze of andere bijwerkingen waar u zich zorgen over maakt.Heeft u last van een bijwerking? Meld dit dan bij het bijwerkingencentrum lareb. Hier worden alle meldingen over bijwerkingen van medicijnen in Nederland verzameld.Ik wil een bijwerking meldenUitleg frequentiesRegelmatig: bij meer dan 30 op de 100 mensenSoms: bij 10 tot 30 op de 100 mensenZelden: bij 1 tot 10 op de 100 mensenZeer zelden: bij minder dan 1 op de 100 mensenHoe gebruik ik dit medicijn?Doseerinstructies corticosteroïd op de huidUw arts heeft u waarschijnlijk een instructie gegeven hoe vaak en wanneer u dit medicijn moet aanbrengen. Het is nuttig deze instructie op te schrijven, zodat u dit later na kunt kijken. Kijk voor de juiste dosering ook altijd op het etiket van de apotheek.Hoe?Het is belangrijk dat u de juiste hoeveelheid bijnierschorshormoon (corticosteroïd) op uw huid smeert. Te dik smeren zorgt voor bijwerkingen. Maar te dun smeren zorgt ervoor dat het middel onvoldoende werkt. Een smeersel of oplossing mag er niet afdruipen. Meer informatie over het juiste gebruik en de juiste hoeveelheid vindt u opCorticosteroïden op de huid gebruiken.Was de vinger waarmee u het medicijn heeft aangebracht daarna met wat zeep. Ook kunt u voor het aanbrengen plastic handschoenen of een 'vingercondoom' gebruiken. Dit is een hoesje dat u over de vinger aanbrengt. Het is te krijgen in uw apotheek.Soms adviseert de arts de ingesmeerde plekken af te dekken met plastic folie of verband. Dit versterkt het effect, maar verhoogt ook de kans op sommige bijwerkingen.Gebruik niet meer dan honderd gram per volwassene per week. Als u meer gebruikt, heeft u een grotere kans op sommige bijwerkingen.Smeer dit medicijn alleen op advies van een arts rond of in de buurt van het oog. Als het per ongeluk toch in het oog komt, moet u het oog goed spoelen met water om het medicijn het verwijderen.Wanneer?Huidaandoeningen, zoals eczeem, seborroïsch eczeem, jeuk en psoriasisBreng het medicijn aan op een moment dat u weet dat er het eerstkomende halfuur geen water op de huid komt, anders spoelt u het er weer af. Het beste kunt u het daarom voor de nacht aanbrengen.Smeer de huidaandoening in wanneer deze verergert of weer opkomt. Vaak begint u met twee keer per dag. Als de klachten verminderen gaat u over op één keer per dag smeren. Het beste is het dit medicijn na een paar dagen smeren even niet te gebruiken. Bijvoorbeeld per week vier dagen dit medicijn smeren en daarna drie dagen niet.Gebruik verder elke dag de vette crème, die uw arts meestal ook heeft voorgeschreven. Deze gaat irritatie van de huid tegen, waardoor de ontstoken plekken langer wegblijven.LichtovergevoeligheidU brengt het middel twee keer per dag aan. Breng het medicijn aan op een moment dat er het eerstkomende half uur geen water op de huid komt. Anders spoelt het medicijn er weer af.Hoe lang?Huidaandoeningen, zoals eczeem, seborroïsch eczeem, jeuk en psoriasisSoms geeft de arts aan dit medicijn de eerste keer twee tot drie weken achter elkaar te gebruiken en daarna de behandeling telkens na enkele dagen te onderbreken.Jeuk: neem contact op met uw arts als de jeuk na twee weken nog niet is verminderd.Zodra de jeuk en de roodheid verminderen, kunt u dit medicijn afbouwen. Smeer het dan nog maximaal 1 keer per dag en sla steeds meer dagen over. Ga hiermee door totdat de klachten zijn verdwenen. Uw huisarts kan u hiervoor een afbouwschema geven. Het is belangrijk dat u het gebruik langzaam afbouwt. Want als u plotseling stopt, kunnen uw huidklachten weer terugkeren.LichtovergevoeligheidU mag dit medicijn maximaal 7 dagen gebruiken.Wat moet ik doen als ik een dosis ben vergeten?Laat u bij het gebruik van dit medicijn leiden door de ernst van uw aandoening. Gebruik het daarom als de aandoening verergert en verminder het gebruik als de klachten afnemen.Vaker dan eens in de twaalf uur insmeren heeft geen zin, maar vergroot wel de kans op bijwerkingen. Mocht u het medicijn er vlak na het aanbrengen per ongeluk afwassen, dan kunt u het wel opnieuw aanbrengen.Kan ik met dit medicijn autorijden, alcohol drinken en alles eten of drinken?autorijden, alcohol drinken en alles eten?Bij dit medicijn zijn hiervoor geen beperkingen.Mag ik triamcinolonacetonide op de huid met andere medicijnen gebruiken?Smeer andere huidmiddelen niet tegelijkertijd op de aangedane plekken. U heeft dan kans dat u dit medicijn met het volgende wegsmeert. Smeer eerst het corticosteroïd op de huid. Wacht dan ten minste 1 uur voordat u de vette crème of zalf smeert, die uw arts meestal ook heeft voorgeschreven.Mag ik dit medicijn gebruiken als ik zwanger ben, wil worden of borstvoeding geef?U kunt dit medicijn veilig gebruiken tijdens de zwangerschap of als u borstvoeding geeft. Dit medicijn komt in een heel kleine hoeveelheid in uw bloed. Hierdoor kan er maar weinig bij het kind en in de moedermelk komen.Heeft u dit medicijn op of rond de tepel gesmeerd? Maak voor de borstvoeding de tepel dan schoon met (afgekoeld gekookt) water.Gebruikt u medicijnen op recept of die u zonder recept koopt? Wilt u helpen om de kennis over medicijngebruik tijdens zwangerschap en borstvoeding te vergroten? Meld dan uw ervaring bijMoeders van Morgen.Mag ik zomaar met dit medicijn stoppen?U kunt niet zomaar stoppen met dit medicijn. Uw huidklachten kunnen dan terugkeren. Overleg hierover met uw arts. Uw huisarts kan u een afbouwschema geven. Blijf tijdens het afbouwen met dit medicijn uw huid goed verzorgen met een vette zalf of crème. Ga hier ook mee door als u helemaal met dit medicijn bent gestopt.Onder welke namen is triamcinolonacetonide op de huid verkrijgbaar?De werkzame stof triamcinolonacetonide op de huid zit in de volgende producten:Triamcinolonacetonide crème FNATriamcinolonacetonide  zalf FNATriamcinolon/salicylzuur oplossing FNATriAnalCremor Triamcinoloni FNATriamcinolonacetonide smeersel FNATriamcinolon vaselinecrème FNATriamcinolon/ureum crème FNATriamcinolon/salicylzuur crème FNATriamcinolon/salicylzuur smeersel FNADe officiële bijsluiter van de verschillende producten vantriamcinolonacetonide op de huidvindt u op:Geneesmiddeleninformatiebankvan het CBG.Heb ik een recept nodig?Ja, u heeft een recept nodig.Triamcinolonacetonideis sinds 1958 internationaal op de markt. In producten voor op de huid is het te krijgen als het merkloze Cremor Triamcinoloni FNA, Triamcinolonacetonide crème FNA, Triamcinolonacetonide zalf FNA, Triamcinolonacetonide smeersel FNA en Triamcinolon vaselinecrème FNA.Triamcinolonacetonide wordt voor op de huid ook gebruikt in combinatie met andere werkzame stoffen onder de merknaam Trianal. Triamcinolonacetonide is in combinatie met salicylzuur te krijgen als het merkloze Triamcinolon/salicylzuur oplossing FNA, Triamcinolon/salicylzuur crème FNA en Triamcinolon/salicylzuur smeersel FNA. Triamcinolonacetonide is in combinatie met ureum te krijgen als het merkloze Triamcinol/ureum-crème FNA.Wilt u meer weten over de prijs en vergoeding van uw medicijn? Lees dan verder in het thema:Medicijnprijzen en vergoedingen.\n"
     ]
    }
   ],
   "execution_count": 2
  },
  {
   "metadata": {},
   "cell_type": "markdown",
   "source": "Now use the medical docs to check each recipe for correctness.\n",
   "id": "d2e33fab9d46e80e"
  },
  {
   "metadata": {
    "ExecuteTime": {
     "end_time": "2025-06-10T19:42:57.860786Z",
     "start_time": "2025-06-10T19:42:57.845693Z"
    }
   },
   "cell_type": "code",
   "source": [
    "def check_recipe_rag(recipe, details):\n",
    "    \"\"\"Check the recipe using the RAG model.\"\"\"\n",
    "    medical_question = recipe.get('medische_vraag')\n",
    "    medicijn = recipe.get('medicijn')\n",
    "    recept = recipe.get('recept')\n",
    "\n",
    "    prompt = f\"\"\"\n",
    "    Controleer het volgende recept op juistheid:\n",
    "\n",
    "    Vraag: {medical_question}\n",
    "\n",
    "    Recept: {recept}\n",
    "\n",
    "    Details: {details}\n",
    "    \"\"\"\n",
    "\n",
    "    response = client.models.generate_content(\n",
    "        model=\"gemini-2.0-flash-001\",\n",
    "        contents=prompt,\n",
    "        config={\n",
    "            \"response_mime_type\": \"application/json\",\n",
    "            \"response_schema\": {\n",
    "                \"type\": \"object\",\n",
    "                \"properties\": {\n",
    "                    \"correct\": {\"type\": \"boolean\"},\n",
    "                    \"explanation\": {\"type\": \"string\"}\n",
    "                },\n",
    "                \"required\": [\"correct\", \"explanation\"]\n",
    "            },\n",
    "            \"system_instruction\": (\"Beoordeel met de tekst in 'Details' het recept op basis van de volgende criteria: \"\n",
    "                                  \"1. Bevat het medicijn een geldige naam, sterkte, vorm, aantal doses en instructies? \"\n",
    "                                  \"2. Is de indicatie relevant voor de medische vraag? \"\n",
    "                                  \"3. Geef een beoordeling van het recept als correct = True|False. \")\n",
    "        }\n",
    "    )\n",
    "    return json.loads(response.text)\n",
    "\n"
   ],
   "id": "4a37ef5c29675600",
   "outputs": [],
   "execution_count": 21
  },
  {
   "metadata": {
    "ExecuteTime": {
     "end_time": "2025-06-10T19:53:43.614395Z",
     "start_time": "2025-06-10T19:46:58.678483Z"
    }
   },
   "cell_type": "code",
   "source": [
    "import json\n",
    "\n",
    "# Read the JSON file\n",
    "with open('../data/generated_recipes.json', 'r', encoding='utf-8') as file:\n",
    "    recipes = json.load(file)\n",
    "\n",
    "# Loop through each recipe and access the 'medicijn' field\n",
    "for recipe in recipes:\n",
    "    medicijn = recipe.get('medicijn')\n",
    "    details = get_medicijn_details(medicijn)\n",
    "    if details.startswith('Geen details gevonden'):\n",
    "        recipe['correct'] = False\n",
    "        recipe['explanation'] = \"Medicijn niet gevonden op apotheek.nl.\"\n",
    "    else:\n",
    "        # prompt the AI model to check the recipe\n",
    "        # add the documentation to the prompt\n",
    "        result = check_recipe_rag(recipe, details)\n",
    "        recipe['correct'] = result['correct']\n",
    "        recipe['explanation'] = result['explanation']\n",
    "\n",
    "# Write the recipes to a JSON file\n",
    "output_file = \"../data/generated_recipes_rag_review.json\"\n",
    "with open(output_file, \"w\", encoding=\"utf-8\") as f:\n",
    "    json.dump(recipes, f, ensure_ascii=False, indent=4)\n",
    "\n"
   ],
   "id": "ea7cf4b6e7054d7a",
   "outputs": [],
   "execution_count": 24
  }
 ],
 "metadata": {
  "kernelspec": {
   "display_name": "Python 3",
   "language": "python",
   "name": "python3"
  },
  "language_info": {
   "codemirror_mode": {
    "name": "ipython",
    "version": 2
   },
   "file_extension": ".py",
   "mimetype": "text/x-python",
   "name": "python",
   "nbconvert_exporter": "python",
   "pygments_lexer": "ipython2",
   "version": "2.7.6"
  }
 },
 "nbformat": 4,
 "nbformat_minor": 5
}
