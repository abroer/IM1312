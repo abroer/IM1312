{
 "cells": [
  {
   "metadata": {},
   "cell_type": "markdown",
   "source": [
    "Take the input from file 'data/generated_recipes.json' and check each recipe for correctness.\n",
    "\n",
    "The RAG model first takes the name of the medicine from field 'medicijn' and retrieves the documentation from apotheek.nl. The pattern for the URL is:\n",
    "https://www.apotheek.nl/medicijnen/{medicijn}\n",
    "\n",
    "Then it checks if the medicine is valid by checking if the URL returns a 200 status code. If the medicine can not be found, the recipe is marked as invalid.\n",
    "\n",
    "If the medicine is valid the documentation is provided as context to the AI model to check if the strength, form, number of doses, and instructions are valid. The AI model is also asked to check if the indication is relevant to the medical question.\n"
   ],
   "id": "c40e86d3ce858292"
  },
  {
   "cell_type": "code",
   "id": "initial_id",
   "metadata": {
    "collapsed": true,
    "ExecuteTime": {
     "end_time": "2025-06-07T10:18:05.571571Z",
     "start_time": "2025-06-07T10:18:05.565742Z"
    }
   },
   "source": [
    "from bs4 import BeautifulSoup\n",
    "import unicodedata\n",
    "import requests\n",
    "\n",
    "def get_medicijn_details(medicijn: str):\n",
    "    normalized_medicijn = unicodedata.normalize('NFKD', medicijn.lower())\n",
    "    normalized_medicijn = ''.join(c for c in normalized_medicijn if not unicodedata.combining(c))\n",
    "\n",
    "    \"\"\"Retrieve details of the medicine from apotheek.nl.\"\"\"\n",
    "    url = f\"https://www.apotheek.nl/medicijnen/{normalized_medicijn}\"\n",
    "    response = requests.get(url)\n",
    "    if response.status_code == 200:\n",
    "        soup = BeautifulSoup(response.text, 'html.parser')\n",
    "        ul_element = soup.find('ul', id='container')\n",
    "        if ul_element:\n",
    "            return ul_element.get_text(strip=True)\n",
    "        else:\n",
    "            return f\"Geen details gevonden voor het medicijn {medicijn}.\"\n",
    "    else:\n",
    "        return f\"Medicijn '{medicijn}' is not valid.\"\n"
   ],
   "outputs": [],
   "execution_count": 19
  }
 ],
 "metadata": {
  "kernelspec": {
   "display_name": "Python 3",
   "language": "python",
   "name": "python3"
  },
  "language_info": {
   "codemirror_mode": {
    "name": "ipython",
    "version": 2
   },
   "file_extension": ".py",
   "mimetype": "text/x-python",
   "name": "python",
   "nbconvert_exporter": "python",
   "pygments_lexer": "ipython2",
   "version": "2.7.6"
  }
 },
 "nbformat": 4,
 "nbformat_minor": 5
}
