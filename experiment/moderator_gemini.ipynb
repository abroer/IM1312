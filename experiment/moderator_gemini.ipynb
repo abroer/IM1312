{
 "cells": [
  {
   "metadata": {
    "ExecuteTime": {
     "end_time": "2025-06-25T18:54:33.523757Z",
     "start_time": "2025-06-25T18:54:28.445735Z"
    }
   },
   "cell_type": "code",
   "source": [
    "%pip install google-genai\n",
    "%pip install python-dotenv\n",
    "%pip install beautifulsoup4\n",
    "%pip install googlesearch-python"
   ],
   "id": "1f6513dd4e07730",
   "outputs": [
    {
     "name": "stdout",
     "output_type": "stream",
     "text": [
      "Requirement already satisfied: google-genai in /home/abroer/projects/IM1312/.venv1/lib/python3.12/site-packages (1.19.0)\r\n",
      "Requirement already satisfied: anyio<5.0.0,>=4.8.0 in /home/abroer/projects/IM1312/.venv1/lib/python3.12/site-packages (from google-genai) (4.9.0)\r\n",
      "Requirement already satisfied: google-auth<3.0.0,>=2.14.1 in /home/abroer/projects/IM1312/.venv1/lib/python3.12/site-packages (from google-genai) (2.40.3)\r\n",
      "Requirement already satisfied: httpx<1.0.0,>=0.28.1 in /home/abroer/projects/IM1312/.venv1/lib/python3.12/site-packages (from google-genai) (0.28.1)\r\n",
      "Requirement already satisfied: pydantic<3.0.0,>=2.0.0 in /home/abroer/projects/IM1312/.venv1/lib/python3.12/site-packages (from google-genai) (2.11.5)\r\n",
      "Requirement already satisfied: requests<3.0.0,>=2.28.1 in /home/abroer/projects/IM1312/.venv1/lib/python3.12/site-packages (from google-genai) (2.32.3)\r\n",
      "Requirement already satisfied: websockets<15.1.0,>=13.0.0 in /home/abroer/projects/IM1312/.venv1/lib/python3.12/site-packages (from google-genai) (15.0.1)\r\n",
      "Requirement already satisfied: typing-extensions<5.0.0,>=4.11.0 in /home/abroer/projects/IM1312/.venv1/lib/python3.12/site-packages (from google-genai) (4.14.0)\r\n",
      "Requirement already satisfied: idna>=2.8 in /home/abroer/projects/IM1312/.venv1/lib/python3.12/site-packages (from anyio<5.0.0,>=4.8.0->google-genai) (3.10)\r\n",
      "Requirement already satisfied: sniffio>=1.1 in /home/abroer/projects/IM1312/.venv1/lib/python3.12/site-packages (from anyio<5.0.0,>=4.8.0->google-genai) (1.3.1)\r\n",
      "Requirement already satisfied: cachetools<6.0,>=2.0.0 in /home/abroer/projects/IM1312/.venv1/lib/python3.12/site-packages (from google-auth<3.0.0,>=2.14.1->google-genai) (5.5.2)\r\n",
      "Requirement already satisfied: pyasn1-modules>=0.2.1 in /home/abroer/projects/IM1312/.venv1/lib/python3.12/site-packages (from google-auth<3.0.0,>=2.14.1->google-genai) (0.4.2)\r\n",
      "Requirement already satisfied: rsa<5,>=3.1.4 in /home/abroer/projects/IM1312/.venv1/lib/python3.12/site-packages (from google-auth<3.0.0,>=2.14.1->google-genai) (4.9.1)\r\n",
      "Requirement already satisfied: certifi in /home/abroer/projects/IM1312/.venv1/lib/python3.12/site-packages (from httpx<1.0.0,>=0.28.1->google-genai) (2025.4.26)\r\n",
      "Requirement already satisfied: httpcore==1.* in /home/abroer/projects/IM1312/.venv1/lib/python3.12/site-packages (from httpx<1.0.0,>=0.28.1->google-genai) (1.0.9)\r\n",
      "Requirement already satisfied: h11>=0.16 in /home/abroer/projects/IM1312/.venv1/lib/python3.12/site-packages (from httpcore==1.*->httpx<1.0.0,>=0.28.1->google-genai) (0.16.0)\r\n",
      "Requirement already satisfied: annotated-types>=0.6.0 in /home/abroer/projects/IM1312/.venv1/lib/python3.12/site-packages (from pydantic<3.0.0,>=2.0.0->google-genai) (0.7.0)\r\n",
      "Requirement already satisfied: pydantic-core==2.33.2 in /home/abroer/projects/IM1312/.venv1/lib/python3.12/site-packages (from pydantic<3.0.0,>=2.0.0->google-genai) (2.33.2)\r\n",
      "Requirement already satisfied: typing-inspection>=0.4.0 in /home/abroer/projects/IM1312/.venv1/lib/python3.12/site-packages (from pydantic<3.0.0,>=2.0.0->google-genai) (0.4.1)\r\n",
      "Requirement already satisfied: charset-normalizer<4,>=2 in /home/abroer/projects/IM1312/.venv1/lib/python3.12/site-packages (from requests<3.0.0,>=2.28.1->google-genai) (3.4.2)\r\n",
      "Requirement already satisfied: urllib3<3,>=1.21.1 in /home/abroer/projects/IM1312/.venv1/lib/python3.12/site-packages (from requests<3.0.0,>=2.28.1->google-genai) (2.4.0)\r\n",
      "Requirement already satisfied: pyasn1<0.7.0,>=0.6.1 in /home/abroer/projects/IM1312/.venv1/lib/python3.12/site-packages (from pyasn1-modules>=0.2.1->google-auth<3.0.0,>=2.14.1->google-genai) (0.6.1)\r\n",
      "\r\n",
      "\u001B[1m[\u001B[0m\u001B[34;49mnotice\u001B[0m\u001B[1;39;49m]\u001B[0m\u001B[39;49m A new release of pip is available: \u001B[0m\u001B[31;49m25.0.1\u001B[0m\u001B[39;49m -> \u001B[0m\u001B[32;49m25.1.1\u001B[0m\r\n",
      "\u001B[1m[\u001B[0m\u001B[34;49mnotice\u001B[0m\u001B[1;39;49m]\u001B[0m\u001B[39;49m To update, run: \u001B[0m\u001B[32;49mpip install --upgrade pip\u001B[0m\r\n",
      "Note: you may need to restart the kernel to use updated packages.\n",
      "Requirement already satisfied: python-dotenv in /home/abroer/projects/IM1312/.venv1/lib/python3.12/site-packages (1.1.0)\r\n",
      "\r\n",
      "\u001B[1m[\u001B[0m\u001B[34;49mnotice\u001B[0m\u001B[1;39;49m]\u001B[0m\u001B[39;49m A new release of pip is available: \u001B[0m\u001B[31;49m25.0.1\u001B[0m\u001B[39;49m -> \u001B[0m\u001B[32;49m25.1.1\u001B[0m\r\n",
      "\u001B[1m[\u001B[0m\u001B[34;49mnotice\u001B[0m\u001B[1;39;49m]\u001B[0m\u001B[39;49m To update, run: \u001B[0m\u001B[32;49mpip install --upgrade pip\u001B[0m\r\n",
      "Note: you may need to restart the kernel to use updated packages.\n",
      "Requirement already satisfied: beautifulsoup4 in /home/abroer/projects/IM1312/.venv1/lib/python3.12/site-packages (4.13.4)\r\n",
      "Requirement already satisfied: soupsieve>1.2 in /home/abroer/projects/IM1312/.venv1/lib/python3.12/site-packages (from beautifulsoup4) (2.7)\r\n",
      "Requirement already satisfied: typing-extensions>=4.0.0 in /home/abroer/projects/IM1312/.venv1/lib/python3.12/site-packages (from beautifulsoup4) (4.14.0)\r\n",
      "\r\n",
      "\u001B[1m[\u001B[0m\u001B[34;49mnotice\u001B[0m\u001B[1;39;49m]\u001B[0m\u001B[39;49m A new release of pip is available: \u001B[0m\u001B[31;49m25.0.1\u001B[0m\u001B[39;49m -> \u001B[0m\u001B[32;49m25.1.1\u001B[0m\r\n",
      "\u001B[1m[\u001B[0m\u001B[34;49mnotice\u001B[0m\u001B[1;39;49m]\u001B[0m\u001B[39;49m To update, run: \u001B[0m\u001B[32;49mpip install --upgrade pip\u001B[0m\r\n",
      "Note: you may need to restart the kernel to use updated packages.\n",
      "Requirement already satisfied: googlesearch-python in /home/abroer/projects/IM1312/.venv1/lib/python3.12/site-packages (1.3.0)\r\n",
      "Requirement already satisfied: beautifulsoup4>=4.9 in /home/abroer/projects/IM1312/.venv1/lib/python3.12/site-packages (from googlesearch-python) (4.13.4)\r\n",
      "Requirement already satisfied: requests>=2.20 in /home/abroer/projects/IM1312/.venv1/lib/python3.12/site-packages (from googlesearch-python) (2.32.3)\r\n",
      "Requirement already satisfied: soupsieve>1.2 in /home/abroer/projects/IM1312/.venv1/lib/python3.12/site-packages (from beautifulsoup4>=4.9->googlesearch-python) (2.7)\r\n",
      "Requirement already satisfied: typing-extensions>=4.0.0 in /home/abroer/projects/IM1312/.venv1/lib/python3.12/site-packages (from beautifulsoup4>=4.9->googlesearch-python) (4.14.0)\r\n",
      "Requirement already satisfied: charset-normalizer<4,>=2 in /home/abroer/projects/IM1312/.venv1/lib/python3.12/site-packages (from requests>=2.20->googlesearch-python) (3.4.2)\r\n",
      "Requirement already satisfied: idna<4,>=2.5 in /home/abroer/projects/IM1312/.venv1/lib/python3.12/site-packages (from requests>=2.20->googlesearch-python) (3.10)\r\n",
      "Requirement already satisfied: urllib3<3,>=1.21.1 in /home/abroer/projects/IM1312/.venv1/lib/python3.12/site-packages (from requests>=2.20->googlesearch-python) (2.4.0)\r\n",
      "Requirement already satisfied: certifi>=2017.4.17 in /home/abroer/projects/IM1312/.venv1/lib/python3.12/site-packages (from requests>=2.20->googlesearch-python) (2025.4.26)\r\n",
      "\r\n",
      "\u001B[1m[\u001B[0m\u001B[34;49mnotice\u001B[0m\u001B[1;39;49m]\u001B[0m\u001B[39;49m A new release of pip is available: \u001B[0m\u001B[31;49m25.0.1\u001B[0m\u001B[39;49m -> \u001B[0m\u001B[32;49m25.1.1\u001B[0m\r\n",
      "\u001B[1m[\u001B[0m\u001B[34;49mnotice\u001B[0m\u001B[1;39;49m]\u001B[0m\u001B[39;49m To update, run: \u001B[0m\u001B[32;49mpip install --upgrade pip\u001B[0m\r\n",
      "Note: you may need to restart the kernel to use updated packages.\n"
     ]
    }
   ],
   "execution_count": 1
  },
  {
   "metadata": {
    "ExecuteTime": {
     "end_time": "2025-06-25T18:54:34.570069Z",
     "start_time": "2025-06-25T18:54:33.714368Z"
    }
   },
   "cell_type": "code",
   "source": [
    "from google import genai\n",
    "from dotenv import load_dotenv\n",
    "import os\n",
    "\n",
    "load_dotenv()\n",
    "api_key = os.getenv(\"GOOGLE_API_KEY\")\n",
    "cx_id = os.getenv(\"GOOGLE_CSE_ID\")\n",
    "client = genai.Client(api_key=api_key)"
   ],
   "id": "caecabb118debf18",
   "outputs": [],
   "execution_count": 2
  },
  {
   "metadata": {},
   "cell_type": "markdown",
   "source": [
    "Take the input from file 'data/generated_recipes.json' and check each recipe for correctness.\n",
    "\n",
    "The moderaror will take the question and recipe to prompt the LLM model to check the recipe for correctness."
   ],
   "id": "c40e86d3ce858292"
  },
  {
   "metadata": {},
   "cell_type": "markdown",
   "source": "Now use the medical docs to check each recipe for correctness.\n",
   "id": "d2e33fab9d46e80e"
  },
  {
   "metadata": {
    "ExecuteTime": {
     "end_time": "2025-06-25T18:54:34.587744Z",
     "start_time": "2025-06-25T18:54:34.582524Z"
    }
   },
   "cell_type": "code",
   "source": [
    "def check_recipe_moderator(recipe):\n",
    "    \"\"\"Check the recipe using the RAG model.\"\"\"\n",
    "    medical_question = recipe.get('medische_vraag')\n",
    "    recept = recipe.get('recept')\n",
    "    patient_info = recipe.get('patientinformatie')\n",
    "\n",
    "    prompt = f\"\"\"\n",
    "    Controleer het volgende recept op juistheid:\n",
    "\n",
    "    Vraag: {medical_question}\n",
    "\n",
    "    Patient informatie: {patient_info}\n",
    "\n",
    "    Recept: {recept}\n",
    "    \"\"\"\n",
    "\n",
    "    response = client.models.generate_content(\n",
    "        model=\"gemini-2.0-flash-001\",\n",
    "        contents=prompt,\n",
    "        config={\n",
    "            \"response_mime_type\": \"application/json\",\n",
    "            \"response_schema\": {\n",
    "                \"type\": \"object\",\n",
    "                \"properties\": {\n",
    "                    \"correct\": {\"type\": \"boolean\"},\n",
    "                    \"explanation\": {\"type\": \"string\"}\n",
    "                },\n",
    "                \"required\": [\"correct\", \"explanation\"]\n",
    "            },\n",
    "            \"system_instruction\": (\"Beoordeel het recept op basis van de volgende criteria: \"\n",
    "                                  \"1. Bevat het medicijn een geldige naam, sterkte, vorm, aantal doses en instructies? \"\n",
    "                                  \"2. Is de indicatie relevant voor de medische vraag en gegeven patient informatie? \"\n",
    "                                  \"3. Geef een beoordeling van het recept als correct = True|False. \")\n",
    "        }\n",
    "    )\n",
    "    return json.loads(response.text)\n",
    "\n"
   ],
   "id": "4a37ef5c29675600",
   "outputs": [],
   "execution_count": 3
  },
  {
   "metadata": {
    "ExecuteTime": {
     "end_time": "2025-06-25T18:58:14.951688Z",
     "start_time": "2025-06-25T18:54:34.641559Z"
    }
   },
   "cell_type": "code",
   "source": [
    "import json\n",
    "\n",
    "# Read the JSON file\n",
    "with open('../data/generated_recipes.json', 'r', encoding='utf-8') as file:\n",
    "    recipes = json.load(file)\n",
    "\n",
    "# Loop through each recipe and access the 'medicijn' field\n",
    "for recipe in recipes:\n",
    "    medicijn = recipe.get('medicijn')\n",
    "    # prompt the AI model to check the recipe\n",
    "    # add the documentation to the prompt\n",
    "    result = check_recipe_moderator(recipe)\n",
    "    recipe['correct'] = result['correct']\n",
    "    recipe['explanation'] = result['explanation']\n",
    "\n",
    "# Write the recipes to a JSON file\n",
    "output_file = \"../data/generated_recipes_moderator_review.json\"\n",
    "with open(output_file, \"w\", encoding=\"utf-8\") as f:\n",
    "    json.dump(recipes, f, ensure_ascii=False, indent=4)\n"
   ],
   "id": "ea7cf4b6e7054d7a",
   "outputs": [],
   "execution_count": 4
  }
 ],
 "metadata": {
  "kernelspec": {
   "display_name": "Python 3",
   "language": "python",
   "name": "python3"
  },
  "language_info": {
   "codemirror_mode": {
    "name": "ipython",
    "version": 2
   },
   "file_extension": ".py",
   "mimetype": "text/x-python",
   "name": "python",
   "nbconvert_exporter": "python",
   "pygments_lexer": "ipython2",
   "version": "2.7.6"
  }
 },
 "nbformat": 4,
 "nbformat_minor": 5
}
